{
 "cells": [
  {
   "cell_type": "code",
   "execution_count": 476,
   "metadata": {
    "collapsed": true
   },
   "outputs": [],
   "source": [
    "import pandas as pd\n",
    "import numpy as np\n",
    "import string\n"
   ]
  },
  {
   "cell_type": "code",
   "execution_count": 477,
   "metadata": {
    "collapsed": false
   },
   "outputs": [
    {
     "data": {
      "text/plain": [
       "name      object\n",
       "review    object\n",
       "rating     int64\n",
       "dtype: object"
      ]
     },
     "execution_count": 477,
     "metadata": {},
     "output_type": "execute_result"
    }
   ],
   "source": [
    "products =pd.read_csv('./data/amazon_baby.csv')\n",
    "products.dtypes\n"
   ]
  },
  {
   "cell_type": "code",
   "execution_count": 478,
   "metadata": {
    "collapsed": false
   },
   "outputs": [
    {
     "name": "stdout",
     "output_type": "stream",
     "text": [
      "{'$', '\\\\', '-', '%', '>', ')', '(', '`', '?', '^', '*', '}', '.', '[', ']', '~', '+', '\"', '/', '=', '_', ',', ';', '<', '&', '@', '|', '#', ':', '{', '!', \"'\"}\n"
     ]
    }
   ],
   "source": [
    "exclude = set(string.punctuation)\n",
    "print ((exclude))\n",
    "\n",
    "\n",
    "def remove_punctuation(text):\n",
    "    instr = str(text)\n",
    "    for c in exclude:\n",
    "        #print (c)\n",
    "        instr = instr.replace(c,\"\")\n",
    "    #print (\"--\",(text,c))\n",
    "    return instr\n",
    "        \n",
    "#products['review']\n",
    "products['review_clean'] = products['review'].apply(lambda x: remove_punctuation(x))"
   ]
  },
  {
   "cell_type": "code",
   "execution_count": 479,
   "metadata": {
    "collapsed": false
   },
   "outputs": [
    {
     "data": {
      "text/plain": [
       "0         These flannel wipes are OK but in my opinion n...\n",
       "1         it came early and was not disappointed i love ...\n",
       "2         Very soft and comfortable and warmer than it l...\n",
       "3         This is a product well worth the purchase  I h...\n",
       "4         All of my kids have cried nonstop when I tried...\n",
       "5         When the Binky Fairy came to our house we didn...\n",
       "6         Lovely book its bound tightly so you may not b...\n",
       "7         Perfect for new parents We were able to keep t...\n",
       "8         A friend of mine pinned this product on Pinter...\n",
       "9         This has been an easy way for my nanny to reco...\n",
       "10        I love this journal and our nanny uses it ever...\n",
       "11        This book is perfect  Im a first time new mom ...\n",
       "12        I originally just gave the nanny a pad of pape...\n",
       "13        I thought keeping a simple handwritten journal...\n",
       "14        Space for monthly photos info and a lot of use...\n",
       "15        I bought this calender for myself for my secon...\n",
       "16        I love this little calender you can keep track...\n",
       "17        This was the only calender I could find for th...\n",
       "18        I completed a calendar for my sons first year ...\n",
       "19        We wanted to get something to keep track of ou...\n",
       "20        I had a hard time finding a second year calend...\n",
       "21        I only purchased a secondyear calendar for my ...\n",
       "22        I LOVE this calendar for recording events of m...\n",
       "23        Calendar is exactly as described but I find th...\n",
       "24        Wife loves this calender Comes with a lot of s...\n",
       "25        My daughter had her 1st baby over a year ago S...\n",
       "26        Extremely useful As a new mom tired and inexpe...\n",
       "27        My son loves peek a boo at this age of 9 month...\n",
       "28        One of babys first and favorite books and it i...\n",
       "29        I like how the book has a hook to attach it to...\n",
       "                                ...                        \n",
       "183501    I received a free sample from VIPU program for...\n",
       "183502    It got here incredibly fast  it is a nice dura...\n",
       "183503    I got this case in the mail today it came on t...\n",
       "183504    Free caseLove it The color was great firm hold...\n",
       "183505    I received a free sample from VIPU program for...\n",
       "183506    This case definitely isnt cheap It feels very ...\n",
       "183507    got this for my wife and she loves it would de...\n",
       "183508    love this case It fit perfectly and the color ...\n",
       "183509    this case is the greatest very cool and stylis...\n",
       "183510                  Great fit Really love how red it is\n",
       "183511    I received a free sample from VIPU program for...\n",
       "183512    I received a free sample from VIPU program for...\n",
       "183513    I was a very surprised by the quality of this ...\n",
       "183514    I received a free sample from VIPU program for...\n",
       "183515    I love this phone case  My  iPhone is always s...\n",
       "183516    Ive ordered a ton of 34suckers34 to try and fi...\n",
       "183517    I recieved this product free of charge and abs...\n",
       "183518    The tube is soft and easy to use and the tip i...\n",
       "183519    I love this so much It works way better than t...\n",
       "183520    The aspirator works well but needs to come wit...\n",
       "183521    Up until recently I have hated flying putting ...\n",
       "183522    I bought this as a fathers day gift for my dad...\n",
       "183523    I love that these can hold purees OR liquids a...\n",
       "183524    I love this product it makes my life easier Wi...\n",
       "183525    This reusable squeeze bottle is the best I hav...\n",
       "183526    Such a great idea very handy to have and look ...\n",
       "183527    This product rocks  It is a great blend of fun...\n",
       "183528    This item looks great and cool for my kidsI kn...\n",
       "183529    I am extremely happy with this product I have ...\n",
       "183530    I love this product very mush  I have bought m...\n",
       "Name: review_clean, dtype: object"
      ]
     },
     "execution_count": 479,
     "metadata": {},
     "output_type": "execute_result"
    }
   ],
   "source": [
    "products['review_clean']"
   ]
  },
  {
   "cell_type": "markdown",
   "metadata": {},
   "source": [
    "\n",
    "3. We will ignore all reviews with rating = 3, since they tend to have a neutral sentiment. \n"
   ]
  },
  {
   "cell_type": "code",
   "execution_count": 480,
   "metadata": {
    "collapsed": false
   },
   "outputs": [],
   "source": [
    "products = products[products['rating'] != 3]"
   ]
  },
  {
   "cell_type": "markdown",
   "metadata": {
    "collapsed": true
   },
   "source": [
    "4. Now, we will assign reviews with a rating of 4 or higher to be positive reviews, while the ones with rating of 2 or lower are negative. For the sentiment column, we use +1 for the positive class label and -1 for the negative class label. A good way is to create an anonymous function that converts a rating into a class label and then apply that function to every element in the rating column. \n",
    "\n"
   ]
  },
  {
   "cell_type": "code",
   "execution_count": 481,
   "metadata": {
    "collapsed": false
   },
   "outputs": [],
   "source": [
    "products['sentiment'] = products['rating'].apply(lambda rating : 1 if rating > 3 else -1)"
   ]
  },
  {
   "cell_type": "code",
   "execution_count": 482,
   "metadata": {
    "collapsed": false
   },
   "outputs": [],
   "source": [
    "#\n",
    "# load idx files for test and train data\n",
    "#\n",
    "import json\n",
    "\n",
    "with open('data/module-9-assignment-test-idx.json','r') as f:\n",
    "    test_idx = json.load(f)\n",
    "f.close()\n",
    "    \n",
    "with open ('data/module-9-assignment-train-idx.json','r') as f:\n",
    "    train_idx = json.load(f)\n",
    "f.close()\n",
    "\n",
    "train_data=products.iloc[train_idx]\n",
    "test_data =products.iloc[test_idx]\n",
    "\n",
    "\n",
    "\n"
   ]
  },
  {
   "cell_type": "code",
   "execution_count": 483,
   "metadata": {
    "collapsed": false
   },
   "outputs": [
    {
     "data": {
      "text/plain": [
       "133416"
      ]
     },
     "execution_count": 483,
     "metadata": {},
     "output_type": "execute_result"
    }
   ],
   "source": [
    "len(train_data)\n"
   ]
  },
  {
   "cell_type": "markdown",
   "metadata": {
    "collapsed": false
   },
   "source": [
    "We will now compute the word count for each word that appears in the reviews. A vector consisting of word counts is often referred to as bag-of-word features. Since most words occur in only a few reviews, word count vectors are sparse. For this reason, scikit-learn and many other tools use sparse matrices to store a collection of word count vectors. Refer to appropriate manuals to produce sparse word count vectors. General steps for extracting word count vectors are as follows:\n",
    "\n",
    "Learn a vocabulary (set of all words) from the training data. Only the words that show up in the training data will be considered for feature extraction.\n",
    "Compute the occurrences of the words in each review and collect them into a row vector.\n",
    "Build a sparse matrix where each row is the word count vector for the corresponding review. Call this matrix train_matrix.\n",
    "Using the same mapping between words and columns, convert the test data into a sparse matrix test_matrix.\n",
    "The following cell uses CountVectorizer in scikit-learn. Notice the token_pattern argument in the constructor."
   ]
  },
  {
   "cell_type": "code",
   "execution_count": 484,
   "metadata": {
    "collapsed": true
   },
   "outputs": [],
   "source": [
    "from sklearn.feature_extraction.text import CountVectorizer\n",
    "\n",
    "vectorizer = CountVectorizer(token_pattern=r'\\b\\w+\\b')\n",
    "     # Use this token pattern to keep single-letter words\n",
    "# First, learn vocabulary from the training data and assign columns to words\n",
    "# Then convert the training data into a sparse matrix\n",
    "train_matrix = vectorizer.fit_transform(train_data['review_clean'])\n",
    "# Second, convert the test data into a sparse matrix, using the same word-column mapping\n",
    "test_matrix = vectorizer.transform(test_data['review_clean'])"
   ]
  },
  {
   "cell_type": "code",
   "execution_count": 485,
   "metadata": {
    "collapsed": false
   },
   "outputs": [
    {
     "name": "stdout",
     "output_type": "stream",
     "text": [
      "(133416, 121713)\n",
      "(133416,)\n"
     ]
    },
    {
     "data": {
      "text/html": [
       "<div>\n",
       "<table border=\"1\" class=\"dataframe\">\n",
       "  <thead>\n",
       "    <tr style=\"text-align: right;\">\n",
       "      <th></th>\n",
       "      <th>name</th>\n",
       "      <th>review</th>\n",
       "      <th>rating</th>\n",
       "      <th>review_clean</th>\n",
       "      <th>sentiment</th>\n",
       "    </tr>\n",
       "  </thead>\n",
       "  <tbody>\n",
       "    <tr>\n",
       "      <th>1</th>\n",
       "      <td>Planetwise Wipe Pouch</td>\n",
       "      <td>it came early and was not disappointed. i love...</td>\n",
       "      <td>5</td>\n",
       "      <td>it came early and was not disappointed i love ...</td>\n",
       "      <td>1</td>\n",
       "    </tr>\n",
       "    <tr>\n",
       "      <th>2</th>\n",
       "      <td>Annas Dream Full Quilt with 2 Shams</td>\n",
       "      <td>Very soft and comfortable and warmer than it l...</td>\n",
       "      <td>5</td>\n",
       "      <td>Very soft and comfortable and warmer than it l...</td>\n",
       "      <td>1</td>\n",
       "    </tr>\n",
       "    <tr>\n",
       "      <th>3</th>\n",
       "      <td>Stop Pacifier Sucking without tears with Thumb...</td>\n",
       "      <td>This is a product well worth the purchase.  I ...</td>\n",
       "      <td>5</td>\n",
       "      <td>This is a product well worth the purchase  I h...</td>\n",
       "      <td>1</td>\n",
       "    </tr>\n",
       "    <tr>\n",
       "      <th>4</th>\n",
       "      <td>Stop Pacifier Sucking without tears with Thumb...</td>\n",
       "      <td>All of my kids have cried non-stop when I trie...</td>\n",
       "      <td>5</td>\n",
       "      <td>All of my kids have cried nonstop when I tried...</td>\n",
       "      <td>1</td>\n",
       "    </tr>\n",
       "    <tr>\n",
       "      <th>5</th>\n",
       "      <td>Stop Pacifier Sucking without tears with Thumb...</td>\n",
       "      <td>When the Binky Fairy came to our house, we did...</td>\n",
       "      <td>5</td>\n",
       "      <td>When the Binky Fairy came to our house we didn...</td>\n",
       "      <td>1</td>\n",
       "    </tr>\n",
       "  </tbody>\n",
       "</table>\n",
       "</div>"
      ],
      "text/plain": [
       "                                                name  \\\n",
       "1                              Planetwise Wipe Pouch   \n",
       "2                Annas Dream Full Quilt with 2 Shams   \n",
       "3  Stop Pacifier Sucking without tears with Thumb...   \n",
       "4  Stop Pacifier Sucking without tears with Thumb...   \n",
       "5  Stop Pacifier Sucking without tears with Thumb...   \n",
       "\n",
       "                                              review  rating  \\\n",
       "1  it came early and was not disappointed. i love...       5   \n",
       "2  Very soft and comfortable and warmer than it l...       5   \n",
       "3  This is a product well worth the purchase.  I ...       5   \n",
       "4  All of my kids have cried non-stop when I trie...       5   \n",
       "5  When the Binky Fairy came to our house, we did...       5   \n",
       "\n",
       "                                        review_clean  sentiment  \n",
       "1  it came early and was not disappointed i love ...          1  \n",
       "2  Very soft and comfortable and warmer than it l...          1  \n",
       "3  This is a product well worth the purchase  I h...          1  \n",
       "4  All of my kids have cried nonstop when I tried...          1  \n",
       "5  When the Binky Fairy came to our house we didn...          1  "
      ]
     },
     "execution_count": 485,
     "metadata": {},
     "output_type": "execute_result"
    }
   ],
   "source": [
    "print (train_matrix.shape)\n",
    "print (train_data['sentiment'].shape)\n",
    "train_data.head()"
   ]
  },
  {
   "cell_type": "code",
   "execution_count": 486,
   "metadata": {
    "collapsed": false
   },
   "outputs": [
    {
     "data": {
      "text/plain": [
       "LogisticRegression(C=1.0, class_weight=None, dual=False, fit_intercept=True,\n",
       "          intercept_scaling=1, max_iter=100, multi_class='ovr', n_jobs=1,\n",
       "          penalty='l2', random_state=None, solver='liblinear', tol=0.0001,\n",
       "          verbose=0, warm_start=False)"
      ]
     },
     "execution_count": 486,
     "metadata": {},
     "output_type": "execute_result"
    }
   ],
   "source": [
    "from sklearn.linear_model import LogisticRegression\n",
    "logreg = LogisticRegression()\n",
    "logreg.fit(train_matrix,train_data['sentiment'])"
   ]
  },
  {
   "cell_type": "code",
   "execution_count": 487,
   "metadata": {
    "collapsed": true
   },
   "outputs": [],
   "source": [
    "from sklearn.metrics import accuracy_score\n",
    "accuracy_score = accuracy_score(y_true=test_data['sentiment'], y_pred=logreg.predict(test_matrix))"
   ]
  },
  {
   "cell_type": "code",
   "execution_count": 488,
   "metadata": {
    "collapsed": false
   },
   "outputs": [
    {
     "name": "stdout",
     "output_type": "stream",
     "text": [
      "Test Accuracy =  0.932355411567\n"
     ]
    }
   ],
   "source": [
    "print (\"Test Accuracy = \", accuracy_score)"
   ]
  },
  {
   "cell_type": "code",
   "execution_count": 489,
   "metadata": {
    "collapsed": false
   },
   "outputs": [
    {
     "name": "stdout",
     "output_type": "stream",
     "text": [
      "Baseline accuracy(majority class classifier): 0.8427825773938085\n"
     ]
    }
   ],
   "source": [
    "baseline = (len((test_data[test_data['sentiment'] ==1]))/len(test_data))\n",
    "print (\"Baseline accuracy(majority class classifier):\", baseline)"
   ]
  },
  {
   "cell_type": "markdown",
   "metadata": {},
   "source": []
  },
  {
   "cell_type": "markdown",
   "metadata": {},
   "source": [
    "** The logreg is better than baseline **"
   ]
  },
  {
   "cell_type": "code",
   "execution_count": 490,
   "metadata": {
    "collapsed": false
   },
   "outputs": [
    {
     "name": "stdout",
     "output_type": "stream",
     "text": [
      "target label | predicted_label |count\n",
      "-------------+-----------------+-----\n",
      "     -1      |      -1       | 3799\n",
      "     -1      |       1       | 1442\n",
      "      1      |      -1       |  813\n",
      "      1      |       1       |27282\n"
     ]
    }
   ],
   "source": [
    "from sklearn.metrics import confusion_matrix\n",
    "cmat = confusion_matrix(y_true=test_data['sentiment'],\n",
    "                        y_pred=logreg.predict(test_matrix),\n",
    "                       labels = logreg.classes_) # use the same order of class as the LR model\n",
    "print('target label | predicted_label |count')\n",
    "print('-------------+-----------------+-----')\n",
    "for i, target_label in enumerate(logreg.classes_):\n",
    "    for j, predicted_label in enumerate(logreg.classes_):\n",
    "        print('{0:^13}|{1:^15}|{2:5d}'.format(target_label,predicted_label,cmat[i,j]))\n",
    "       "
   ]
  },
  {
   "cell_type": "markdown",
   "metadata": {},
   "source": [
    "** False positive = 1442. False Negative 813. True Negative = 3779. True positive=27282**"
   ]
  },
  {
   "cell_type": "markdown",
   "metadata": {},
   "source": [
    " Put yourself in the shoes of a manufacturer that sells a baby product on Amazon.com and you want to monitor your product's reviews in order to respond to complaints. Even a few negative reviews may generate a lot of bad publicity about the product. So you don't want to miss any reviews with negative sentiments --- you'd rather put up with false alarms about potentially negative reviews instead of missing negative reviews entirely. ** In other words, false positives cost more than false negatives. **(It may be the other way around for other scenarios, but let's stick with the manufacturer's scenario for now.)\n",
    "\n"
   ]
  },
  {
   "cell_type": "code",
   "execution_count": 491,
   "metadata": {
    "collapsed": false
   },
   "outputs": [],
   "source": [
    "false_positive=1442\n",
    "false_negative=813\n",
    "true_negative=3779\n",
    "true_positive=27282\n",
    "false_positive_cost=100\n",
    "false_negative_cost=1\n"
   ]
  },
  {
   "cell_type": "code",
   "execution_count": 492,
   "metadata": {
    "collapsed": true
   },
   "outputs": [],
   "source": [
    "cost=false_positive_cost*false_positive+false_negative_cost*false_negative"
   ]
  },
  {
   "cell_type": "code",
   "execution_count": 493,
   "metadata": {
    "collapsed": false
   },
   "outputs": [
    {
     "data": {
      "text/plain": [
       "145013"
      ]
     },
     "execution_count": 493,
     "metadata": {},
     "output_type": "execute_result"
    }
   ],
   "source": [
    "cost"
   ]
  },
  {
   "cell_type": "markdown",
   "metadata": {},
   "source": [
    "** COST = 145013**"
   ]
  },
  {
   "cell_type": "markdown",
   "metadata": {},
   "source": [
    "You may not have exact dollar amounts for each kind of mistake. Instead, you may simply prefer to reduce the percentage of false positives to be less than, say, 3.5% of all positive predictions. This is where precision comes in:\n",
    "\n",
    "\n",
    "So to keep the percentage of false positives below 3.5% of positive predictions, we must raise the precision to 96.5% or higher.\n",
    "\n",
    "First, let us compute the precision of the logistic regression classifier on the test_data. Scikit-learn provides a predefined method for computing precision. (Consult appropriate manuals if you are using other tools.)"
   ]
  },
  {
   "cell_type": "code",
   "execution_count": 494,
   "metadata": {
    "collapsed": true
   },
   "outputs": [],
   "source": [
    "from sklearn.metrics import precision_score\n",
    "precision = precision_score(y_true=test_data['sentiment'], y_pred=logreg.predict(test_matrix))"
   ]
  },
  {
   "cell_type": "code",
   "execution_count": 495,
   "metadata": {
    "collapsed": false
   },
   "outputs": [
    {
     "name": "stdout",
     "output_type": "stream",
     "text": [
      "precision on test data 0.949798078262\n"
     ]
    },
    {
     "data": {
      "text/plain": [
       "array([1, 1, 1, ..., 1, 1, 1])"
      ]
     },
     "execution_count": 495,
     "metadata": {},
     "output_type": "execute_result"
    }
   ],
   "source": [
    "print (\"precision on test data\", precision)\n",
    "logreg.predict(test_matrix)"
   ]
  },
  {
   "cell_type": "markdown",
   "metadata": {},
   "source": [
    "** Precision = 0.949798078262**"
   ]
  },
  {
   "cell_type": "markdown",
   "metadata": {},
   "source": [
    "A complementary metric is recall, which measures the ratio between the number of true positives and that of (ground-truth) positive reviews:\n",
    "\n",
    "\n",
    "Let us compute the recall on the test_data. Scikit-learn provides a predefined method for computing recall as well. (Consult appropriate manuals if you are using other tools.)"
   ]
  },
  {
   "cell_type": "code",
   "execution_count": 496,
   "metadata": {
    "collapsed": false
   },
   "outputs": [
    {
     "name": "stdout",
     "output_type": "stream",
     "text": [
      "Recall on test data 0.971062466631\n"
     ]
    }
   ],
   "source": [
    "from sklearn.metrics import recall_score\n",
    "recall = recall_score(y_true=test_data['sentiment'], y_pred=logreg.predict(test_matrix))\n",
    "print (\"Recall on test data\", recall)\n"
   ]
  },
  {
   "cell_type": "markdown",
   "metadata": {},
   "source": [
    "**Recall on test data 0.971062466631 **"
   ]
  },
  {
   "cell_type": "code",
   "execution_count": 497,
   "metadata": {
    "collapsed": false
   },
   "outputs": [
    {
     "data": {
      "text/plain": [
       "33336"
      ]
     },
     "execution_count": 497,
     "metadata": {},
     "output_type": "execute_result"
    }
   ],
   "source": [
    "len(test_data)"
   ]
  },
  {
   "cell_type": "code",
   "execution_count": 498,
   "metadata": {
    "collapsed": false
   },
   "outputs": [
    {
     "data": {
      "text/plain": [
       "0.9710624666310731"
      ]
     },
     "execution_count": 498,
     "metadata": {},
     "output_type": "execute_result"
    }
   ],
   "source": [
    "27282./(true_positive+false_negative)"
   ]
  },
  {
   "cell_type": "markdown",
   "metadata": {},
   "source": [
    "** recall on all +1 = 1.18 **"
   ]
  },
  {
   "cell_type": "code",
   "execution_count": 499,
   "metadata": {
    "collapsed": false
   },
   "outputs": [],
   "source": [
    "def apply_threshold(prob, threshold):\n",
    "    #print (threshold)\n",
    "    ret = []\n",
    "    #print (len(prob))\n",
    "    for i in prob:\n",
    "        if i >= threshold:\n",
    "            ret.append(1)\n",
    "        else:\n",
    "            ret.append(-1)\n",
    "    return ret"
   ]
  },
  {
   "cell_type": "markdown",
   "metadata": {},
   "source": [
    "Using the model you trained, compute the class probability values P(y=+1|x,w) for the data points in the test_data. Then use thresholds set at 0.5 (default) and 0.9 to make predictions from these probability values."
   ]
  },
  {
   "cell_type": "code",
   "execution_count": 500,
   "metadata": {
    "collapsed": false
   },
   "outputs": [
    {
     "name": "stdout",
     "output_type": "stream",
     "text": [
      "[ 0.78019698  0.99999931  0.93225278 ...,  0.99999449  0.99999745\n",
      "  0.98103756]\n",
      "4612\n"
     ]
    }
   ],
   "source": [
    "probabilities = logreg.predict_proba(test_matrix)[:,1]\n",
    "print (probabilities)\n",
    "#probabilities[probabilities.\n",
    "df = pd.DataFrame(probabilities)\n",
    "print (len(df[df.values < .5]))"
   ]
  },
  {
   "cell_type": "code",
   "execution_count": null,
   "metadata": {
    "collapsed": false
   },
   "outputs": [],
   "source": []
  },
  {
   "cell_type": "code",
   "execution_count": 501,
   "metadata": {
    "collapsed": false
   },
   "outputs": [],
   "source": [
    "predictions_at_fifty = apply_threshold(probabilities,.5)\n"
   ]
  },
  {
   "cell_type": "code",
   "execution_count": 502,
   "metadata": {
    "collapsed": true
   },
   "outputs": [],
   "source": [
    "positives = [x for x in predictions_at_fifty if x > 0]\n",
    "negatives = [x for x in predictions_at_fifty if x < 0]"
   ]
  },
  {
   "cell_type": "code",
   "execution_count": 503,
   "metadata": {
    "collapsed": false
   },
   "outputs": [
    {
     "data": {
      "text/plain": [
       "28724"
      ]
     },
     "execution_count": 503,
     "metadata": {},
     "output_type": "execute_result"
    }
   ],
   "source": [
    "len(positives)"
   ]
  },
  {
   "cell_type": "code",
   "execution_count": 504,
   "metadata": {
    "collapsed": false
   },
   "outputs": [
    {
     "data": {
      "text/plain": [
       "4612"
      ]
     },
     "execution_count": 504,
     "metadata": {},
     "output_type": "execute_result"
    }
   ],
   "source": [
    "len (negatives)"
   ]
  },
  {
   "cell_type": "markdown",
   "metadata": {},
   "source": [
    "** # of positives at .5 threshold - 28724**"
   ]
  },
  {
   "cell_type": "code",
   "execution_count": 505,
   "metadata": {
    "collapsed": false
   },
   "outputs": [],
   "source": [
    "predictions_at_ninety = apply_threshold(probabilities,.9)"
   ]
  },
  {
   "cell_type": "code",
   "execution_count": 506,
   "metadata": {
    "collapsed": false
   },
   "outputs": [
    {
     "name": "stdout",
     "output_type": "stream",
     "text": [
      "postives 25023 negatives 8313\n",
      "\n"
     ]
    }
   ],
   "source": [
    "ninety_positives = [x for x in predictions_at_ninety if x > 0]\n",
    "ninety_negatives = [x for x in predictions_at_ninety if x < 0]\n",
    "print (\"postives {0} negatives {1}\".format(len(ninety_positives),len(ninety_negatives)))\n",
    "print (test_matrix[:,1])"
   ]
  },
  {
   "cell_type": "markdown",
   "metadata": {},
   "source": [
    "** positives goes to 25023**"
   ]
  },
  {
   "cell_type": "code",
   "execution_count": 507,
   "metadata": {
    "collapsed": false
   },
   "outputs": [
    {
     "name": "stdout",
     "output_type": "stream",
     "text": [
      "0.981616912441\n",
      "0.949798078262\n"
     ]
    }
   ],
   "source": [
    "ninety_precision = precision_score(y_true=test_data['sentiment'],y_pred=predictions_at_ninety)\n",
    "fifty_precision = precision_score(y_true=test_data['sentiment'],y_pred=predictions_at_fifty)\n",
    "\n",
    "\n",
    "print (ninety_precision)\n",
    "print (fifty_precision)"
   ]
  },
  {
   "cell_type": "code",
   "execution_count": 508,
   "metadata": {
    "collapsed": false
   },
   "outputs": [
    {
     "name": "stdout",
     "output_type": "stream",
     "text": [
      "0.87428368037\n",
      "0.971062466631\n"
     ]
    }
   ],
   "source": [
    "ninety_recall = recall_score(y_true=test_data['sentiment'],\n",
    "                      y_pred=predictions_at_ninety)\n",
    "fifty_recall = recall_score(y_true=test_data['sentiment'],\n",
    "                      y_pred=predictions_at_fifty)\n",
    "print (ninety_recall)\n",
    "print (fifty_recall)"
   ]
  },
  {
   "cell_type": "markdown",
   "metadata": {},
   "source": [
    "** precision increases with threshold **\n",
    "\n",
    "** recall decreases with threshold **"
   ]
  },
  {
   "cell_type": "code",
   "execution_count": 509,
   "metadata": {
    "collapsed": false
   },
   "outputs": [
    {
     "name": "stdout",
     "output_type": "stream",
     "text": [
      "[ 0.78019698  0.99999931  0.93225278 ...,  0.99999449  0.99999745\n",
      "  0.98103756]\n"
     ]
    }
   ],
   "source": [
    "threshold_values = np.linspace(0.5, .9, num=100)\n",
    "#print (threshold_values)\n",
    "#precision_all=[]\n",
    "#recall_all = []\n",
    "#precision_all.append(fifty_precision)\n",
    "#precision_all.append(ninety_precision)\n",
    "\n",
    "#recall_all.append(fifty_recall)\n",
    "#recall_all.append(ninety_recall)\n",
    "print (probabilities)"
   ]
  },
  {
   "cell_type": "code",
   "execution_count": 510,
   "metadata": {
    "collapsed": true
   },
   "outputs": [],
   "source": [
    "def plot_pr_curve(precision, recall, title):\n",
    "    plt.rcParams['figure.figsize'] = 7, 5\n",
    "    plt.locator_params(axis = 'x', nbins = 5)\n",
    "    plt.plot(precision, recall, 'b-', linewidth=4.0, color = '#B0017F')\n",
    "    plt.title(title)\n",
    "    plt.xlabel('Precision')\n",
    "    plt.ylabel('Recall')\n",
    "    plt.rcParams.update({'font.size': 16})"
   ]
  },
  {
   "cell_type": "code",
   "execution_count": 511,
   "metadata": {
    "collapsed": false
   },
   "outputs": [
    {
     "name": "stdout",
     "output_type": "stream",
     "text": [
      "threshold is 0.706060606060606 for precision 0.9650754587238971\n",
      "threshold is 0.7101010101010101 for precision 0.9653623188405797\n",
      "threshold is 0.7141414141414142 for precision 0.9655860168262257\n",
      "threshold is 0.7181818181818181 for precision 0.9658752631961083\n",
      "threshold is 0.7222222222222222 for precision 0.9661626808170386\n",
      "threshold is 0.7262626262626263 for precision 0.9664131581820167\n",
      "threshold is 0.7303030303030303 for precision 0.9667419495847297\n",
      "threshold is 0.7343434343434343 for precision 0.9670678336980306\n",
      "threshold is 0.7383838383838384 for precision 0.967501643175345\n",
      "threshold is 0.7424242424242424 for precision 0.9679236311766212\n",
      "threshold is 0.7464646464646465 for precision 0.9680111265646731\n",
      "threshold is 0.7505050505050506 for precision 0.968198138785081\n",
      "threshold is 0.7545454545454545 for precision 0.9687431212854941\n",
      "threshold is 0.7585858585858586 for precision 0.9692805173807599\n",
      "threshold is 0.7626262626262627 for precision 0.9694406648769904\n",
      "threshold is 0.7666666666666666 for precision 0.9698331430255258\n",
      "threshold is 0.7707070707070707 for precision 0.970192201276423\n",
      "threshold is 0.7747474747474747 for precision 0.9704513555440644\n",
      "threshold is 0.7787878787878788 for precision 0.9708906642994526\n",
      "threshold is 0.7828282828282829 for precision 0.9711830505963405\n",
      "threshold is 0.7868686868686869 for precision 0.9716512059369202\n",
      "threshold is 0.7909090909090909 for precision 0.9719445579874401\n",
      "threshold is 0.794949494949495 for precision 0.9722149897712479\n",
      "threshold is 0.7989898989898989 for precision 0.9725037257824143\n",
      "threshold is 0.803030303030303 for precision 0.9728741464870714\n",
      "threshold is 0.807070707070707 for precision 0.9733782015329968\n",
      "threshold is 0.8111111111111111 for precision 0.9734446983033073\n",
      "threshold is 0.8151515151515152 for precision 0.973843209366908\n",
      "threshold is 0.8191919191919192 for precision 0.9740621005939403\n",
      "threshold is 0.8232323232323232 for precision 0.9743203554484524\n",
      "threshold is 0.8272727272727273 for precision 0.9749707425723886\n",
      "threshold is 0.8313131313131313 for precision 0.9751541050561585\n",
      "threshold is 0.8353535353535353 for precision 0.9752614032429155\n",
      "threshold is 0.8393939393939394 for precision 0.9755977229601518\n",
      "threshold is 0.8434343434343434 for precision 0.9756700247101312\n",
      "threshold is 0.8474747474747475 for precision 0.9760009142508856\n",
      "threshold is 0.8515151515151516 for precision 0.9763641223414411\n",
      "threshold is 0.8555555555555556 for precision 0.9767219265668671\n",
      "threshold is 0.8595959595959596 for precision 0.9771191646191646\n",
      "threshold is 0.8636363636363636 for precision 0.9772910973403641\n",
      "threshold is 0.8676767676767676 for precision 0.9778866934238962\n",
      "threshold is 0.8717171717171717 for precision 0.9783264958588126\n",
      "threshold is 0.8757575757575757 for precision 0.9794515196499727\n",
      "threshold is 0.8797979797979798 for precision 0.9798150035274751\n",
      "threshold is 0.8838383838383839 for precision 0.9801392220867582\n",
      "threshold is 0.8878787878787879 for precision 0.9803844180447567\n",
      "threshold is 0.891919191919192 for precision 0.9807402710628517\n",
      "threshold is 0.895959595959596 for precision 0.981261189576288\n",
      "threshold is 0.9 for precision 0.9816169124405547\n",
      "[0.94979807826208051, 0.95017942375361464, 0.95046709425543785, 0.9508562659132922, 0.95113949673681641, 0.95152446477840258, 0.9518367061619657, 0.95215612212779355, 0.95248092938624118, 0.952631026152715, 0.95298651252408473, 0.95333426828413159, 0.95366050443750661, 0.95388340996034116, 0.95409847580248652, 0.95425479586817508, 0.95457901212866936, 0.95488774720247727, 0.95509614707332535, 0.95558375634517767, 0.95586523196330919, 0.95615180935569288, 0.95630982234309325, 0.95648792902336432, 0.956712406280945, 0.95706650621172973, 0.9572531520045332, 0.95774847582588973, 0.95793132803632242, 0.95815884732770251, 0.95855529512039206, 0.95883691170197638, 0.95925846854540275, 0.95961682276272209, 0.95999714774671996, 0.9605681047710809, 0.96079271558650237, 0.96112064036592337, 0.9615852349953502, 0.96177386449049718, 0.96209108172990787, 0.96235344734860706, 0.96271709487584323, 0.96301084536378656, 0.96326780002156487, 0.96352517985611508, 0.96384457488566389, 0.96424065462672581, 0.96445454873515934, 0.96471395550418959, 0.96475309088279948, 0.96507545872389711, 0.96536231884057966, 0.96558601682622569, 0.96587526319610828, 0.9661626808170386, 0.96641315818201667, 0.9667419495847297, 0.96706783369803062, 0.96750164317534504, 0.96792363117662117, 0.96801112656467314, 0.96819813878508099, 0.96874312128549411, 0.96928051738075993, 0.96944066487699043, 0.96983314302552581, 0.97019220127642303, 0.97045135554406436, 0.97089066429945259, 0.97118305059634047, 0.97165120593692023, 0.97194455798744006, 0.97221498977124787, 0.97250372578241429, 0.97287414648707138, 0.97337820153299681, 0.97344469830330727, 0.97384320936690805, 0.97406210059394027, 0.97432035544845241, 0.97497074257238858, 0.97515410505615852, 0.97526140324291555, 0.97559772296015179, 0.9756700247101312, 0.97600091425088564, 0.9763641223414411, 0.97672192656686707, 0.97711916461916459, 0.97729109734036412, 0.97788669342389622, 0.97832649585881259, 0.97945151964997268, 0.97981500352747508, 0.98013922208675819, 0.98038441804475673, 0.98074027106285167, 0.98126118957628805, 0.98161691244055471]\n"
     ]
    }
   ],
   "source": [
    "precision_all=[]\n",
    "recall_all = []\n",
    "pred = apply_threshold(probabilities,1)\n",
    "#print (pred)\n",
    "for i in threshold_values:\n",
    "    pred = apply_threshold(probabilities,i)\n",
    "    precis = precision_score(y_true=test_data['sentiment'],y_pred=pred)\n",
    "    if precis > .965:\n",
    "        print (\"threshold is {0} for precision {1}\".format(i, precis))\n",
    "    precision_all.append(precis)\n",
    "    #fifty_precision = precision_score(y_true=test_data['sentiment'],y_pred=predictions_at_fifty)\n",
    "    recall_all.append(recall_score(y_true=test_data['sentiment'], y_pred=pred))\n",
    "\n",
    "print (precision_all)\n",
    "#print (recall_all)"
   ]
  },
  {
   "cell_type": "markdown",
   "metadata": {},
   "source": [
    "Using threshold = 0.98, how many false negatives do we get on the test_data? This is the number of false negatives (i.e the number of reviews to look at when not needed) that we have to deal with using this classifier."
   ]
  },
  {
   "cell_type": "code",
   "execution_count": 512,
   "metadata": {
    "collapsed": false
   },
   "outputs": [
    {
     "name": "stdout",
     "output_type": "stream",
     "text": [
      "target label | predicted_label |count\n",
      "-------------+-----------------+-----\n",
      "     -1      |      -1       | 5047\n",
      "     -1      |       1       |  194\n",
      "      1      |      -1       | 8282\n",
      "      1      |       1       |19813\n"
     ]
    }
   ],
   "source": [
    "t = 0.98\n",
    "predictions_at_98 = apply_threshold(probabilities,t)\n",
    "cmat = confusion_matrix(y_true=test_data['sentiment'],\n",
    "                        y_pred=predictions_at_98,\n",
    "                       labels = logreg.classes_) # use the same order of class as the LR model\n",
    "print('target label | predicted_label |count')\n",
    "print('-------------+-----------------+-----')\n",
    "for i, target_label in enumerate(logreg.classes_):\n",
    "    for j, predicted_label in enumerate(logreg.classes_):\n",
    "        print('{0:^13}|{1:^15}|{2:5d}'.format(target_label,predicted_label,cmat[i,j]))\n",
    "       \n"
   ]
  },
  {
   "cell_type": "markdown",
   "metadata": {},
   "source": [
    "** false negatives = 8282 for .98 threshold**"
   ]
  },
  {
   "cell_type": "code",
   "execution_count": 513,
   "metadata": {
    "collapsed": false
   },
   "outputs": [
    {
     "data": {
      "image/png": "[encoded data removed]",
      "text/plain": [
       "<matplotlib.figure.Figure at 0x127b35128>"
      ]
     },
     "metadata": {},
     "output_type": "display_data"
    }
   ],
   "source": [
    "import matplotlib.pyplot as plt\n",
    "%matplotlib inline\n",
    "plot_pr_curve(precision_all, recall_all, 'Precision recall curve (all)')"
   ]
  },
  {
   "cell_type": "markdown",
   "metadata": {},
   "source": []
  },
  {
   "cell_type": "code",
   "execution_count": 514,
   "metadata": {
    "collapsed": false
   },
   "outputs": [
    {
     "data": {
      "text/plain": [
       "9          True\n",
       "10         True\n",
       "16        False\n",
       "20        False\n",
       "28        False\n",
       "36        False\n",
       "37        False\n",
       "41        False\n",
       "43        False\n",
       "56         True\n",
       "59         True\n",
       "71        False\n",
       "91        False\n",
       "112        True\n",
       "115        True\n",
       "116       False\n",
       "120       False\n",
       "123       False\n",
       "129       False\n",
       "135       False\n",
       "140       False\n",
       "146       False\n",
       "149       False\n",
       "157       False\n",
       "158       False\n",
       "160       False\n",
       "164       False\n",
       "171       False\n",
       "177       False\n",
       "180       False\n",
       "          ...  \n",
       "183365    False\n",
       "183370    False\n",
       "183377    False\n",
       "183388    False\n",
       "183393     True\n",
       "183397     True\n",
       "183404    False\n",
       "183405     True\n",
       "183406     True\n",
       "183414     True\n",
       "183415    False\n",
       "183418    False\n",
       "183434    False\n",
       "183436    False\n",
       "183447    False\n",
       "183456    False\n",
       "183459     True\n",
       "183460    False\n",
       "183461    False\n",
       "183465     True\n",
       "183468    False\n",
       "183473    False\n",
       "183483    False\n",
       "183487    False\n",
       "183499    False\n",
       "183507    False\n",
       "183515    False\n",
       "183522    False\n",
       "183524    False\n",
       "183530     True\n",
       "Name: name, dtype: bool"
      ]
     },
     "execution_count": 514,
     "metadata": {},
     "output_type": "execute_result"
    }
   ],
   "source": [
    "test_data['name'].apply(lambda x: 'baby' in str(x).lower())"
   ]
  },
  {
   "cell_type": "code",
   "execution_count": 515,
   "metadata": {
    "collapsed": false
   },
   "outputs": [],
   "source": [
    "baby_reviews = test_data[test_data['name'].apply(lambda x: 'baby' in str(x).lower())]"
   ]
  },
  {
   "cell_type": "code",
   "execution_count": 516,
   "metadata": {
    "collapsed": false
   },
   "outputs": [
    {
     "data": {
      "text/plain": [
       "6611"
      ]
     },
     "execution_count": 516,
     "metadata": {},
     "output_type": "execute_result"
    }
   ],
   "source": [
    "len(baby_reviews)"
   ]
  },
  {
   "cell_type": "code",
   "execution_count": 517,
   "metadata": {
    "collapsed": false
   },
   "outputs": [],
   "source": [
    "baby_matrix = vectorizer.transform(baby_reviews['review_clean'])\n",
    "baby_probabilities = logreg.predict_proba(baby_matrix)[:,1]"
   ]
  },
  {
   "cell_type": "code",
   "execution_count": 518,
   "metadata": {
    "collapsed": false
   },
   "outputs": [],
   "source": [
    "threshold_values = np.linspace(0.5, 1, num=100)"
   ]
  },
  {
   "cell_type": "code",
   "execution_count": 519,
   "metadata": {
    "collapsed": false
   },
   "outputs": [
    {
     "name": "stdout",
     "output_type": "stream",
     "text": [
      "threshold is 0.7272727272727273 for precision 0.9656331714605902\n",
      "threshold is 0.7323232323232324 for precision 0.966142910587355\n",
      "threshold is 0.7373737373737375 for precision 0.9666666666666667\n",
      "threshold is 0.7424242424242424 for precision 0.9676934635612322\n",
      "threshold is 0.7474747474747475 for precision 0.9680210684725358\n",
      "threshold is 0.7525252525252526 for precision 0.9683675390698551\n",
      "threshold is 0.7575757575757576 for precision 0.9688737973967176\n",
      "threshold is 0.7626262626262627 for precision 0.9688208616780045\n",
      "threshold is 0.7676767676767677 for precision 0.9693181818181819\n",
      "threshold is 0.7727272727272727 for precision 0.9694728858551385\n",
      "threshold is 0.7777777777777778 for precision 0.9703365658870508\n",
      "threshold is 0.7828282828282829 for precision 0.9704874333587205\n",
      "threshold is 0.7878787878787878 for precision 0.9704311331552843\n",
      "threshold is 0.7929292929292929 for precision 0.9705601223475435\n",
      "threshold is 0.797979797979798 for precision 0.9712698716720934\n",
      "threshold is 0.803030303030303 for precision 0.9719823450393399\n",
      "threshold is 0.8080808080808082 for precision 0.9726607624181748\n",
      "threshold is 0.8131313131313131 for precision 0.9725974527209572\n",
      "threshold is 0.8181818181818182 for precision 0.9727114379717438\n",
      "threshold is 0.8232323232323233 for precision 0.9730515703761148\n",
      "threshold is 0.8282828282828283 for precision 0.9731621936989499\n",
      "threshold is 0.8333333333333334 for precision 0.9731256085686465\n",
      "threshold is 0.8383838383838385 for precision 0.9736276616526666\n",
      "threshold is 0.8434343434343434 for precision 0.9739675083186533\n",
      "threshold is 0.8484848484848485 for precision 0.9746711172197133\n",
      "threshold is 0.8535353535353536 for precision 0.9751626256652868\n",
      "threshold is 0.8585858585858586 for precision 0.9754843811783314\n",
      "threshold is 0.8636363636363636 for precision 0.9756000793493355\n",
      "threshold is 0.8686868686868687 for precision 0.9764987054371639\n",
      "threshold is 0.8737373737373737 for precision 0.977491961414791\n",
      "threshold is 0.8787878787878789 for precision 0.9783925686591276\n",
      "threshold is 0.8838383838383839 for precision 0.9789260385005066\n",
      "threshold is 0.8888888888888888 for precision 0.9790352127009974\n",
      "threshold is 0.893939393939394 for precision 0.979959100204499\n",
      "threshold is 0.898989898989899 for precision 0.9802428483227001\n",
      "threshold is 0.9040404040404041 for precision 0.9807771806531624\n",
      "threshold is 0.9090909090909092 for precision 0.981527604815276\n",
      "threshold is 0.9141414141414141 for precision 0.981651376146789\n",
      "threshold is 0.9191919191919192 for precision 0.9823306689103912\n",
      "threshold is 0.9242424242424243 for precision 0.9821996185632549\n",
      "threshold is 0.9292929292929293 for precision 0.9830871333761507\n",
      "threshold is 0.9343434343434344 for precision 0.9848353552859619\n",
      "threshold is 0.9393939393939394 for precision 0.9851366120218579\n",
      "threshold is 0.9444444444444444 for precision 0.9865044247787611\n",
      "threshold is 0.9494949494949496 for precision 0.9863717605004468\n",
      "threshold is 0.9545454545454546 for precision 0.9870395634379263\n",
      "threshold is 0.9595959595959596 for precision 0.9877569877569877\n",
      "threshold is 0.9646464646464648 for precision 0.9886845827439887\n",
      "threshold is 0.9696969696969697 for precision 0.9888538890235038\n",
      "threshold is 0.9747474747474748 for precision 0.9895314057826521\n",
      "threshold is 0.9797979797979799 for precision 0.9901247401247402\n",
      "threshold is 0.9848484848484849 for precision 0.9904135853190906\n",
      "threshold is 0.98989898989899 for precision 0.9916442852879738\n",
      "threshold is 0.994949494949495 for precision 0.9916259595254711\n",
      "threshold is 1.0 for precision 1.0\n"
     ]
    }
   ],
   "source": [
    "baby_precision= []\n",
    "baby_recall = []\n",
    "for i in threshold_values:\n",
    "    baby_pred = apply_threshold(baby_probabilities,i)\n",
    "    precis = precision_score(y_true=baby_reviews['sentiment'],y_pred=baby_pred)\n",
    "    if precis > .965:\n",
    "        print (\"threshold is {0} for precision {1}\".format(i, precis))\n",
    "    baby_precision.append(precis)\n",
    "    baby_recall.append(recall_score(y_true=baby_reviews['sentiment'], y_pred=baby_pred))\n",
    "\n",
    "    "
   ]
  },
  {
   "cell_type": "code",
   "execution_count": 520,
   "metadata": {
    "collapsed": false
   },
   "outputs": [
    {
     "data": {
      "image/png": "[encoded data removed]",
      "text/plain": [
       "<matplotlib.figure.Figure at 0x11d7ec438>"
      ]
     },
     "metadata": {},
     "output_type": "display_data"
    }
   ],
   "source": [
    "plot_pr_curve(baby_precision, baby_recall, \"Precision-Recall (Baby)\")"
   ]
  },
  {
   "cell_type": "code",
   "execution_count": null,
   "metadata": {
    "collapsed": true
   },
   "outputs": [],
   "source": []
  }
 ],
 "metadata": {
  "anaconda-cloud": {},
  "kernelspec": {
   "display_name": "Python [conda root]",
   "language": "python",
   "name": "conda-root-py"
  },
  "language_info": {
   "codemirror_mode": {
    "name": "ipython",
    "version": 3
   },
   "file_extension": ".py",
   "mimetype": "text/x-python",
   "name": "python",
   "nbconvert_exporter": "python",
   "pygments_lexer": "ipython3",
   "version": "3.5.2"
  }
 },
 "nbformat": 4,
 "nbformat_minor": 1
}
