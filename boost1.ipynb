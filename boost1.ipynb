{
 "cells": [
  {
   "cell_type": "code",
   "execution_count": 350,
   "metadata": {
    "collapsed": false
   },
   "outputs": [],
   "source": [
    "import pandas as pd\n",
    "import numpy as np\n",
    "import matplotlib as plt\n",
    "import sklearn\n",
    "import sklearn.ensemble\n",
    "%matplotlib inline"
   ]
  },
  {
   "cell_type": "code",
   "execution_count": 351,
   "metadata": {
    "collapsed": false
   },
   "outputs": [
    {
     "name": "stderr",
     "output_type": "stream",
     "text": [
      "/Library/Frameworks/Python.framework/Versions/3.5/lib/python3.5/site-packages/IPython/core/interactiveshell.py:2717: DtypeWarning: Columns (19,47) have mixed types. Specify dtype option on import or set low_memory=False.\n",
      "  interactivity=interactivity, compiler=compiler, result=result)\n"
     ]
    }
   ],
   "source": [
    "loans = pd.read_csv('./data/lending-club-data.csv')"
   ]
  },
  {
   "cell_type": "code",
   "execution_count": 352,
   "metadata": {
    "collapsed": false
   },
   "outputs": [
    {
     "data": {
      "text/html": [
       "<div>\n",
       "<table border=\"1\" class=\"dataframe\">\n",
       "  <thead>\n",
       "    <tr style=\"text-align: right;\">\n",
       "      <th></th>\n",
       "      <th>id</th>\n",
       "      <th>member_id</th>\n",
       "      <th>loan_amnt</th>\n",
       "      <th>funded_amnt</th>\n",
       "      <th>funded_amnt_inv</th>\n",
       "      <th>int_rate</th>\n",
       "      <th>installment</th>\n",
       "      <th>annual_inc</th>\n",
       "      <th>dti</th>\n",
       "      <th>delinq_2yrs</th>\n",
       "      <th>inq_last_6mths</th>\n",
       "      <th>mths_since_last_delinq</th>\n",
       "      <th>mths_since_last_record</th>\n",
       "      <th>open_acc</th>\n",
       "      <th>pub_rec</th>\n",
       "      <th>revol_bal</th>\n",
       "      <th>revol_util</th>\n",
       "      <th>total_acc</th>\n",
       "      <th>out_prncp</th>\n",
       "      <th>out_prncp_inv</th>\n",
       "      <th>total_pymnt</th>\n",
       "      <th>total_pymnt_inv</th>\n",
       "      <th>total_rec_prncp</th>\n",
       "      <th>total_rec_int</th>\n",
       "      <th>total_rec_late_fee</th>\n",
       "      <th>recoveries</th>\n",
       "      <th>collection_recovery_fee</th>\n",
       "      <th>last_pymnt_amnt</th>\n",
       "      <th>collections_12_mths_ex_med</th>\n",
       "      <th>mths_since_last_major_derog</th>\n",
       "      <th>policy_code</th>\n",
       "      <th>not_compliant</th>\n",
       "      <th>inactive_loans</th>\n",
       "      <th>bad_loans</th>\n",
       "      <th>emp_length_num</th>\n",
       "      <th>grade_num</th>\n",
       "      <th>sub_grade_num</th>\n",
       "      <th>delinq_2yrs_zero</th>\n",
       "      <th>pub_rec_zero</th>\n",
       "      <th>collections_12_mths_zero</th>\n",
       "      <th>short_emp</th>\n",
       "      <th>payment_inc_ratio</th>\n",
       "      <th>last_delinq_none</th>\n",
       "      <th>last_record_none</th>\n",
       "      <th>last_major_derog_none</th>\n",
       "    </tr>\n",
       "  </thead>\n",
       "  <tbody>\n",
       "    <tr>\n",
       "      <th>count</th>\n",
       "      <td>1.226070e+05</td>\n",
       "      <td>1.226070e+05</td>\n",
       "      <td>122607.000000</td>\n",
       "      <td>122607.000000</td>\n",
       "      <td>122607.000000</td>\n",
       "      <td>122607.000000</td>\n",
       "      <td>122607.000000</td>\n",
       "      <td>1.226030e+05</td>\n",
       "      <td>122607.000000</td>\n",
       "      <td>122578.000000</td>\n",
       "      <td>122578.000000</td>\n",
       "      <td>50500.000000</td>\n",
       "      <td>12531.000000</td>\n",
       "      <td>122578.000000</td>\n",
       "      <td>122578.000000</td>\n",
       "      <td>1.226070e+05</td>\n",
       "      <td>122607.000000</td>\n",
       "      <td>122578.000000</td>\n",
       "      <td>122607.000000</td>\n",
       "      <td>122607.000000</td>\n",
       "      <td>122607.000000</td>\n",
       "      <td>122607.000000</td>\n",
       "      <td>122607.000000</td>\n",
       "      <td>122607.000000</td>\n",
       "      <td>122607.000000</td>\n",
       "      <td>122607.000000</td>\n",
       "      <td>122607.000000</td>\n",
       "      <td>122607.000000</td>\n",
       "      <td>122462.000000</td>\n",
       "      <td>15460.000000</td>\n",
       "      <td>122607.0</td>\n",
       "      <td>122607.000000</td>\n",
       "      <td>122607.0</td>\n",
       "      <td>122607.000000</td>\n",
       "      <td>122607.000000</td>\n",
       "      <td>122607.000000</td>\n",
       "      <td>122607.000000</td>\n",
       "      <td>122578.000000</td>\n",
       "      <td>122578.000000</td>\n",
       "      <td>122462.000000</td>\n",
       "      <td>122607.000000</td>\n",
       "      <td>122603.000000</td>\n",
       "      <td>122607.000000</td>\n",
       "      <td>122607.000000</td>\n",
       "      <td>122607.000000</td>\n",
       "    </tr>\n",
       "    <tr>\n",
       "      <th>mean</th>\n",
       "      <td>4.728452e+06</td>\n",
       "      <td>5.493222e+06</td>\n",
       "      <td>12809.733743</td>\n",
       "      <td>12736.123753</td>\n",
       "      <td>12497.828395</td>\n",
       "      <td>13.639487</td>\n",
       "      <td>396.623285</td>\n",
       "      <td>7.138502e+04</td>\n",
       "      <td>15.496888</td>\n",
       "      <td>0.211996</td>\n",
       "      <td>0.980861</td>\n",
       "      <td>35.258198</td>\n",
       "      <td>73.964488</td>\n",
       "      <td>10.457749</td>\n",
       "      <td>0.103477</td>\n",
       "      <td>1.483507e+04</td>\n",
       "      <td>53.716307</td>\n",
       "      <td>24.248169</td>\n",
       "      <td>22.028899</td>\n",
       "      <td>22.015354</td>\n",
       "      <td>12510.211529</td>\n",
       "      <td>12269.338465</td>\n",
       "      <td>10707.864970</td>\n",
       "      <td>1696.232305</td>\n",
       "      <td>0.742344</td>\n",
       "      <td>105.371929</td>\n",
       "      <td>4.957537</td>\n",
       "      <td>6156.808616</td>\n",
       "      <td>0.003495</td>\n",
       "      <td>42.428913</td>\n",
       "      <td>1.0</td>\n",
       "      <td>0.021761</td>\n",
       "      <td>1.0</td>\n",
       "      <td>0.188815</td>\n",
       "      <td>6.370256</td>\n",
       "      <td>4.232882</td>\n",
       "      <td>0.597509</td>\n",
       "      <td>0.858107</td>\n",
       "      <td>0.908173</td>\n",
       "      <td>0.996734</td>\n",
       "      <td>0.123672</td>\n",
       "      <td>7.564725</td>\n",
       "      <td>0.588115</td>\n",
       "      <td>0.897795</td>\n",
       "      <td>0.873906</td>\n",
       "    </tr>\n",
       "    <tr>\n",
       "      <th>std</th>\n",
       "      <td>5.938517e+06</td>\n",
       "      <td>6.604693e+06</td>\n",
       "      <td>7932.313398</td>\n",
       "      <td>7887.167118</td>\n",
       "      <td>7946.731527</td>\n",
       "      <td>4.390836</td>\n",
       "      <td>239.475936</td>\n",
       "      <td>5.841483e+04</td>\n",
       "      <td>7.497442</td>\n",
       "      <td>0.662052</td>\n",
       "      <td>1.263588</td>\n",
       "      <td>21.950074</td>\n",
       "      <td>35.855540</td>\n",
       "      <td>4.713957</td>\n",
       "      <td>0.359382</td>\n",
       "      <td>1.937773e+04</td>\n",
       "      <td>25.723881</td>\n",
       "      <td>11.629814</td>\n",
       "      <td>611.510973</td>\n",
       "      <td>611.116057</td>\n",
       "      <td>9046.331429</td>\n",
       "      <td>9061.593794</td>\n",
       "      <td>8041.776401</td>\n",
       "      <td>1793.448627</td>\n",
       "      <td>5.363268</td>\n",
       "      <td>575.651981</td>\n",
       "      <td>94.427007</td>\n",
       "      <td>7155.007894</td>\n",
       "      <td>0.063674</td>\n",
       "      <td>21.457282</td>\n",
       "      <td>0.0</td>\n",
       "      <td>0.145901</td>\n",
       "      <td>0.0</td>\n",
       "      <td>0.391363</td>\n",
       "      <td>3.736014</td>\n",
       "      <td>1.362138</td>\n",
       "      <td>0.278934</td>\n",
       "      <td>0.348942</td>\n",
       "      <td>0.288783</td>\n",
       "      <td>0.057059</td>\n",
       "      <td>0.329208</td>\n",
       "      <td>4.127291</td>\n",
       "      <td>0.492177</td>\n",
       "      <td>0.302918</td>\n",
       "      <td>0.331957</td>\n",
       "    </tr>\n",
       "    <tr>\n",
       "      <th>min</th>\n",
       "      <td>5.473400e+04</td>\n",
       "      <td>7.047300e+04</td>\n",
       "      <td>500.000000</td>\n",
       "      <td>500.000000</td>\n",
       "      <td>0.000000</td>\n",
       "      <td>5.420000</td>\n",
       "      <td>15.670000</td>\n",
       "      <td>1.896000e+03</td>\n",
       "      <td>0.000000</td>\n",
       "      <td>0.000000</td>\n",
       "      <td>0.000000</td>\n",
       "      <td>0.000000</td>\n",
       "      <td>0.000000</td>\n",
       "      <td>0.000000</td>\n",
       "      <td>0.000000</td>\n",
       "      <td>0.000000e+00</td>\n",
       "      <td>0.000000</td>\n",
       "      <td>1.000000</td>\n",
       "      <td>0.000000</td>\n",
       "      <td>0.000000</td>\n",
       "      <td>0.000000</td>\n",
       "      <td>0.000000</td>\n",
       "      <td>0.000000</td>\n",
       "      <td>0.000000</td>\n",
       "      <td>0.000000</td>\n",
       "      <td>0.000000</td>\n",
       "      <td>0.000000</td>\n",
       "      <td>0.000000</td>\n",
       "      <td>0.000000</td>\n",
       "      <td>0.000000</td>\n",
       "      <td>1.0</td>\n",
       "      <td>0.000000</td>\n",
       "      <td>1.0</td>\n",
       "      <td>0.000000</td>\n",
       "      <td>0.000000</td>\n",
       "      <td>0.000000</td>\n",
       "      <td>0.200000</td>\n",
       "      <td>0.000000</td>\n",
       "      <td>0.000000</td>\n",
       "      <td>0.000000</td>\n",
       "      <td>0.000000</td>\n",
       "      <td>0.028895</td>\n",
       "      <td>0.000000</td>\n",
       "      <td>0.000000</td>\n",
       "      <td>0.000000</td>\n",
       "    </tr>\n",
       "    <tr>\n",
       "      <th>25%</th>\n",
       "      <td>8.532925e+05</td>\n",
       "      <td>1.064872e+06</td>\n",
       "      <td>6700.000000</td>\n",
       "      <td>6625.000000</td>\n",
       "      <td>6271.000000</td>\n",
       "      <td>10.620000</td>\n",
       "      <td>215.985000</td>\n",
       "      <td>4.405250e+04</td>\n",
       "      <td>9.880000</td>\n",
       "      <td>0.000000</td>\n",
       "      <td>0.000000</td>\n",
       "      <td>17.000000</td>\n",
       "      <td>52.000000</td>\n",
       "      <td>7.000000</td>\n",
       "      <td>0.000000</td>\n",
       "      <td>5.474000e+03</td>\n",
       "      <td>34.800000</td>\n",
       "      <td>16.000000</td>\n",
       "      <td>0.000000</td>\n",
       "      <td>0.000000</td>\n",
       "      <td>5669.805000</td>\n",
       "      <td>5454.050000</td>\n",
       "      <td>4500.000000</td>\n",
       "      <td>550.555000</td>\n",
       "      <td>0.000000</td>\n",
       "      <td>0.000000</td>\n",
       "      <td>0.000000</td>\n",
       "      <td>440.180000</td>\n",
       "      <td>0.000000</td>\n",
       "      <td>25.000000</td>\n",
       "      <td>1.0</td>\n",
       "      <td>0.000000</td>\n",
       "      <td>1.0</td>\n",
       "      <td>0.000000</td>\n",
       "      <td>3.000000</td>\n",
       "      <td>3.000000</td>\n",
       "      <td>0.400000</td>\n",
       "      <td>1.000000</td>\n",
       "      <td>1.000000</td>\n",
       "      <td>1.000000</td>\n",
       "      <td>0.000000</td>\n",
       "      <td>4.362575</td>\n",
       "      <td>0.000000</td>\n",
       "      <td>1.000000</td>\n",
       "      <td>1.000000</td>\n",
       "    </tr>\n",
       "    <tr>\n",
       "      <th>50%</th>\n",
       "      <td>1.621401e+06</td>\n",
       "      <td>1.879659e+06</td>\n",
       "      <td>11000.000000</td>\n",
       "      <td>10950.000000</td>\n",
       "      <td>10500.000000</td>\n",
       "      <td>13.480000</td>\n",
       "      <td>348.180000</td>\n",
       "      <td>6.000000e+04</td>\n",
       "      <td>15.260000</td>\n",
       "      <td>0.000000</td>\n",
       "      <td>1.000000</td>\n",
       "      <td>33.000000</td>\n",
       "      <td>86.000000</td>\n",
       "      <td>10.000000</td>\n",
       "      <td>0.000000</td>\n",
       "      <td>1.058600e+04</td>\n",
       "      <td>55.700000</td>\n",
       "      <td>23.000000</td>\n",
       "      <td>0.000000</td>\n",
       "      <td>0.000000</td>\n",
       "      <td>10575.400000</td>\n",
       "      <td>10352.500000</td>\n",
       "      <td>9100.000000</td>\n",
       "      <td>1136.920000</td>\n",
       "      <td>0.000000</td>\n",
       "      <td>0.000000</td>\n",
       "      <td>0.000000</td>\n",
       "      <td>3609.580000</td>\n",
       "      <td>0.000000</td>\n",
       "      <td>41.000000</td>\n",
       "      <td>1.0</td>\n",
       "      <td>0.000000</td>\n",
       "      <td>1.0</td>\n",
       "      <td>0.000000</td>\n",
       "      <td>6.000000</td>\n",
       "      <td>4.000000</td>\n",
       "      <td>0.600000</td>\n",
       "      <td>1.000000</td>\n",
       "      <td>1.000000</td>\n",
       "      <td>1.000000</td>\n",
       "      <td>0.000000</td>\n",
       "      <td>6.965760</td>\n",
       "      <td>1.000000</td>\n",
       "      <td>1.000000</td>\n",
       "      <td>1.000000</td>\n",
       "    </tr>\n",
       "    <tr>\n",
       "      <th>75%</th>\n",
       "      <td>6.699942e+06</td>\n",
       "      <td>8.117948e+06</td>\n",
       "      <td>17600.000000</td>\n",
       "      <td>17425.000000</td>\n",
       "      <td>17000.000000</td>\n",
       "      <td>16.290000</td>\n",
       "      <td>521.930000</td>\n",
       "      <td>8.500000e+04</td>\n",
       "      <td>20.850000</td>\n",
       "      <td>0.000000</td>\n",
       "      <td>2.000000</td>\n",
       "      <td>51.000000</td>\n",
       "      <td>103.000000</td>\n",
       "      <td>13.000000</td>\n",
       "      <td>0.000000</td>\n",
       "      <td>1.855200e+04</td>\n",
       "      <td>74.300000</td>\n",
       "      <td>31.000000</td>\n",
       "      <td>0.000000</td>\n",
       "      <td>0.000000</td>\n",
       "      <td>17177.650000</td>\n",
       "      <td>16914.050000</td>\n",
       "      <td>15000.000000</td>\n",
       "      <td>2167.950000</td>\n",
       "      <td>0.000000</td>\n",
       "      <td>0.000000</td>\n",
       "      <td>0.000000</td>\n",
       "      <td>9554.700000</td>\n",
       "      <td>0.000000</td>\n",
       "      <td>60.000000</td>\n",
       "      <td>1.0</td>\n",
       "      <td>0.000000</td>\n",
       "      <td>1.0</td>\n",
       "      <td>0.000000</td>\n",
       "      <td>11.000000</td>\n",
       "      <td>5.000000</td>\n",
       "      <td>0.800000</td>\n",
       "      <td>1.000000</td>\n",
       "      <td>1.000000</td>\n",
       "      <td>1.000000</td>\n",
       "      <td>0.000000</td>\n",
       "      <td>10.215850</td>\n",
       "      <td>1.000000</td>\n",
       "      <td>1.000000</td>\n",
       "      <td>1.000000</td>\n",
       "    </tr>\n",
       "    <tr>\n",
       "      <th>max</th>\n",
       "      <td>3.784128e+07</td>\n",
       "      <td>4.060424e+07</td>\n",
       "      <td>35000.000000</td>\n",
       "      <td>35000.000000</td>\n",
       "      <td>35000.000000</td>\n",
       "      <td>26.060000</td>\n",
       "      <td>1408.130000</td>\n",
       "      <td>7.141778e+06</td>\n",
       "      <td>39.880000</td>\n",
       "      <td>29.000000</td>\n",
       "      <td>33.000000</td>\n",
       "      <td>152.000000</td>\n",
       "      <td>129.000000</td>\n",
       "      <td>76.000000</td>\n",
       "      <td>11.000000</td>\n",
       "      <td>1.743266e+06</td>\n",
       "      <td>150.700000</td>\n",
       "      <td>118.000000</td>\n",
       "      <td>34310.200000</td>\n",
       "      <td>34310.200000</td>\n",
       "      <td>55758.200000</td>\n",
       "      <td>53913.900000</td>\n",
       "      <td>35000.000000</td>\n",
       "      <td>20758.200000</td>\n",
       "      <td>208.820000</td>\n",
       "      <td>29282.100000</td>\n",
       "      <td>7002.190000</td>\n",
       "      <td>36234.400000</td>\n",
       "      <td>5.000000</td>\n",
       "      <td>152.000000</td>\n",
       "      <td>1.0</td>\n",
       "      <td>1.000000</td>\n",
       "      <td>1.0</td>\n",
       "      <td>1.000000</td>\n",
       "      <td>11.000000</td>\n",
       "      <td>6.000000</td>\n",
       "      <td>1.000000</td>\n",
       "      <td>1.000000</td>\n",
       "      <td>1.000000</td>\n",
       "      <td>1.000000</td>\n",
       "      <td>1.000000</td>\n",
       "      <td>54.171000</td>\n",
       "      <td>1.000000</td>\n",
       "      <td>1.000000</td>\n",
       "      <td>1.000000</td>\n",
       "    </tr>\n",
       "  </tbody>\n",
       "</table>\n",
       "</div>"
      ],
      "text/plain": [
       "                 id     member_id      loan_amnt    funded_amnt  \\\n",
       "count  1.226070e+05  1.226070e+05  122607.000000  122607.000000   \n",
       "mean   4.728452e+06  5.493222e+06   12809.733743   12736.123753   \n",
       "std    5.938517e+06  6.604693e+06    7932.313398    7887.167118   \n",
       "min    5.473400e+04  7.047300e+04     500.000000     500.000000   \n",
       "25%    8.532925e+05  1.064872e+06    6700.000000    6625.000000   \n",
       "50%    1.621401e+06  1.879659e+06   11000.000000   10950.000000   \n",
       "75%    6.699942e+06  8.117948e+06   17600.000000   17425.000000   \n",
       "max    3.784128e+07  4.060424e+07   35000.000000   35000.000000   \n",
       "\n",
       "       funded_amnt_inv       int_rate    installment    annual_inc  \\\n",
       "count    122607.000000  122607.000000  122607.000000  1.226030e+05   \n",
       "mean      12497.828395      13.639487     396.623285  7.138502e+04   \n",
       "std        7946.731527       4.390836     239.475936  5.841483e+04   \n",
       "min           0.000000       5.420000      15.670000  1.896000e+03   \n",
       "25%        6271.000000      10.620000     215.985000  4.405250e+04   \n",
       "50%       10500.000000      13.480000     348.180000  6.000000e+04   \n",
       "75%       17000.000000      16.290000     521.930000  8.500000e+04   \n",
       "max       35000.000000      26.060000    1408.130000  7.141778e+06   \n",
       "\n",
       "                 dti    delinq_2yrs  inq_last_6mths  mths_since_last_delinq  \\\n",
       "count  122607.000000  122578.000000   122578.000000            50500.000000   \n",
       "mean       15.496888       0.211996        0.980861               35.258198   \n",
       "std         7.497442       0.662052        1.263588               21.950074   \n",
       "min         0.000000       0.000000        0.000000                0.000000   \n",
       "25%         9.880000       0.000000        0.000000               17.000000   \n",
       "50%        15.260000       0.000000        1.000000               33.000000   \n",
       "75%        20.850000       0.000000        2.000000               51.000000   \n",
       "max        39.880000      29.000000       33.000000              152.000000   \n",
       "\n",
       "       mths_since_last_record       open_acc        pub_rec     revol_bal  \\\n",
       "count            12531.000000  122578.000000  122578.000000  1.226070e+05   \n",
       "mean                73.964488      10.457749       0.103477  1.483507e+04   \n",
       "std                 35.855540       4.713957       0.359382  1.937773e+04   \n",
       "min                  0.000000       0.000000       0.000000  0.000000e+00   \n",
       "25%                 52.000000       7.000000       0.000000  5.474000e+03   \n",
       "50%                 86.000000      10.000000       0.000000  1.058600e+04   \n",
       "75%                103.000000      13.000000       0.000000  1.855200e+04   \n",
       "max                129.000000      76.000000      11.000000  1.743266e+06   \n",
       "\n",
       "          revol_util      total_acc      out_prncp  out_prncp_inv  \\\n",
       "count  122607.000000  122578.000000  122607.000000  122607.000000   \n",
       "mean       53.716307      24.248169      22.028899      22.015354   \n",
       "std        25.723881      11.629814     611.510973     611.116057   \n",
       "min         0.000000       1.000000       0.000000       0.000000   \n",
       "25%        34.800000      16.000000       0.000000       0.000000   \n",
       "50%        55.700000      23.000000       0.000000       0.000000   \n",
       "75%        74.300000      31.000000       0.000000       0.000000   \n",
       "max       150.700000     118.000000   34310.200000   34310.200000   \n",
       "\n",
       "         total_pymnt  total_pymnt_inv  total_rec_prncp  total_rec_int  \\\n",
       "count  122607.000000    122607.000000    122607.000000  122607.000000   \n",
       "mean    12510.211529     12269.338465     10707.864970    1696.232305   \n",
       "std      9046.331429      9061.593794      8041.776401    1793.448627   \n",
       "min         0.000000         0.000000         0.000000       0.000000   \n",
       "25%      5669.805000      5454.050000      4500.000000     550.555000   \n",
       "50%     10575.400000     10352.500000      9100.000000    1136.920000   \n",
       "75%     17177.650000     16914.050000     15000.000000    2167.950000   \n",
       "max     55758.200000     53913.900000     35000.000000   20758.200000   \n",
       "\n",
       "       total_rec_late_fee     recoveries  collection_recovery_fee  \\\n",
       "count       122607.000000  122607.000000            122607.000000   \n",
       "mean             0.742344     105.371929                 4.957537   \n",
       "std              5.363268     575.651981                94.427007   \n",
       "min              0.000000       0.000000                 0.000000   \n",
       "25%              0.000000       0.000000                 0.000000   \n",
       "50%              0.000000       0.000000                 0.000000   \n",
       "75%              0.000000       0.000000                 0.000000   \n",
       "max            208.820000   29282.100000              7002.190000   \n",
       "\n",
       "       last_pymnt_amnt  collections_12_mths_ex_med  \\\n",
       "count    122607.000000               122462.000000   \n",
       "mean       6156.808616                    0.003495   \n",
       "std        7155.007894                    0.063674   \n",
       "min           0.000000                    0.000000   \n",
       "25%         440.180000                    0.000000   \n",
       "50%        3609.580000                    0.000000   \n",
       "75%        9554.700000                    0.000000   \n",
       "max       36234.400000                    5.000000   \n",
       "\n",
       "       mths_since_last_major_derog  policy_code  not_compliant  \\\n",
       "count                 15460.000000     122607.0  122607.000000   \n",
       "mean                     42.428913          1.0       0.021761   \n",
       "std                      21.457282          0.0       0.145901   \n",
       "min                       0.000000          1.0       0.000000   \n",
       "25%                      25.000000          1.0       0.000000   \n",
       "50%                      41.000000          1.0       0.000000   \n",
       "75%                      60.000000          1.0       0.000000   \n",
       "max                     152.000000          1.0       1.000000   \n",
       "\n",
       "       inactive_loans      bad_loans  emp_length_num      grade_num  \\\n",
       "count        122607.0  122607.000000   122607.000000  122607.000000   \n",
       "mean              1.0       0.188815        6.370256       4.232882   \n",
       "std               0.0       0.391363        3.736014       1.362138   \n",
       "min               1.0       0.000000        0.000000       0.000000   \n",
       "25%               1.0       0.000000        3.000000       3.000000   \n",
       "50%               1.0       0.000000        6.000000       4.000000   \n",
       "75%               1.0       0.000000       11.000000       5.000000   \n",
       "max               1.0       1.000000       11.000000       6.000000   \n",
       "\n",
       "       sub_grade_num  delinq_2yrs_zero   pub_rec_zero  \\\n",
       "count  122607.000000     122578.000000  122578.000000   \n",
       "mean        0.597509          0.858107       0.908173   \n",
       "std         0.278934          0.348942       0.288783   \n",
       "min         0.200000          0.000000       0.000000   \n",
       "25%         0.400000          1.000000       1.000000   \n",
       "50%         0.600000          1.000000       1.000000   \n",
       "75%         0.800000          1.000000       1.000000   \n",
       "max         1.000000          1.000000       1.000000   \n",
       "\n",
       "       collections_12_mths_zero      short_emp  payment_inc_ratio  \\\n",
       "count             122462.000000  122607.000000      122603.000000   \n",
       "mean                   0.996734       0.123672           7.564725   \n",
       "std                    0.057059       0.329208           4.127291   \n",
       "min                    0.000000       0.000000           0.028895   \n",
       "25%                    1.000000       0.000000           4.362575   \n",
       "50%                    1.000000       0.000000           6.965760   \n",
       "75%                    1.000000       0.000000          10.215850   \n",
       "max                    1.000000       1.000000          54.171000   \n",
       "\n",
       "       last_delinq_none  last_record_none  last_major_derog_none  \n",
       "count     122607.000000     122607.000000          122607.000000  \n",
       "mean           0.588115          0.897795               0.873906  \n",
       "std            0.492177          0.302918               0.331957  \n",
       "min            0.000000          0.000000               0.000000  \n",
       "25%            0.000000          1.000000               1.000000  \n",
       "50%            1.000000          1.000000               1.000000  \n",
       "75%            1.000000          1.000000               1.000000  \n",
       "max            1.000000          1.000000               1.000000  "
      ]
     },
     "execution_count": 352,
     "metadata": {},
     "output_type": "execute_result"
    }
   ],
   "source": [
    "loans.describe()\n"
   ]
  },
  {
   "cell_type": "code",
   "execution_count": 353,
   "metadata": {
    "collapsed": false
   },
   "outputs": [
    {
     "data": {
      "text/plain": [
       "array(['id', 'member_id', 'loan_amnt', 'funded_amnt', 'funded_amnt_inv',\n",
       "       'term', 'int_rate', 'installment', 'grade', 'sub_grade',\n",
       "       'emp_title', 'emp_length', 'home_ownership', 'annual_inc',\n",
       "       'is_inc_v', 'issue_d', 'loan_status', 'pymnt_plan', 'url', 'desc',\n",
       "       'purpose', 'title', 'zip_code', 'addr_state', 'dti', 'delinq_2yrs',\n",
       "       'earliest_cr_line', 'inq_last_6mths', 'mths_since_last_delinq',\n",
       "       'mths_since_last_record', 'open_acc', 'pub_rec', 'revol_bal',\n",
       "       'revol_util', 'total_acc', 'initial_list_status', 'out_prncp',\n",
       "       'out_prncp_inv', 'total_pymnt', 'total_pymnt_inv',\n",
       "       'total_rec_prncp', 'total_rec_int', 'total_rec_late_fee',\n",
       "       'recoveries', 'collection_recovery_fee', 'last_pymnt_d',\n",
       "       'last_pymnt_amnt', 'next_pymnt_d', 'last_credit_pull_d',\n",
       "       'collections_12_mths_ex_med', 'mths_since_last_major_derog',\n",
       "       'policy_code', 'not_compliant', 'status', 'inactive_loans',\n",
       "       'bad_loans', 'emp_length_num', 'grade_num', 'sub_grade_num',\n",
       "       'delinq_2yrs_zero', 'pub_rec_zero', 'collections_12_mths_zero',\n",
       "       'short_emp', 'payment_inc_ratio', 'final_d', 'last_delinq_none',\n",
       "       'last_record_none', 'last_major_derog_none'], dtype=object)"
      ]
     },
     "execution_count": 353,
     "metadata": {},
     "output_type": "execute_result"
    }
   ],
   "source": [
    "loans.columns.values"
   ]
  },
  {
   "cell_type": "code",
   "execution_count": 354,
   "metadata": {
    "collapsed": false
   },
   "outputs": [],
   "source": [
    "loans['safe_loans'] = loans['bad_loans'].apply(lambda x : +1 if x==0 else -1)\n",
    "loans = loans.drop('bad_loans',axis=1)"
   ]
  },
  {
   "cell_type": "code",
   "execution_count": 355,
   "metadata": {
    "collapsed": true
   },
   "outputs": [],
   "source": [
    "target = 'safe_loans'\n",
    "features = ['grade',                     # grade of the loan (categorical)\n",
    "            'sub_grade_num',             # sub-grade of the loan as a number from 0 to 1\n",
    "            'short_emp',                 # one year or less of employment\n",
    "            'emp_length_num',            # number of years of employment\n",
    "            'home_ownership',            # home_ownership status: own, mortgage or rent\n",
    "            'dti',                       # debt to income ratio\n",
    "            'purpose',                   # the purpose of the loan\n",
    "            'payment_inc_ratio',         # ratio of the monthly payment to income\n",
    "            'delinq_2yrs',               # number of delinquincies\n",
    "             'delinq_2yrs_zero',          # no delinquincies in last 2 years\n",
    "            'inq_last_6mths',            # number of creditor inquiries in last 6 months\n",
    "            'last_delinq_none',          # has borrower had a delinquincy\n",
    "            'last_major_derog_none',     # has borrower had 90 day or worse rating\n",
    "            'open_acc',                  # number of open credit accounts\n",
    "            'pub_rec',                   # number of derogatory public records\n",
    "            'pub_rec_zero',              # no derogatory public records\n",
    "            'revol_util',                # percent of available credit being used\n",
    "            'total_rec_late_fee',        # total late fees received to day\n",
    "            'int_rate',                  # interest rate of the loan\n",
    "            'total_rec_int',             # interest received to date\n",
    "            'annual_inc',                # annual income of borrower\n",
    "            'funded_amnt',               # amount committed to the loan\n",
    "            'funded_amnt_inv',           # amount committed by investors for the loan\n",
    "            'installment',               # monthly payment owed by the borrower\n",
    "           ]\n"
   ]
  },
  {
   "cell_type": "code",
   "execution_count": 356,
   "metadata": {
    "collapsed": true
   },
   "outputs": [],
   "source": [
    "loans = loans[[target] + features].dropna()"
   ]
  },
  {
   "cell_type": "code",
   "execution_count": 357,
   "metadata": {
    "collapsed": false
   },
   "outputs": [
    {
     "name": "stdout",
     "output_type": "stream",
     "text": [
      "['safe_loans' 'sub_grade_num' 'short_emp' 'emp_length_num' 'dti'\n",
      " 'payment_inc_ratio' 'delinq_2yrs' 'delinq_2yrs_zero' 'inq_last_6mths'\n",
      " 'last_delinq_none' 'last_major_derog_none' 'open_acc' 'pub_rec'\n",
      " 'pub_rec_zero' 'revol_util' 'total_rec_late_fee' 'int_rate'\n",
      " 'total_rec_int' 'annual_inc' 'funded_amnt' 'funded_amnt_inv' 'installment'\n",
      " 'grade_A' 'grade_B' 'grade_C' 'grade_D' 'grade_E' 'grade_F' 'grade_G'\n",
      " 'home_ownership_MORTGAGE' 'home_ownership_OTHER' 'home_ownership_OWN'\n",
      " 'home_ownership_RENT' 'purpose_car' 'purpose_credit_card'\n",
      " 'purpose_debt_consolidation' 'purpose_home_improvement' 'purpose_house'\n",
      " 'purpose_major_purchase' 'purpose_medical' 'purpose_moving'\n",
      " 'purpose_other' 'purpose_small_business' 'purpose_vacation'\n",
      " 'purpose_wedding']\n"
     ]
    }
   ],
   "source": [
    "# one hot encoding converts the data aset into machine splittable version so we are not deailing\n",
    "# with strings\n",
    "loans_ohe = pd.get_dummies(loans)\n",
    "loans_ohe.head()\n",
    "ohe_features= loans_ohe.columns.values\n",
    "type(ohe_features)\n",
    "print (ohe_features)"
   ]
  },
  {
   "cell_type": "code",
   "execution_count": 358,
   "metadata": {
    "collapsed": false
   },
   "outputs": [],
   "source": [
    "\n",
    "#load the train and validation idx files downloaded\n",
    "import json\n",
    "\n",
    "with open('data/module-8-assignment-1-train-idx.json', 'r') as f: # Reads the list of most frequent words\n",
    "    train_idx = json.load(f)\n",
    "f.close()\n",
    "\n",
    "with open('data/module-8-assignment-1-validation-idx.json','r') as f:\n",
    "    validation_idx = json.load(f)\n",
    "f.close()"
   ]
  },
  {
   "cell_type": "code",
   "execution_count": 359,
   "metadata": {
    "collapsed": false
   },
   "outputs": [],
   "source": [
    "# select the specific samples from the training and validation set in the loans one hot encoded data\n",
    "train_data = loans_ohe.iloc[train_idx]\n",
    "validation_data= loans_ohe.iloc[validation_idx]\n",
    "train_features = train_data[ohe_features]\n",
    "train_features = train_features.drop(target, axis=1)\n",
    "train_out = train_data[target]\n",
    "#out.head()features.head()\n"
   ]
  },
  {
   "cell_type": "code",
   "execution_count": 360,
   "metadata": {
    "collapsed": false
   },
   "outputs": [],
   "source": [
    "model_5 = sklearn.ensemble.GradientBoostingClassifier(n_estimators=5, max_depth=6).fit(train_features, train_out)"
   ]
  },
  {
   "cell_type": "code",
   "execution_count": 361,
   "metadata": {
    "collapsed": false
   },
   "outputs": [
    {
     "name": "stdout",
     "output_type": "stream",
     "text": [
      "44\n"
     ]
    },
    {
     "data": {
      "text/plain": [
       "array(['sub_grade_num', 'short_emp', 'emp_length_num', 'dti',\n",
       "       'payment_inc_ratio', 'delinq_2yrs', 'delinq_2yrs_zero',\n",
       "       'inq_last_6mths', 'last_delinq_none', 'last_major_derog_none',\n",
       "       'open_acc', 'pub_rec', 'pub_rec_zero', 'revol_util',\n",
       "       'total_rec_late_fee', 'int_rate', 'total_rec_int', 'annual_inc',\n",
       "       'funded_amnt', 'funded_amnt_inv', 'installment', 'grade_A',\n",
       "       'grade_B', 'grade_C', 'grade_D', 'grade_E', 'grade_F', 'grade_G',\n",
       "       'home_ownership_MORTGAGE', 'home_ownership_OTHER',\n",
       "       'home_ownership_OWN', 'home_ownership_RENT', 'purpose_car',\n",
       "       'purpose_credit_card', 'purpose_debt_consolidation',\n",
       "       'purpose_home_improvement', 'purpose_house',\n",
       "       'purpose_major_purchase', 'purpose_medical', 'purpose_moving',\n",
       "       'purpose_other', 'purpose_small_business', 'purpose_vacation',\n",
       "       'purpose_wedding'], dtype=object)"
      ]
     },
     "execution_count": 361,
     "metadata": {},
     "output_type": "execute_result"
    }
   ],
   "source": [
    "validation_safe_loans = validation_data[validation_data[target] == 1]\n",
    "validation_risky_loans = validation_data[validation_data[target] == -1]\n",
    "\n",
    "sample_validation_data_risky = validation_risky_loans[0:2]\n",
    "sample_validation_data_safe = validation_safe_loans[0:2]\n",
    "\n",
    "sample_validation_data = sample_validation_data_safe.append(sample_validation_data_risky)\n",
    "sample_validation_data = sample_validation_data.drop(target,axis=1)\n",
    "print (len(sample_validation_data.columns))\n",
    "sample_validation_data.columns.values"
   ]
  },
  {
   "cell_type": "code",
   "execution_count": 362,
   "metadata": {
    "collapsed": false
   },
   "outputs": [],
   "source": [
    "model_5_result = model_5.predict(sample_validation_data)"
   ]
  },
  {
   "cell_type": "code",
   "execution_count": 363,
   "metadata": {
    "collapsed": false
   },
   "outputs": [
    {
     "name": "stdout",
     "output_type": "stream",
     "text": [
      "[ 1  1 -1  1]\n"
     ]
    }
   ],
   "source": [
    "print (model_5_result)"
   ]
  },
  {
   "cell_type": "markdown",
   "metadata": {},
   "source": [
    "Quiz question: What percentage of the predictions on sample_validation_data did model_5 get correct?\n",
    "\n",
    "**75%**"
   ]
  },
  {
   "cell_type": "code",
   "execution_count": 364,
   "metadata": {
    "collapsed": false
   },
   "outputs": [
    {
     "data": {
      "text/plain": [
       "array([[ 0.41642331,  0.58357669],\n",
       "       [ 0.46949689,  0.53050311],\n",
       "       [ 0.53807792,  0.46192208],\n",
       "       [ 0.39591639,  0.60408361]])"
      ]
     },
     "execution_count": 364,
     "metadata": {},
     "output_type": "execute_result"
    }
   ],
   "source": [
    " model_5.predict_proba(sample_validation_data)"
   ]
  },
  {
   "cell_type": "markdown",
   "metadata": {},
   "source": [
    "** Loan 4 has the highest probability**"
   ]
  },
  {
   "cell_type": "code",
   "execution_count": null,
   "metadata": {
    "collapsed": false
   },
   "outputs": [],
   "source": [
    "\n"
   ]
  },
  {
   "cell_type": "code",
   "execution_count": 365,
   "metadata": {
    "collapsed": false
   },
   "outputs": [],
   "source": [
    "\n",
    "validation_features = validation_data.drop(target, axis=1)\n",
    "validation_target = validation_data[target]\n",
    "\n",
    "validation_score = model_5.score(validation_features,validation_target)"
   ]
  },
  {
   "cell_type": "markdown",
   "metadata": {},
   "source": [
    "** Score is .661 **"
   ]
  },
  {
   "cell_type": "code",
   "execution_count": 366,
   "metadata": {
    "collapsed": false
   },
   "outputs": [
    {
     "name": "stdout",
     "output_type": "stream",
     "text": [
      "[-1  1 -1 ..., -1 -1 -1]\n"
     ]
    }
   ],
   "source": [
    "model_5_validation = model_5.predict(validation_features)\n",
    "print (model_5_validation)"
   ]
  },
  {
   "cell_type": "code",
   "execution_count": 367,
   "metadata": {
    "collapsed": false
   },
   "outputs": [],
   "source": [
    "x = ((model_5_validation - validation_target) ==2)\n",
    "false_positives = x[x==True]"
   ]
  },
  {
   "cell_type": "code",
   "execution_count": 368,
   "metadata": {
    "collapsed": false
   },
   "outputs": [
    {
     "name": "stdout",
     "output_type": "stream",
     "text": [
      "1652\n"
     ]
    }
   ],
   "source": [
    "print (len(false_positives))"
   ]
  },
  {
   "cell_type": "code",
   "execution_count": 369,
   "metadata": {
    "collapsed": false
   },
   "outputs": [
    {
     "name": "stdout",
     "output_type": "stream",
     "text": [
      "9284\n"
     ]
    }
   ],
   "source": [
    "print (len(x))"
   ]
  },
  {
   "cell_type": "markdown",
   "metadata": {},
   "source": [
    "** false positive = 1652 **\n"
   ]
  },
  {
   "cell_type": "code",
   "execution_count": 370,
   "metadata": {
    "collapsed": false
   },
   "outputs": [
    {
     "name": "stdout",
     "output_type": "stream",
     "text": [
      "[-1  1 -1 ..., -1 -1 -1]\n"
     ]
    }
   ],
   "source": [
    "print (model_5_validation.T)"
   ]
  },
  {
   "cell_type": "markdown",
   "metadata": {},
   "source": [
    "model_5_validation == validation_target"
   ]
  },
  {
   "cell_type": "code",
   "execution_count": 371,
   "metadata": {
    "collapsed": false
   },
   "outputs": [],
   "source": [
    "x = [model_5_validation == validation_target]"
   ]
  },
  {
   "cell_type": "code",
   "execution_count": 372,
   "metadata": {
    "collapsed": false
   },
   "outputs": [],
   "source": [
    "x = x[x==True]"
   ]
  },
  {
   "cell_type": "code",
   "execution_count": 373,
   "metadata": {
    "collapsed": false
   },
   "outputs": [
    {
     "name": "stdout",
     "output_type": "stream",
     "text": [
      "9284\n"
     ]
    }
   ],
   "source": [
    "print (len(x))"
   ]
  },
  {
   "cell_type": "code",
   "execution_count": 374,
   "metadata": {
    "collapsed": false
   },
   "outputs": [
    {
     "name": "stdout",
     "output_type": "stream",
     "text": [
      "0\n"
     ]
    }
   ],
   "source": [
    "print (len(model_5_validation)- len(x))"
   ]
  },
  {
   "cell_type": "code",
   "execution_count": 375,
   "metadata": {
    "collapsed": true
   },
   "outputs": [],
   "source": [
    "def false_positive(arr1, arr2):\n",
    "    return np.greater(arr1,arr2)\n"
   ]
  },
  {
   "cell_type": "code",
   "execution_count": 376,
   "metadata": {
    "collapsed": false
   },
   "outputs": [],
   "source": [
    "x = false_positive(model_5_validation, validation_target)"
   ]
  },
  {
   "cell_type": "code",
   "execution_count": 377,
   "metadata": {
    "collapsed": false
   },
   "outputs": [
    {
     "name": "stdout",
     "output_type": "stream",
     "text": [
      "9284\n"
     ]
    }
   ],
   "source": [
    "print (len(x))"
   ]
  },
  {
   "cell_type": "code",
   "execution_count": 378,
   "metadata": {
    "collapsed": false
   },
   "outputs": [
    {
     "name": "stdout",
     "output_type": "stream",
     "text": [
      "1652\n"
     ]
    }
   ],
   "source": [
    "x = x[x==True]\n",
    "print (len(x))"
   ]
  },
  {
   "cell_type": "code",
   "execution_count": 379,
   "metadata": {
    "collapsed": true
   },
   "outputs": [],
   "source": [
    "def false_negative(arr1,arr2):\n",
    "    return np.less(arr1,arr2)\n"
   ]
  },
  {
   "cell_type": "code",
   "execution_count": 380,
   "metadata": {
    "collapsed": false
   },
   "outputs": [
    {
     "name": "stdout",
     "output_type": "stream",
     "text": [
      "9284\n",
      "1491\n"
     ]
    }
   ],
   "source": [
    "x1 = false_negative(model_5_validation,validation_target)\n",
    "print (len(x1))\n",
    "x1 = x1[x1==True]\n",
    "print (len(x1))"
   ]
  },
  {
   "cell_type": "code",
   "execution_count": 381,
   "metadata": {
    "collapsed": false
   },
   "outputs": [
    {
     "name": "stdout",
     "output_type": "stream",
     "text": [
      "equals  6141\n"
     ]
    }
   ],
   "source": [
    "equals = (np.equal (model_5_validation, validation_target))\n",
    "print (\"equals \", len(equals[equals==True]))"
   ]
  },
  {
   "cell_type": "markdown",
   "metadata": {},
   "source": [
    "** false negatives = 1491, false positives = 1652**\n"
   ]
  },
  {
   "cell_type": "code",
   "execution_count": 382,
   "metadata": {
    "collapsed": false
   },
   "outputs": [
    {
     "data": {
      "text/plain": [
       "9284"
      ]
     },
     "execution_count": 382,
     "metadata": {},
     "output_type": "execute_result"
    }
   ],
   "source": [
    "6141+1491+1652"
   ]
  },
  {
   "cell_type": "code",
   "execution_count": 469,
   "metadata": {
    "collapsed": false
   },
   "outputs": [
    {
     "name": "stdout",
     "output_type": "stream",
     "text": [
      "47950000\n"
     ]
    }
   ],
   "source": [
    "cost_of_mistakes = 10000*1491+20000*1652\n",
    "print (cost_of_mistakes)"
   ]
  },
  {
   "cell_type": "code",
   "execution_count": 384,
   "metadata": {
    "collapsed": false
   },
   "outputs": [],
   "source": [
    "model_5_probability =  model_5.predict_proba(validation_features)"
   ]
  },
  {
   "cell_type": "code",
   "execution_count": 385,
   "metadata": {
    "collapsed": false
   },
   "outputs": [
    {
     "name": "stdout",
     "output_type": "stream",
     "text": [
      "9284\n"
     ]
    }
   ],
   "source": [
    "print (len(model_5_probability[:,1]))"
   ]
  },
  {
   "cell_type": "code",
   "execution_count": 386,
   "metadata": {
    "collapsed": false
   },
   "outputs": [
    {
     "name": "stderr",
     "output_type": "stream",
     "text": [
      "/Library/Frameworks/Python.framework/Versions/3.5/lib/python3.5/site-packages/ipykernel/__main__.py:2: SettingWithCopyWarning: \n",
      "A value is trying to be set on a copy of a slice from a DataFrame.\n",
      "Try using .loc[row_indexer,col_indexer] = value instead\n",
      "\n",
      "See the caveats in the documentation: http://pandas.pydata.org/pandas-docs/stable/indexing.html#indexing-view-versus-copy\n",
      "  from ipykernel import kernelapp as app\n"
     ]
    }
   ],
   "source": [
    "pd.set_option('display.max_columns', None)\n",
    "validation_data['prediction'] = model_5_probability[:,1]"
   ]
  },
  {
   "cell_type": "code",
   "execution_count": 387,
   "metadata": {
    "collapsed": false
   },
   "outputs": [
    {
     "name": "stderr",
     "output_type": "stream",
     "text": [
      "/Library/Frameworks/Python.framework/Versions/3.5/lib/python3.5/site-packages/ipykernel/__main__.py:1: FutureWarning: sort(columns=....) is deprecated, use sort_values(by=.....)\n",
      "  if __name__ == '__main__':\n"
     ]
    }
   ],
   "source": [
    "validation_data = validation_data.sort('prediction', ascending=False)"
   ]
  },
  {
   "cell_type": "code",
   "execution_count": 388,
   "metadata": {
    "collapsed": false
   },
   "outputs": [
    {
     "data": {
      "text/html": [
       "<div>\n",
       "<table border=\"1\" class=\"dataframe\">\n",
       "  <thead>\n",
       "    <tr style=\"text-align: right;\">\n",
       "      <th></th>\n",
       "      <th>safe_loans</th>\n",
       "      <th>sub_grade_num</th>\n",
       "      <th>short_emp</th>\n",
       "      <th>emp_length_num</th>\n",
       "      <th>dti</th>\n",
       "      <th>payment_inc_ratio</th>\n",
       "      <th>delinq_2yrs</th>\n",
       "      <th>delinq_2yrs_zero</th>\n",
       "      <th>inq_last_6mths</th>\n",
       "      <th>last_delinq_none</th>\n",
       "      <th>last_major_derog_none</th>\n",
       "      <th>open_acc</th>\n",
       "      <th>pub_rec</th>\n",
       "      <th>pub_rec_zero</th>\n",
       "      <th>revol_util</th>\n",
       "      <th>total_rec_late_fee</th>\n",
       "      <th>int_rate</th>\n",
       "      <th>total_rec_int</th>\n",
       "      <th>annual_inc</th>\n",
       "      <th>funded_amnt</th>\n",
       "      <th>funded_amnt_inv</th>\n",
       "      <th>installment</th>\n",
       "      <th>grade_A</th>\n",
       "      <th>grade_B</th>\n",
       "      <th>grade_C</th>\n",
       "      <th>grade_D</th>\n",
       "      <th>grade_E</th>\n",
       "      <th>grade_F</th>\n",
       "      <th>grade_G</th>\n",
       "      <th>home_ownership_MORTGAGE</th>\n",
       "      <th>home_ownership_OTHER</th>\n",
       "      <th>home_ownership_OWN</th>\n",
       "      <th>home_ownership_RENT</th>\n",
       "      <th>purpose_car</th>\n",
       "      <th>purpose_credit_card</th>\n",
       "      <th>purpose_debt_consolidation</th>\n",
       "      <th>purpose_home_improvement</th>\n",
       "      <th>purpose_house</th>\n",
       "      <th>purpose_major_purchase</th>\n",
       "      <th>purpose_medical</th>\n",
       "      <th>purpose_moving</th>\n",
       "      <th>purpose_other</th>\n",
       "      <th>purpose_small_business</th>\n",
       "      <th>purpose_vacation</th>\n",
       "      <th>purpose_wedding</th>\n",
       "      <th>prediction</th>\n",
       "    </tr>\n",
       "  </thead>\n",
       "  <tbody>\n",
       "    <tr>\n",
       "      <th>8021</th>\n",
       "      <td>-1</td>\n",
       "      <td>0.4</td>\n",
       "      <td>0</td>\n",
       "      <td>4</td>\n",
       "      <td>12.73</td>\n",
       "      <td>12.16700</td>\n",
       "      <td>0.0</td>\n",
       "      <td>1.0</td>\n",
       "      <td>1.0</td>\n",
       "      <td>1</td>\n",
       "      <td>1</td>\n",
       "      <td>6.0</td>\n",
       "      <td>0.0</td>\n",
       "      <td>1.0</td>\n",
       "      <td>30.5</td>\n",
       "      <td>18.2281</td>\n",
       "      <td>5.99</td>\n",
       "      <td>1202.30</td>\n",
       "      <td>36000.0</td>\n",
       "      <td>12000</td>\n",
       "      <td>12000</td>\n",
       "      <td>365.01</td>\n",
       "      <td>1</td>\n",
       "      <td>0</td>\n",
       "      <td>0</td>\n",
       "      <td>0</td>\n",
       "      <td>0</td>\n",
       "      <td>0</td>\n",
       "      <td>0</td>\n",
       "      <td>1</td>\n",
       "      <td>0</td>\n",
       "      <td>0</td>\n",
       "      <td>0</td>\n",
       "      <td>0</td>\n",
       "      <td>0</td>\n",
       "      <td>1</td>\n",
       "      <td>0</td>\n",
       "      <td>0</td>\n",
       "      <td>0</td>\n",
       "      <td>0</td>\n",
       "      <td>0</td>\n",
       "      <td>0</td>\n",
       "      <td>0</td>\n",
       "      <td>0</td>\n",
       "      <td>0</td>\n",
       "      <td>0.673059</td>\n",
       "    </tr>\n",
       "    <tr>\n",
       "      <th>109930</th>\n",
       "      <td>1</td>\n",
       "      <td>0.4</td>\n",
       "      <td>0</td>\n",
       "      <td>4</td>\n",
       "      <td>13.75</td>\n",
       "      <td>2.03093</td>\n",
       "      <td>0.0</td>\n",
       "      <td>1.0</td>\n",
       "      <td>1.0</td>\n",
       "      <td>1</td>\n",
       "      <td>1</td>\n",
       "      <td>19.0</td>\n",
       "      <td>0.0</td>\n",
       "      <td>1.0</td>\n",
       "      <td>12.5</td>\n",
       "      <td>0.0000</td>\n",
       "      <td>6.49</td>\n",
       "      <td>130.10</td>\n",
       "      <td>72428.0</td>\n",
       "      <td>4000</td>\n",
       "      <td>4000</td>\n",
       "      <td>122.58</td>\n",
       "      <td>1</td>\n",
       "      <td>0</td>\n",
       "      <td>0</td>\n",
       "      <td>0</td>\n",
       "      <td>0</td>\n",
       "      <td>0</td>\n",
       "      <td>0</td>\n",
       "      <td>0</td>\n",
       "      <td>0</td>\n",
       "      <td>0</td>\n",
       "      <td>1</td>\n",
       "      <td>1</td>\n",
       "      <td>0</td>\n",
       "      <td>0</td>\n",
       "      <td>0</td>\n",
       "      <td>0</td>\n",
       "      <td>0</td>\n",
       "      <td>0</td>\n",
       "      <td>0</td>\n",
       "      <td>0</td>\n",
       "      <td>0</td>\n",
       "      <td>0</td>\n",
       "      <td>0</td>\n",
       "      <td>0.661468</td>\n",
       "    </tr>\n",
       "    <tr>\n",
       "      <th>10689</th>\n",
       "      <td>1</td>\n",
       "      <td>0.4</td>\n",
       "      <td>0</td>\n",
       "      <td>5</td>\n",
       "      <td>7.82</td>\n",
       "      <td>1.12313</td>\n",
       "      <td>0.0</td>\n",
       "      <td>1.0</td>\n",
       "      <td>1.0</td>\n",
       "      <td>1</td>\n",
       "      <td>1</td>\n",
       "      <td>11.0</td>\n",
       "      <td>0.0</td>\n",
       "      <td>1.0</td>\n",
       "      <td>8.3</td>\n",
       "      <td>0.0000</td>\n",
       "      <td>5.99</td>\n",
       "      <td>949.91</td>\n",
       "      <td>325000.0</td>\n",
       "      <td>10000</td>\n",
       "      <td>10000</td>\n",
       "      <td>304.18</td>\n",
       "      <td>1</td>\n",
       "      <td>0</td>\n",
       "      <td>0</td>\n",
       "      <td>0</td>\n",
       "      <td>0</td>\n",
       "      <td>0</td>\n",
       "      <td>0</td>\n",
       "      <td>1</td>\n",
       "      <td>0</td>\n",
       "      <td>0</td>\n",
       "      <td>0</td>\n",
       "      <td>0</td>\n",
       "      <td>0</td>\n",
       "      <td>0</td>\n",
       "      <td>1</td>\n",
       "      <td>0</td>\n",
       "      <td>0</td>\n",
       "      <td>0</td>\n",
       "      <td>0</td>\n",
       "      <td>0</td>\n",
       "      <td>0</td>\n",
       "      <td>0</td>\n",
       "      <td>0</td>\n",
       "      <td>0.661468</td>\n",
       "    </tr>\n",
       "    <tr>\n",
       "      <th>13391</th>\n",
       "      <td>1</td>\n",
       "      <td>0.2</td>\n",
       "      <td>0</td>\n",
       "      <td>2</td>\n",
       "      <td>8.18</td>\n",
       "      <td>6.03200</td>\n",
       "      <td>0.0</td>\n",
       "      <td>1.0</td>\n",
       "      <td>0.0</td>\n",
       "      <td>1</td>\n",
       "      <td>1</td>\n",
       "      <td>10.0</td>\n",
       "      <td>0.0</td>\n",
       "      <td>1.0</td>\n",
       "      <td>6.3</td>\n",
       "      <td>0.0000</td>\n",
       "      <td>5.42</td>\n",
       "      <td>970.17</td>\n",
       "      <td>72000.0</td>\n",
       "      <td>12000</td>\n",
       "      <td>12000</td>\n",
       "      <td>361.92</td>\n",
       "      <td>1</td>\n",
       "      <td>0</td>\n",
       "      <td>0</td>\n",
       "      <td>0</td>\n",
       "      <td>0</td>\n",
       "      <td>0</td>\n",
       "      <td>0</td>\n",
       "      <td>1</td>\n",
       "      <td>0</td>\n",
       "      <td>0</td>\n",
       "      <td>0</td>\n",
       "      <td>0</td>\n",
       "      <td>0</td>\n",
       "      <td>0</td>\n",
       "      <td>0</td>\n",
       "      <td>0</td>\n",
       "      <td>0</td>\n",
       "      <td>0</td>\n",
       "      <td>0</td>\n",
       "      <td>1</td>\n",
       "      <td>0</td>\n",
       "      <td>0</td>\n",
       "      <td>0</td>\n",
       "      <td>0.661468</td>\n",
       "    </tr>\n",
       "    <tr>\n",
       "      <th>89078</th>\n",
       "      <td>1</td>\n",
       "      <td>0.4</td>\n",
       "      <td>0</td>\n",
       "      <td>11</td>\n",
       "      <td>14.95</td>\n",
       "      <td>2.26242</td>\n",
       "      <td>0.0</td>\n",
       "      <td>1.0</td>\n",
       "      <td>1.0</td>\n",
       "      <td>1</td>\n",
       "      <td>1</td>\n",
       "      <td>10.0</td>\n",
       "      <td>0.0</td>\n",
       "      <td>1.0</td>\n",
       "      <td>22.9</td>\n",
       "      <td>0.0000</td>\n",
       "      <td>6.62</td>\n",
       "      <td>560.39</td>\n",
       "      <td>114000.0</td>\n",
       "      <td>7000</td>\n",
       "      <td>6975</td>\n",
       "      <td>214.93</td>\n",
       "      <td>1</td>\n",
       "      <td>0</td>\n",
       "      <td>0</td>\n",
       "      <td>0</td>\n",
       "      <td>0</td>\n",
       "      <td>0</td>\n",
       "      <td>0</td>\n",
       "      <td>1</td>\n",
       "      <td>0</td>\n",
       "      <td>0</td>\n",
       "      <td>0</td>\n",
       "      <td>0</td>\n",
       "      <td>0</td>\n",
       "      <td>1</td>\n",
       "      <td>0</td>\n",
       "      <td>0</td>\n",
       "      <td>0</td>\n",
       "      <td>0</td>\n",
       "      <td>0</td>\n",
       "      <td>0</td>\n",
       "      <td>0</td>\n",
       "      <td>0</td>\n",
       "      <td>0</td>\n",
       "      <td>0.661468</td>\n",
       "    </tr>\n",
       "  </tbody>\n",
       "</table>\n",
       "</div>"
      ],
      "text/plain": [
       "        safe_loans  sub_grade_num  short_emp  emp_length_num    dti  \\\n",
       "8021            -1            0.4          0               4  12.73   \n",
       "109930           1            0.4          0               4  13.75   \n",
       "10689            1            0.4          0               5   7.82   \n",
       "13391            1            0.2          0               2   8.18   \n",
       "89078            1            0.4          0              11  14.95   \n",
       "\n",
       "        payment_inc_ratio  delinq_2yrs  delinq_2yrs_zero  inq_last_6mths  \\\n",
       "8021             12.16700          0.0               1.0             1.0   \n",
       "109930            2.03093          0.0               1.0             1.0   \n",
       "10689             1.12313          0.0               1.0             1.0   \n",
       "13391             6.03200          0.0               1.0             0.0   \n",
       "89078             2.26242          0.0               1.0             1.0   \n",
       "\n",
       "        last_delinq_none  last_major_derog_none  open_acc  pub_rec  \\\n",
       "8021                   1                      1       6.0      0.0   \n",
       "109930                 1                      1      19.0      0.0   \n",
       "10689                  1                      1      11.0      0.0   \n",
       "13391                  1                      1      10.0      0.0   \n",
       "89078                  1                      1      10.0      0.0   \n",
       "\n",
       "        pub_rec_zero  revol_util  total_rec_late_fee  int_rate  total_rec_int  \\\n",
       "8021             1.0        30.5             18.2281      5.99        1202.30   \n",
       "109930           1.0        12.5              0.0000      6.49         130.10   \n",
       "10689            1.0         8.3              0.0000      5.99         949.91   \n",
       "13391            1.0         6.3              0.0000      5.42         970.17   \n",
       "89078            1.0        22.9              0.0000      6.62         560.39   \n",
       "\n",
       "        annual_inc  funded_amnt  funded_amnt_inv  installment  grade_A  \\\n",
       "8021       36000.0        12000            12000       365.01        1   \n",
       "109930     72428.0         4000             4000       122.58        1   \n",
       "10689     325000.0        10000            10000       304.18        1   \n",
       "13391      72000.0        12000            12000       361.92        1   \n",
       "89078     114000.0         7000             6975       214.93        1   \n",
       "\n",
       "        grade_B  grade_C  grade_D  grade_E  grade_F  grade_G  \\\n",
       "8021          0        0        0        0        0        0   \n",
       "109930        0        0        0        0        0        0   \n",
       "10689         0        0        0        0        0        0   \n",
       "13391         0        0        0        0        0        0   \n",
       "89078         0        0        0        0        0        0   \n",
       "\n",
       "        home_ownership_MORTGAGE  home_ownership_OTHER  home_ownership_OWN  \\\n",
       "8021                          1                     0                   0   \n",
       "109930                        0                     0                   0   \n",
       "10689                         1                     0                   0   \n",
       "13391                         1                     0                   0   \n",
       "89078                         1                     0                   0   \n",
       "\n",
       "        home_ownership_RENT  purpose_car  purpose_credit_card  \\\n",
       "8021                      0            0                    0   \n",
       "109930                    1            1                    0   \n",
       "10689                     0            0                    0   \n",
       "13391                     0            0                    0   \n",
       "89078                     0            0                    0   \n",
       "\n",
       "        purpose_debt_consolidation  purpose_home_improvement  purpose_house  \\\n",
       "8021                             1                         0              0   \n",
       "109930                           0                         0              0   \n",
       "10689                            0                         1              0   \n",
       "13391                            0                         0              0   \n",
       "89078                            1                         0              0   \n",
       "\n",
       "        purpose_major_purchase  purpose_medical  purpose_moving  \\\n",
       "8021                         0                0               0   \n",
       "109930                       0                0               0   \n",
       "10689                        0                0               0   \n",
       "13391                        0                0               0   \n",
       "89078                        0                0               0   \n",
       "\n",
       "        purpose_other  purpose_small_business  purpose_vacation  \\\n",
       "8021                0                       0                 0   \n",
       "109930              0                       0                 0   \n",
       "10689               0                       0                 0   \n",
       "13391               1                       0                 0   \n",
       "89078               0                       0                 0   \n",
       "\n",
       "        purpose_wedding  prediction  \n",
       "8021                  0    0.673059  \n",
       "109930                0    0.661468  \n",
       "10689                 0    0.661468  \n",
       "13391                 0    0.661468  \n",
       "89078                 0    0.661468  "
      ]
     },
     "execution_count": 388,
     "metadata": {},
     "output_type": "execute_result"
    }
   ],
   "source": [
    "validation_data.head()"
   ]
  },
  {
   "cell_type": "markdown",
   "metadata": {},
   "source": [
    "Top 5 loans grades - ** A D F C C **\n"
   ]
  },
  {
   "cell_type": "code",
   "execution_count": 389,
   "metadata": {
    "collapsed": false
   },
   "outputs": [
    {
     "data": {
      "text/html": [
       "<div>\n",
       "<table border=\"1\" class=\"dataframe\">\n",
       "  <thead>\n",
       "    <tr style=\"text-align: right;\">\n",
       "      <th></th>\n",
       "      <th>safe_loans</th>\n",
       "      <th>sub_grade_num</th>\n",
       "      <th>short_emp</th>\n",
       "      <th>emp_length_num</th>\n",
       "      <th>dti</th>\n",
       "      <th>payment_inc_ratio</th>\n",
       "      <th>delinq_2yrs</th>\n",
       "      <th>delinq_2yrs_zero</th>\n",
       "      <th>inq_last_6mths</th>\n",
       "      <th>last_delinq_none</th>\n",
       "      <th>last_major_derog_none</th>\n",
       "      <th>open_acc</th>\n",
       "      <th>pub_rec</th>\n",
       "      <th>pub_rec_zero</th>\n",
       "      <th>revol_util</th>\n",
       "      <th>total_rec_late_fee</th>\n",
       "      <th>int_rate</th>\n",
       "      <th>total_rec_int</th>\n",
       "      <th>annual_inc</th>\n",
       "      <th>funded_amnt</th>\n",
       "      <th>funded_amnt_inv</th>\n",
       "      <th>installment</th>\n",
       "      <th>grade_A</th>\n",
       "      <th>grade_B</th>\n",
       "      <th>grade_C</th>\n",
       "      <th>grade_D</th>\n",
       "      <th>grade_E</th>\n",
       "      <th>grade_F</th>\n",
       "      <th>grade_G</th>\n",
       "      <th>home_ownership_MORTGAGE</th>\n",
       "      <th>home_ownership_OTHER</th>\n",
       "      <th>home_ownership_OWN</th>\n",
       "      <th>home_ownership_RENT</th>\n",
       "      <th>purpose_car</th>\n",
       "      <th>purpose_credit_card</th>\n",
       "      <th>purpose_debt_consolidation</th>\n",
       "      <th>purpose_home_improvement</th>\n",
       "      <th>purpose_house</th>\n",
       "      <th>purpose_major_purchase</th>\n",
       "      <th>purpose_medical</th>\n",
       "      <th>purpose_moving</th>\n",
       "      <th>purpose_other</th>\n",
       "      <th>purpose_small_business</th>\n",
       "      <th>purpose_vacation</th>\n",
       "      <th>purpose_wedding</th>\n",
       "      <th>prediction</th>\n",
       "    </tr>\n",
       "  </thead>\n",
       "  <tbody>\n",
       "    <tr>\n",
       "      <th>114781</th>\n",
       "      <td>-1</td>\n",
       "      <td>0.4</td>\n",
       "      <td>0</td>\n",
       "      <td>3</td>\n",
       "      <td>21.90</td>\n",
       "      <td>7.18760</td>\n",
       "      <td>1.0</td>\n",
       "      <td>0.0</td>\n",
       "      <td>4.0</td>\n",
       "      <td>0</td>\n",
       "      <td>1</td>\n",
       "      <td>20.0</td>\n",
       "      <td>0.0</td>\n",
       "      <td>1.0</td>\n",
       "      <td>63.4</td>\n",
       "      <td>0.000</td>\n",
       "      <td>17.57</td>\n",
       "      <td>0.00</td>\n",
       "      <td>60000.0</td>\n",
       "      <td>10000</td>\n",
       "      <td>10000</td>\n",
       "      <td>359.38</td>\n",
       "      <td>0</td>\n",
       "      <td>0</td>\n",
       "      <td>0</td>\n",
       "      <td>1</td>\n",
       "      <td>0</td>\n",
       "      <td>0</td>\n",
       "      <td>0</td>\n",
       "      <td>1</td>\n",
       "      <td>0</td>\n",
       "      <td>0</td>\n",
       "      <td>0</td>\n",
       "      <td>0</td>\n",
       "      <td>0</td>\n",
       "      <td>1</td>\n",
       "      <td>0</td>\n",
       "      <td>0</td>\n",
       "      <td>0</td>\n",
       "      <td>0</td>\n",
       "      <td>0</td>\n",
       "      <td>0</td>\n",
       "      <td>0</td>\n",
       "      <td>0</td>\n",
       "      <td>0</td>\n",
       "      <td>0.315973</td>\n",
       "    </tr>\n",
       "    <tr>\n",
       "      <th>101746</th>\n",
       "      <td>-1</td>\n",
       "      <td>0.2</td>\n",
       "      <td>0</td>\n",
       "      <td>11</td>\n",
       "      <td>11.21</td>\n",
       "      <td>4.23624</td>\n",
       "      <td>0.0</td>\n",
       "      <td>1.0</td>\n",
       "      <td>3.0</td>\n",
       "      <td>1</td>\n",
       "      <td>1</td>\n",
       "      <td>7.0</td>\n",
       "      <td>0.0</td>\n",
       "      <td>1.0</td>\n",
       "      <td>22.7</td>\n",
       "      <td>0.000</td>\n",
       "      <td>16.29</td>\n",
       "      <td>0.00</td>\n",
       "      <td>50000.0</td>\n",
       "      <td>5000</td>\n",
       "      <td>5000</td>\n",
       "      <td>176.51</td>\n",
       "      <td>0</td>\n",
       "      <td>0</td>\n",
       "      <td>0</td>\n",
       "      <td>1</td>\n",
       "      <td>0</td>\n",
       "      <td>0</td>\n",
       "      <td>0</td>\n",
       "      <td>0</td>\n",
       "      <td>0</td>\n",
       "      <td>1</td>\n",
       "      <td>0</td>\n",
       "      <td>0</td>\n",
       "      <td>0</td>\n",
       "      <td>0</td>\n",
       "      <td>0</td>\n",
       "      <td>0</td>\n",
       "      <td>1</td>\n",
       "      <td>0</td>\n",
       "      <td>0</td>\n",
       "      <td>0</td>\n",
       "      <td>0</td>\n",
       "      <td>0</td>\n",
       "      <td>0</td>\n",
       "      <td>0.315973</td>\n",
       "    </tr>\n",
       "    <tr>\n",
       "      <th>27502</th>\n",
       "      <td>-1</td>\n",
       "      <td>1.0</td>\n",
       "      <td>0</td>\n",
       "      <td>3</td>\n",
       "      <td>8.53</td>\n",
       "      <td>14.62800</td>\n",
       "      <td>0.0</td>\n",
       "      <td>1.0</td>\n",
       "      <td>0.0</td>\n",
       "      <td>1</td>\n",
       "      <td>1</td>\n",
       "      <td>6.0</td>\n",
       "      <td>0.0</td>\n",
       "      <td>1.0</td>\n",
       "      <td>79.5</td>\n",
       "      <td>54.709</td>\n",
       "      <td>14.22</td>\n",
       "      <td>492.33</td>\n",
       "      <td>45000.0</td>\n",
       "      <td>16000</td>\n",
       "      <td>16000</td>\n",
       "      <td>548.55</td>\n",
       "      <td>0</td>\n",
       "      <td>0</td>\n",
       "      <td>1</td>\n",
       "      <td>0</td>\n",
       "      <td>0</td>\n",
       "      <td>0</td>\n",
       "      <td>0</td>\n",
       "      <td>1</td>\n",
       "      <td>0</td>\n",
       "      <td>0</td>\n",
       "      <td>0</td>\n",
       "      <td>0</td>\n",
       "      <td>0</td>\n",
       "      <td>0</td>\n",
       "      <td>1</td>\n",
       "      <td>0</td>\n",
       "      <td>0</td>\n",
       "      <td>0</td>\n",
       "      <td>0</td>\n",
       "      <td>0</td>\n",
       "      <td>0</td>\n",
       "      <td>0</td>\n",
       "      <td>0</td>\n",
       "      <td>0.312806</td>\n",
       "    </tr>\n",
       "    <tr>\n",
       "      <th>58794</th>\n",
       "      <td>-1</td>\n",
       "      <td>0.8</td>\n",
       "      <td>0</td>\n",
       "      <td>2</td>\n",
       "      <td>8.66</td>\n",
       "      <td>17.62510</td>\n",
       "      <td>0.0</td>\n",
       "      <td>1.0</td>\n",
       "      <td>0.0</td>\n",
       "      <td>1</td>\n",
       "      <td>1</td>\n",
       "      <td>8.0</td>\n",
       "      <td>0.0</td>\n",
       "      <td>1.0</td>\n",
       "      <td>64.4</td>\n",
       "      <td>92.520</td>\n",
       "      <td>16.29</td>\n",
       "      <td>2741.40</td>\n",
       "      <td>42000.0</td>\n",
       "      <td>17475</td>\n",
       "      <td>17475</td>\n",
       "      <td>616.88</td>\n",
       "      <td>0</td>\n",
       "      <td>0</td>\n",
       "      <td>1</td>\n",
       "      <td>0</td>\n",
       "      <td>0</td>\n",
       "      <td>0</td>\n",
       "      <td>0</td>\n",
       "      <td>0</td>\n",
       "      <td>0</td>\n",
       "      <td>0</td>\n",
       "      <td>1</td>\n",
       "      <td>0</td>\n",
       "      <td>0</td>\n",
       "      <td>1</td>\n",
       "      <td>0</td>\n",
       "      <td>0</td>\n",
       "      <td>0</td>\n",
       "      <td>0</td>\n",
       "      <td>0</td>\n",
       "      <td>0</td>\n",
       "      <td>0</td>\n",
       "      <td>0</td>\n",
       "      <td>0</td>\n",
       "      <td>0.307334</td>\n",
       "    </tr>\n",
       "    <tr>\n",
       "      <th>84508</th>\n",
       "      <td>-1</td>\n",
       "      <td>0.8</td>\n",
       "      <td>1</td>\n",
       "      <td>1</td>\n",
       "      <td>7.37</td>\n",
       "      <td>16.62070</td>\n",
       "      <td>0.0</td>\n",
       "      <td>1.0</td>\n",
       "      <td>1.0</td>\n",
       "      <td>1</td>\n",
       "      <td>1</td>\n",
       "      <td>8.0</td>\n",
       "      <td>0.0</td>\n",
       "      <td>1.0</td>\n",
       "      <td>32.6</td>\n",
       "      <td>24.930</td>\n",
       "      <td>16.29</td>\n",
       "      <td>2777.21</td>\n",
       "      <td>36000.0</td>\n",
       "      <td>14125</td>\n",
       "      <td>14125</td>\n",
       "      <td>498.62</td>\n",
       "      <td>0</td>\n",
       "      <td>0</td>\n",
       "      <td>1</td>\n",
       "      <td>0</td>\n",
       "      <td>0</td>\n",
       "      <td>0</td>\n",
       "      <td>0</td>\n",
       "      <td>0</td>\n",
       "      <td>0</td>\n",
       "      <td>0</td>\n",
       "      <td>1</td>\n",
       "      <td>0</td>\n",
       "      <td>0</td>\n",
       "      <td>1</td>\n",
       "      <td>0</td>\n",
       "      <td>0</td>\n",
       "      <td>0</td>\n",
       "      <td>0</td>\n",
       "      <td>0</td>\n",
       "      <td>0</td>\n",
       "      <td>0</td>\n",
       "      <td>0</td>\n",
       "      <td>0</td>\n",
       "      <td>0.307334</td>\n",
       "    </tr>\n",
       "  </tbody>\n",
       "</table>\n",
       "</div>"
      ],
      "text/plain": [
       "        safe_loans  sub_grade_num  short_emp  emp_length_num    dti  \\\n",
       "114781          -1            0.4          0               3  21.90   \n",
       "101746          -1            0.2          0              11  11.21   \n",
       "27502           -1            1.0          0               3   8.53   \n",
       "58794           -1            0.8          0               2   8.66   \n",
       "84508           -1            0.8          1               1   7.37   \n",
       "\n",
       "        payment_inc_ratio  delinq_2yrs  delinq_2yrs_zero  inq_last_6mths  \\\n",
       "114781            7.18760          1.0               0.0             4.0   \n",
       "101746            4.23624          0.0               1.0             3.0   \n",
       "27502            14.62800          0.0               1.0             0.0   \n",
       "58794            17.62510          0.0               1.0             0.0   \n",
       "84508            16.62070          0.0               1.0             1.0   \n",
       "\n",
       "        last_delinq_none  last_major_derog_none  open_acc  pub_rec  \\\n",
       "114781                 0                      1      20.0      0.0   \n",
       "101746                 1                      1       7.0      0.0   \n",
       "27502                  1                      1       6.0      0.0   \n",
       "58794                  1                      1       8.0      0.0   \n",
       "84508                  1                      1       8.0      0.0   \n",
       "\n",
       "        pub_rec_zero  revol_util  total_rec_late_fee  int_rate  total_rec_int  \\\n",
       "114781           1.0        63.4               0.000     17.57           0.00   \n",
       "101746           1.0        22.7               0.000     16.29           0.00   \n",
       "27502            1.0        79.5              54.709     14.22         492.33   \n",
       "58794            1.0        64.4              92.520     16.29        2741.40   \n",
       "84508            1.0        32.6              24.930     16.29        2777.21   \n",
       "\n",
       "        annual_inc  funded_amnt  funded_amnt_inv  installment  grade_A  \\\n",
       "114781     60000.0        10000            10000       359.38        0   \n",
       "101746     50000.0         5000             5000       176.51        0   \n",
       "27502      45000.0        16000            16000       548.55        0   \n",
       "58794      42000.0        17475            17475       616.88        0   \n",
       "84508      36000.0        14125            14125       498.62        0   \n",
       "\n",
       "        grade_B  grade_C  grade_D  grade_E  grade_F  grade_G  \\\n",
       "114781        0        0        1        0        0        0   \n",
       "101746        0        0        1        0        0        0   \n",
       "27502         0        1        0        0        0        0   \n",
       "58794         0        1        0        0        0        0   \n",
       "84508         0        1        0        0        0        0   \n",
       "\n",
       "        home_ownership_MORTGAGE  home_ownership_OTHER  home_ownership_OWN  \\\n",
       "114781                        1                     0                   0   \n",
       "101746                        0                     0                   1   \n",
       "27502                         1                     0                   0   \n",
       "58794                         0                     0                   0   \n",
       "84508                         0                     0                   0   \n",
       "\n",
       "        home_ownership_RENT  purpose_car  purpose_credit_card  \\\n",
       "114781                    0            0                    0   \n",
       "101746                    0            0                    0   \n",
       "27502                     0            0                    0   \n",
       "58794                     1            0                    0   \n",
       "84508                     1            0                    0   \n",
       "\n",
       "        purpose_debt_consolidation  purpose_home_improvement  purpose_house  \\\n",
       "114781                           1                         0              0   \n",
       "101746                           0                         0              0   \n",
       "27502                            0                         1              0   \n",
       "58794                            1                         0              0   \n",
       "84508                            1                         0              0   \n",
       "\n",
       "        purpose_major_purchase  purpose_medical  purpose_moving  \\\n",
       "114781                       0                0               0   \n",
       "101746                       1                0               0   \n",
       "27502                        0                0               0   \n",
       "58794                        0                0               0   \n",
       "84508                        0                0               0   \n",
       "\n",
       "        purpose_other  purpose_small_business  purpose_vacation  \\\n",
       "114781              0                       0                 0   \n",
       "101746              0                       0                 0   \n",
       "27502               0                       0                 0   \n",
       "58794               0                       0                 0   \n",
       "84508               0                       0                 0   \n",
       "\n",
       "        purpose_wedding  prediction  \n",
       "114781                0    0.315973  \n",
       "101746                0    0.315973  \n",
       "27502                 0    0.312806  \n",
       "58794                 0    0.307334  \n",
       "84508                 0    0.307334  "
      ]
     },
     "execution_count": 389,
     "metadata": {},
     "output_type": "execute_result"
    }
   ],
   "source": [
    "validation_data.tail()"
   ]
  },
  {
   "cell_type": "markdown",
   "metadata": {},
   "source": [
    "** bottom 5 Grades = C C B C C **"
   ]
  },
  {
   "cell_type": "code",
   "execution_count": 392,
   "metadata": {
    "collapsed": false
   },
   "outputs": [
    {
     "name": "stdout",
     "output_type": "stream",
     "text": [
      "0.338539422663\n"
     ]
    }
   ],
   "source": [
    "classification_error = 1 - validation_score\n",
    "print (classification_error)"
   ]
  },
  {
   "cell_type": "code",
   "execution_count": 393,
   "metadata": {
    "collapsed": true
   },
   "outputs": [],
   "source": [
    "import matplotlib.pyplot as plt\n",
    "%matplotlib inline\n",
    "def make_figure(dim, title, xlabel, ylabel, legend):\n",
    "    plt.rcParams['figure.figsize'] = dim\n",
    "    plt.title(title)\n",
    "    plt.xlabel(xlabel)\n",
    "    plt.ylabel(ylabel)\n",
    "    if legend is not None:\n",
    "        plt.legend(loc=legend, prop={'size':15})\n",
    "    plt.rcParams.update({'font.size': 16})\n",
    "    plt.tight_layout()"
   ]
  },
  {
   "cell_type": "code",
   "execution_count": 422,
   "metadata": {
    "collapsed": false
   },
   "outputs": [],
   "source": [
    "model_10 = sklearn.ensemble.GradientBoostingClassifier(n_estimators=10, max_depth=6).fit(train_features, train_out)\n",
    "model_50 = sklearn.ensemble.GradientBoostingClassifier(n_estimators=50, max_depth=6).fit(train_features, train_out)\n",
    "model_100 = sklearn.ensemble.GradientBoostingClassifier(n_estimators=100, max_depth=6).fit(train_features, train_out)\n",
    "model_200 = sklearn.ensemble.GradientBoostingClassifier(n_estimators=200, max_depth=6).fit(train_features, train_out)\n",
    "model_500 = sklearn.ensemble.GradientBoostingClassifier(n_estimators=500, max_depth=6).fit(train_features, train_out)"
   ]
  },
  {
   "cell_type": "markdown",
   "metadata": {},
   "source": [
    "** Calculate the classification error for each model on the training data (train_data). **"
   ]
  },
  {
   "cell_type": "code",
   "execution_count": 439,
   "metadata": {
    "collapsed": false
   },
   "outputs": [
    {
     "name": "stdout",
     "output_type": "stream",
     "text": [
      "[0.67167307020607758, 0.71632768209785325, 0.74620489534914958, 0.78462613181439589, 0.86541820038152562]\n",
      "[0.32832692979392242, 0.28367231790214675, 0.25379510465085042, 0.21537386818560411, 0.13458179961847438]\n"
     ]
    }
   ],
   "source": [
    "# \n",
    "# train_score, train_classification_error\n",
    "#\n",
    "train_score = []\n",
    "train_score.append(model_10.score(train_features,train_out))\n",
    "train_score.append(model_50.score(train_features,train_out))\n",
    "\n",
    "train_score.append(model_100.score(train_features,train_out))\n",
    "train_score.append(model_200.score(train_features,train_out))\n",
    "train_score.append(model_500.score(train_features,train_out))\n",
    "\n",
    "print (train_score)\n",
    "\n",
    "train_classification_error = []\n",
    "for i in range (len(train_score)):\n",
    "    train_classification_error.append (1. - train_score[i])\n",
    "    \n",
    "print (train_classification_error)"
   ]
  },
  {
   "cell_type": "code",
   "execution_count": 455,
   "metadata": {
    "collapsed": false
   },
   "outputs": [
    {
     "name": "stdout",
     "output_type": "stream",
     "text": [
      "[array([ 1.3591313 ,  1.33660605,  1.31749676,  1.3015524 ,  1.28740625,\n",
      "        1.27530241,  1.26467736,  1.25499087,  1.24725465,  1.23977074]), array([ 1.3591313 ,  1.33660523,  1.31749579,  1.30155151,  1.28740546,\n",
      "        1.27521644,  1.26458354,  1.25490245,  1.24686273,  1.23921037,\n",
      "        1.23291556,  1.22651636,  1.22096652,  1.21539052,  1.21034051,\n",
      "        1.20606726,  1.20233909,  1.19770603,  1.19412655,  1.19007843,\n",
      "        1.18674877,  1.183493  ,  1.18010684,  1.17746962,  1.17469102,\n",
      "        1.17209231,  1.16726546,  1.1648894 ,  1.16256466,  1.16026197,\n",
      "        1.15836289,  1.15445235,  1.15139352,  1.14925566,  1.14529976,\n",
      "        1.1437115 ,  1.14083753,  1.13719415,  1.13589278,  1.13451195,\n",
      "        1.13233686,  1.12978014,  1.12851884,  1.12556135,  1.12368607,\n",
      "        1.12098706,  1.11922357,  1.1168376 ,  1.11568776,  1.1145539 ]), array([ 1.3591313 ,  1.33660605,  1.31749676,  1.3015524 ,  1.28740625,\n",
      "        1.27530241,  1.26467736,  1.25499087,  1.24725465,  1.23977074,\n",
      "        1.23309012,  1.2267496 ,  1.22066368,  1.2155011 ,  1.21064863,\n",
      "        1.20590286,  1.20207977,  1.19827636,  1.19422962,  1.19015332,\n",
      "        1.18667929,  1.18356749,  1.1790775 ,  1.17628383,  1.1736196 ,\n",
      "        1.16980234,  1.16743642,  1.16433086,  1.16217747,  1.15824708,\n",
      "        1.15607236,  1.15383992,  1.15263437,  1.14879201,  1.14628384,\n",
      "        1.14266716,  1.14128577,  1.13862691,  1.13748535,  1.1339985 ,\n",
      "        1.13171899,  1.12864375,  1.12597426,  1.12435166,  1.12335429,\n",
      "        1.12065938,  1.11905883,  1.11766908,  1.11582864,  1.11508181,\n",
      "        1.11315877,  1.11159182,  1.10975699,  1.10848108,  1.10590909,\n",
      "        1.10420545,  1.10256082,  1.10121322,  1.0987639 ,  1.0978366 ,\n",
      "        1.09673825,  1.09476571,  1.09402599,  1.09206186,  1.09036031,\n",
      "        1.08843338,  1.08780864,  1.08633756,  1.0851091 ,  1.08402843,\n",
      "        1.08293145,  1.0813869 ,  1.07943627,  1.07696896,  1.07476316,\n",
      "        1.07369388,  1.07198023,  1.07011412,  1.0680757 ,  1.0668934 ,\n",
      "        1.06606462,  1.06459727,  1.06431717,  1.06343787,  1.06240957,\n",
      "        1.06180481,  1.06077358,  1.0598806 ,  1.05878787,  1.05732722,\n",
      "        1.05562227,  1.05448732,  1.0529353 ,  1.05261182,  1.05154741,\n",
      "        1.05047493,  1.04972506,  1.04858689,  1.04777868,  1.04597934]), array([ 1.3591313 ,  1.33660523,  1.31749579,  1.30155151,  1.28740546,\n",
      "        1.27521644,  1.26458354,  1.25490245,  1.24686273,  1.23921037,\n",
      "        1.23291556,  1.22651636,  1.22096652,  1.21539052,  1.21034051,\n",
      "        1.20606726,  1.20233909,  1.19770603,  1.19412655,  1.19007843,\n",
      "        1.18674877,  1.183493  ,  1.18010684,  1.17746962,  1.17469102,\n",
      "        1.17209231,  1.16726546,  1.1648894 ,  1.16256466,  1.16026197,\n",
      "        1.15836289,  1.15445235,  1.15139352,  1.14925566,  1.14529976,\n",
      "        1.1437115 ,  1.14083753,  1.13719415,  1.13589278,  1.13451195,\n",
      "        1.13233686,  1.12978014,  1.12851884,  1.12556135,  1.12368607,\n",
      "        1.12098706,  1.11922357,  1.1168376 ,  1.11568776,  1.1145539 ,\n",
      "        1.11167758,  1.10978283,  1.10896672,  1.10717292,  1.10558299,\n",
      "        1.10406064,  1.10219279,  1.1010531 ,  1.09932054,  1.09847645,\n",
      "        1.09680822,  1.09464331,  1.09338491,  1.09155323,  1.09084647,\n",
      "        1.08846163,  1.08661653,  1.0855823 ,  1.08379201,  1.08172776,\n",
      "        1.07979106,  1.07827116,  1.07715599,  1.07627653,  1.0756155 ,\n",
      "        1.07384748,  1.07164486,  1.07012983,  1.06852634,  1.06787927,\n",
      "        1.06611821,  1.06535399,  1.06408127,  1.06281431,  1.06096185,\n",
      "        1.05972518,  1.05852393,  1.05750719,  1.05716635,  1.05558553,\n",
      "        1.05477441,  1.05398965,  1.0529901 ,  1.05247948,  1.0516225 ,\n",
      "        1.05100762,  1.04991721,  1.0486327 ,  1.04673873,  1.04539433,\n",
      "        1.04379196,  1.04271466,  1.0414218 ,  1.04017418,  1.03929661,\n",
      "        1.03893415,  1.03866053,  1.03714925,  1.03556359,  1.0345338 ,\n",
      "        1.03279904,  1.03155639,  1.03097682,  1.03051139,  1.02887334,\n",
      "        1.02761021,  1.02676729,  1.02562143,  1.02393559,  1.02204479,\n",
      "        1.02067377,  1.01938345,  1.01819927,  1.01744895,  1.01663542,\n",
      "        1.01542074,  1.01471373,  1.01446566,  1.01362096,  1.01159728,\n",
      "        1.00996674,  1.00874556,  1.00787169,  1.00682612,  1.00644855,\n",
      "        1.00563511,  1.00530422,  1.00422033,  1.00337819,  1.00251724,\n",
      "        1.0017178 ,  1.00036491,  0.99954441,  0.99918907,  0.99824735,\n",
      "        0.99683062,  0.99639995,  0.99533306,  0.99433451,  0.99305783,\n",
      "        0.99259064,  0.99230011,  0.9911582 ,  0.98944558,  0.98866132,\n",
      "        0.98733462,  0.98588377,  0.98487963,  0.98366609,  0.98245471,\n",
      "        0.98161256,  0.98104071,  0.98030081,  0.97956269,  0.97902272,\n",
      "        0.97775014,  0.97747237,  0.9768062 ,  0.97644558,  0.97535824,\n",
      "        0.97454033,  0.973053  ,  0.97214533,  0.97120593,  0.97067816,\n",
      "        0.96954035,  0.96846804,  0.96741047,  0.96724858,  0.96600915,\n",
      "        0.96497937,  0.96460346,  0.96409086,  0.96248069,  0.96145225,\n",
      "        0.96075788,  0.96029854,  0.95963157,  0.95932473,  0.95908882,\n",
      "        0.95749851,  0.95639244,  0.95519437,  0.95452691,  0.95400959,\n",
      "        0.95356587,  0.95262469,  0.95176284,  0.9512151 ,  0.95035734]), array([ 1.3591313 ,  1.33660605,  1.31749676,  1.3015524 ,  1.28740625,\n",
      "        1.27530241,  1.26467929,  1.25499433,  1.24725745,  1.23977184,\n",
      "        1.23308566,  1.2267441 ,  1.22065617,  1.21549383,  1.21065755,\n",
      "        1.20586853,  1.20220346,  1.19902218,  1.19493519,  1.19027797,\n",
      "        1.18681574,  1.18298819,  1.18011949,  1.17673188,  1.17272467,\n",
      "        1.17011898,  1.16794894,  1.16479566,  1.16234334,  1.16051709,\n",
      "        1.15749796,  1.15555203,  1.15191785,  1.14775583,  1.14612931,\n",
      "        1.14238155,  1.13913524,  1.13715577,  1.13413239,  1.13157838,\n",
      "        1.13045651,  1.12812809,  1.12610707,  1.12404767,  1.12255571,\n",
      "        1.12088436,  1.11798075,  1.1172316 ,  1.11483435,  1.11300218,\n",
      "        1.11043503,  1.10797376,  1.10689718,  1.10481429,  1.10313772,\n",
      "        1.10131577,  1.09934142,  1.0983128 ,  1.09752671,  1.09612093,\n",
      "        1.09430857,  1.09194318,  1.09093083,  1.08990873,  1.08881767,\n",
      "        1.0863685 ,  1.08434395,  1.08246732,  1.08135552,  1.08074357,\n",
      "        1.07963516,  1.07748615,  1.07663608,  1.07525591,  1.07344836,\n",
      "        1.07225491,  1.07188756,  1.06945151,  1.06857494,  1.06782261,\n",
      "        1.06650629,  1.0649481 ,  1.06355852,  1.06163333,  1.0603514 ,\n",
      "        1.05975039,  1.05736482,  1.05666947,  1.0549689 ,  1.05455236,\n",
      "        1.0541486 ,  1.05308124,  1.05191702,  1.05090337,  1.04939905,\n",
      "        1.04850477,  1.04774635,  1.04582425,  1.04507001,  1.04479158,\n",
      "        1.04433962,  1.04318706,  1.0421386 ,  1.04030868,  1.03914804,\n",
      "        1.03750323,  1.03577598,  1.03463702,  1.03365439,  1.03230044,\n",
      "        1.03087417,  1.02944408,  1.02825223,  1.02723064,  1.02616383,\n",
      "        1.02568954,  1.02536856,  1.02399593,  1.02197831,  1.02077796,\n",
      "        1.02034834,  1.01954518,  1.01864566,  1.017802  ,  1.01745699,\n",
      "        1.01617968,  1.01486788,  1.01383169,  1.01350275,  1.0127693 ,\n",
      "        1.01194673,  1.0109624 ,  1.01058173,  1.00953358,  1.0077999 ,\n",
      "        1.00640467,  1.0054796 ,  1.0043689 ,  1.00276207,  1.00200543,\n",
      "        1.00069621,  0.99926973,  0.99825868,  0.99665481,  0.99555707,\n",
      "        0.9951075 ,  0.9937712 ,  0.99287334,  0.99234821,  0.99211768,\n",
      "        0.99111867,  0.99067064,  0.98940176,  0.98824689,  0.98724047,\n",
      "        0.98621935,  0.98571444,  0.98507036,  0.98387893,  0.98284785,\n",
      "        0.98167215,  0.98142921,  0.98076915,  0.98024185,  0.97897451,\n",
      "        0.97796718,  0.97731542,  0.97646859,  0.97614265,  0.97558727,\n",
      "        0.97384488,  0.97243888,  0.97098709,  0.96953313,  0.96842107,\n",
      "        0.96758708,  0.96660901,  0.96573928,  0.96523959,  0.96418234,\n",
      "        0.9633053 ,  0.96302568,  0.9619472 ,  0.96090872,  0.96029502,\n",
      "        0.95955251,  0.95887044,  0.95806279,  0.95785324,  0.95769173,\n",
      "        0.95683708,  0.95569765,  0.95454087,  0.9538441 ,  0.95291625,\n",
      "        0.9517995 ,  0.95098037,  0.94962396,  0.9487669 ,  0.94765136,\n",
      "        0.94636793,  0.94587675,  0.94500025,  0.94455464,  0.9442351 ,\n",
      "        0.94339755,  0.94246524,  0.94170769,  0.94067337,  0.94009206,\n",
      "        0.93929086,  0.93813902,  0.93729728,  0.93622203,  0.93598099,\n",
      "        0.93527081,  0.93487415,  0.93373008,  0.93340826,  0.93291179,\n",
      "        0.93254752,  0.93198879,  0.93138319,  0.9304384 ,  0.92942637,\n",
      "        0.92866492,  0.92744054,  0.92667967,  0.92561445,  0.92519265,\n",
      "        0.92455987,  0.92319378,  0.92237236,  0.92170754,  0.92118691,\n",
      "        0.92037761,  0.91920633,  0.91797415,  0.91773431,  0.91739642,\n",
      "        0.91692112,  0.91679866,  0.91612346,  0.91527056,  0.91473061,\n",
      "        0.91437491,  0.91352062,  0.91329225,  0.91303479,  0.9115414 ,\n",
      "        0.9112689 ,  0.91016109,  0.90908879,  0.90841336,  0.90746169,\n",
      "        0.90716251,  0.90647671,  0.90629229,  0.90544495,  0.90466563,\n",
      "        0.90408607,  0.90320727,  0.90221923,  0.90164688,  0.90095132,\n",
      "        0.90013636,  0.89982227,  0.89892751,  0.8982207 ,  0.89755261,\n",
      "        0.89692896,  0.89622019,  0.89550875,  0.89511088,  0.89478675,\n",
      "        0.89468234,  0.89385099,  0.89285646,  0.89157013,  0.89067963,\n",
      "        0.890415  ,  0.89009312,  0.88968557,  0.88862987,  0.88788337,\n",
      "        0.88732361,  0.88610709,  0.88537556,  0.88440932,  0.88366549,\n",
      "        0.88300515,  0.88202808,  0.88115817,  0.88107703,  0.88066591,\n",
      "        0.88042301,  0.88010344,  0.87977743,  0.87928946,  0.87818189,\n",
      "        0.87725764,  0.8766333 ,  0.87587596,  0.87492959,  0.87424443,\n",
      "        0.87384571,  0.87361349,  0.87276054,  0.87188939,  0.87116396,\n",
      "        0.87033147,  0.86968194,  0.86898374,  0.8680149 ,  0.8670449 ,\n",
      "        0.86605501,  0.86514634,  0.86465895,  0.86351897,  0.86283985,\n",
      "        0.86173678,  0.86029229,  0.85952134,  0.85801811,  0.85684665,\n",
      "        0.85619649,  0.85550657,  0.85492892,  0.85403346,  0.8531646 ,\n",
      "        0.8522551 ,  0.85203391,  0.85146312,  0.850751  ,  0.85015247,\n",
      "        0.84982546,  0.84898022,  0.84834284,  0.84810327,  0.84734711,\n",
      "        0.84613118,  0.84583856,  0.84509026,  0.84424567,  0.84343818,\n",
      "        0.84287351,  0.84253043,  0.84199417,  0.84167905,  0.84076013,\n",
      "        0.84067437,  0.84044761,  0.84022966,  0.83996064,  0.83980036,\n",
      "        0.83888335,  0.83821648,  0.83790902,  0.8370312 ,  0.83687497,\n",
      "        0.83672907,  0.83655376,  0.83577124,  0.83494231,  0.83428974,\n",
      "        0.83324134,  0.832893  ,  0.83200159,  0.83087304,  0.83008951,\n",
      "        0.8295815 ,  0.82882905,  0.82780524,  0.8274058 ,  0.82657198,\n",
      "        0.82628168,  0.82597378,  0.8252595 ,  0.82483864,  0.82400805,\n",
      "        0.82309922,  0.82265862,  0.82189944,  0.82180756,  0.82154311,\n",
      "        0.82120865,  0.820637  ,  0.81939015,  0.81849969,  0.81791052,\n",
      "        0.81707842,  0.81676554,  0.81617938,  0.81564901,  0.81500326,\n",
      "        0.81434097,  0.81363201,  0.81283287,  0.81213518,  0.81138487,\n",
      "        0.81068729,  0.8099652 ,  0.80887341,  0.80831665,  0.80762068,\n",
      "        0.80717661,  0.8069103 ,  0.80619294,  0.80553813,  0.80467917,\n",
      "        0.80379207,  0.80307217,  0.80272649,  0.80202711,  0.80143548,\n",
      "        0.80084981,  0.79993187,  0.79941339,  0.79879955,  0.79815636,\n",
      "        0.79783195,  0.79760936,  0.79652693,  0.79578305,  0.79521509,\n",
      "        0.79448815,  0.79388467,  0.7935265 ,  0.79252504,  0.79236214,\n",
      "        0.79180968,  0.79132289,  0.79073404,  0.79019622,  0.78951641,\n",
      "        0.78897961,  0.78882996,  0.78851576,  0.78803509,  0.78728975,\n",
      "        0.78667618,  0.78654997,  0.78612526,  0.7849955 ,  0.784887  ,\n",
      "        0.78460351,  0.78396577,  0.78331604,  0.7824646 ,  0.7819662 ,\n",
      "        0.78156647,  0.78102929,  0.78050217,  0.77963852,  0.77891911,\n",
      "        0.778736  ,  0.7780713 ,  0.7772296 ,  0.77665525,  0.77619011,\n",
      "        0.77592357,  0.77551961,  0.77454757,  0.77389998,  0.77345767,\n",
      "        0.77325844,  0.77236375,  0.77160991,  0.77100532,  0.77068686,\n",
      "        0.77035104,  0.7701531 ,  0.76949725,  0.76909929,  0.7684621 ,\n",
      "        0.76775183,  0.76730185,  0.76688308,  0.76656822,  0.76612965,\n",
      "        0.76588902,  0.76544603,  0.76516776,  0.76463844,  0.76402081,\n",
      "        0.76374716,  0.76319189,  0.76245451,  0.76155731,  0.76076426,\n",
      "        0.76011412,  0.75960665,  0.75901963,  0.7585429 ,  0.75800486,\n",
      "        0.75685033,  0.75602871,  0.75528698,  0.75491827,  0.75387182])]\n"
     ]
    }
   ],
   "source": [
    "#\n",
    "# model_training_error\n",
    "#\n",
    "model_training_error = []\n",
    "#print (model_10.train_score_)\n",
    "model_iter = [model_10,model_50, model_100, model_200, model_500]\n",
    "\n",
    "#print (model_10.train_score_)\n",
    "for i in model_iter:\n",
    "    #print (i)\n",
    "    model_training_error.append(i.train_score_)\n",
    "    \n",
    "print (model_training_error)"
   ]
  },
  {
   "cell_type": "code",
   "execution_count": 465,
   "metadata": {
    "collapsed": false
   },
   "outputs": [
    {
     "name": "stdout",
     "output_type": "stream",
     "text": [
      "5\n",
      "5\n"
     ]
    }
   ],
   "source": [
    "validation_scores=[]\n",
    "validation_classification_error = []\n",
    "model_10_validation = model_10.score(validation_features,validation_target)\n",
    "model_50_validation = model_50.score(validation_features,validation_target)\n",
    "model_100_validation = model_100.score(validation_features,validation_target)\n",
    "model_200_validation = model_200.score(validation_features,validation_target)\n",
    "model_500_validation = model_500.score(validation_features,validation_target)\n",
    "validation_scores.append(1. - model_10_validation)\n",
    "validation_scores.append(1. - model_50_validation)\n",
    "validation_scores.append(1. - model_100_validation)\n",
    "validation_scores.append(1. - model_200_validation)\n",
    "validation_scores.append(1.-  model_500_validation)\n",
    "\n",
    "print (len(validation_scores))\n",
    "\n",
    "for i in range(len(validation_scores)):\n",
    "    validation_classification_error.append( 1. - validation_scores[i])\n",
    "    \n",
    "print (len(validation_classification_error))"
   ]
  },
  {
   "cell_type": "code",
   "execution_count": 466,
   "metadata": {
    "collapsed": false
   },
   "outputs": [
    {
     "name": "stdout",
     "output_type": "stream",
     "text": [
      "[0.66641533821628607, 0.68354157690650585, 0.68946574752261958, 0.68914261094355878, 0.6879577768203361]\n"
     ]
    }
   ],
   "source": [
    "print (validation_classification_error)"
   ]
  },
  {
   "cell_type": "code",
   "execution_count": 467,
   "metadata": {
    "collapsed": true
   },
   "outputs": [],
   "source": [
    "#\n",
    "# model_validation_error\n",
    "#\n",
    "model_validation_error = []\n",
    "#print (model_10.train_score_)\n",
    "model_iter = [model_10,model_50, model_100, model_200, model_500]\n",
    "\n",
    "#print (model_10.train_score_)\n",
    "for i in model_iter:\n",
    "    #print (i)\n",
    "    model_validation_error.append(i.train_score_)\n",
    "    \n",
    "#rint (model_training_error)"
   ]
  },
  {
   "cell_type": "code",
   "execution_count": 468,
   "metadata": {
    "collapsed": false
   },
   "outputs": [
    {
     "data": {
      "image/png": "[encoded data removed]",
      "text/plain": [
       "<matplotlib.figure.Figure at 0x11adc2198>"
      ]
     },
     "metadata": {},
     "output_type": "display_data"
    }
   ],
   "source": [
    "plt.plot([10, 50, 100, 200, 500], train_classification_error, linewidth=4.0, label='Training error')\n",
    "plt.plot([10, 50, 100, 200, 500], validation_classification_error, linewidth=4.0, label='Validation error')\n",
    "\n",
    "make_figure(dim=(10,5), title='Error vs number of trees',\n",
    "            xlabel='Number of trees',\n",
    "            ylabel='Classification error',\n",
    "            legend='best')"
   ]
  },
  {
   "cell_type": "markdown",
   "metadata": {},
   "source": [
    "** yes, training error reduces as # trees increase **\n",
    "** No, not true that validation error will decrease as trees increase**"
   ]
  },
  {
   "cell_type": "code",
   "execution_count": null,
   "metadata": {
    "collapsed": true
   },
   "outputs": [],
   "source": []
  }
 ],
 "metadata": {
  "kernelspec": {
   "display_name": "Python 3",
   "language": "python",
   "name": "python3"
  },
  "language_info": {
   "codemirror_mode": {
    "name": "ipython",
    "version": 3
   },
   "file_extension": ".py",
   "mimetype": "text/x-python",
   "name": "python",
   "nbconvert_exporter": "python",
   "pygments_lexer": "ipython3",
   "version": "3.5.1"
  }
 },
 "nbformat": 4,
 "nbformat_minor": 1
}
