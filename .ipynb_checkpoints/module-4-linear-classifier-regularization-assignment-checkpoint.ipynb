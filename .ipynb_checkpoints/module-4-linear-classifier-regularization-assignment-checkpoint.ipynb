{
 "cells": [
  {
   "cell_type": "markdown",
   "metadata": {},
   "source": [
    "# Logistic Regression with L2 regularization\n",
    "\n",
    "The goal of this second notebook is to implement your own logistic regression classifier with L2 regularization. You will do the following:\n",
    "\n",
    " * Extract features from Amazon product reviews.\n",
    " * Convert an SFrame into a NumPy array.\n",
    " * Write a function to compute the derivative of log likelihood function with an L2 penalty with respect to a single coefficient.\n",
    " * Implement gradient ascent with an L2 penalty.\n",
    " * Empirically explore how the L2 penalty can ameliorate overfitting.\n",
    " \n",
    "# Fire up GraphLab Create\n",
    " \n",
    "Make sure you have the latest version of GraphLab Create. Upgrade by\n",
    "\n",
    "```\n",
    "   pip install graphlab-create --upgrade\n",
    "```\n",
    "See [this page](https://dato.com/download/) for detailed instructions on upgrading."
   ]
  },
  {
   "cell_type": "code",
   "execution_count": 1,
   "metadata": {
    "collapsed": false
   },
   "outputs": [
    {
     "name": "stderr",
     "output_type": "stream",
     "text": [
      "[INFO] sframe.cython.cy_server: SFrame v2.1 started. Logging /tmp/sframe_server_1475525602.log\n",
      "INFO:sframe.cython.cy_server:SFrame v2.1 started. Logging /tmp/sframe_server_1475525602.log\n"
     ]
    }
   ],
   "source": [
    "from __future__ import division\n",
    "import sframe\n",
    "products = sframe.SFrame('data/amazon_baby_subset.gl')"
   ]
  },
  {
   "cell_type": "markdown",
   "metadata": {},
   "source": [
    "## Load and process review dataset"
   ]
  },
  {
   "cell_type": "markdown",
   "metadata": {},
   "source": [
    "For this assignment, we will use the same subset of the Amazon product review dataset that we used in Module 3 assignment. The subset was chosen to contain similar numbers of positive and negative reviews, as the original dataset consisted of mostly positive reviews."
   ]
  },
  {
   "cell_type": "code",
   "execution_count": 34,
   "metadata": {
    "collapsed": false
   },
   "outputs": [
    {
     "data": {
      "text/plain": [
       "['name', 'review', 'rating', 'sentiment']"
      ]
     },
     "execution_count": 34,
     "metadata": {},
     "output_type": "execute_result"
    }
   ],
   "source": [
    "products = sframe.SFrame('data/amazon_baby_subset.gl/')\n",
    "products.column_names()"
   ]
  },
  {
   "cell_type": "markdown",
   "metadata": {},
   "source": [
    "Just like we did previously, we will work with a hand-curated list of important words extracted from the review data. We will also perform 2 simple data transformations:\n",
    "\n",
    "1. Remove punctuation using [Python's built-in](https://docs.python.org/2/library/string.html) string functionality.\n",
    "2. Compute word counts (only for the **important_words**)\n",
    "\n",
    "Refer to Module 3 assignment for more details."
   ]
  },
  {
   "cell_type": "code",
   "execution_count": 35,
   "metadata": {
    "collapsed": false
   },
   "outputs": [],
   "source": [
    "# The same feature processing (same as the previous assignments)\n",
    "# ---------------------------------------------------------------\n",
    "import json\n",
    "with open('data/important_words.json', 'r') as f: # Reads the list of most frequent words\n",
    "    important_words = json.load(f)\n",
    "important_words = [str(s) for s in important_words]\n",
    "\n",
    "\n",
    "def remove_punctuation(text):\n",
    "    import string\n",
    "    return text.translate(None, string.punctuation) \n",
    "\n",
    "# Remove punctuation.\n",
    "products['review_clean'] = products['review'].apply(remove_punctuation)\n",
    "\n",
    "# Split out the words into individual columns\n",
    "for word in important_words:\n",
    "    products[word] = products['review_clean'].apply(lambda s : s.split().count(word))"
   ]
  },
  {
   "cell_type": "markdown",
   "metadata": {
    "collapsed": false
   },
   "source": [
    "Now, let us take a look at what the dataset looks like (**Note:** This may take a few minutes)."
   ]
  },
  {
   "cell_type": "code",
   "execution_count": 36,
   "metadata": {
    "collapsed": false
   },
   "outputs": [
    {
     "name": "stdout",
     "output_type": "stream",
     "text": [
      "All of my kids have cried non-stop when I tried to ween them off their pacifier, until I found Thumbuddy To Love's Binky Fairy Puppet.  It is an easy way to work with your kids to allow them to understand where their pacifier is going and help them part from it.This is a must buy book, and a great gift for expecting parents!!  You will save them soo many headaches.Thanks for this book!  You all rock!!====\n",
      "\n",
      "We wanted to get something to keep track of our child's milestones and this is a cute option. There aren't many other choices out there and this does exactly what we wanted.====\n",
      "\n",
      "My daughter had her 1st baby over a year ago. She did receive and fill up a First Year Calendar. When her son was nearing his first birthday she was looking for a Second Year Calendar to record his milestones. Thanks to Amazon I was able to get this for her and she LOVES it. Tender sweet art work - helpful stickers - unique pages to fill. A nice keepsake. A wonderful gift for a one-year old!====\n",
      "\n",
      "One of baby's first and favorite books, and it is washable! I gave 1 less star than perfect because I'd like to see some diversity in the people - not just your typical white family ;)====\n",
      "\n",
      "Very cute interactive book! My son loves this book! The bright colorful illustrations make this great for babies & toddlers.====\n",
      "\n",
      "Beautiful book, I love it to record cherished times in my great granddaughters life with the beautiful pastel pink color.====\n",
      "\n",
      "Try this out for a spring project !Easy ,fun and affordable wall decals ...Fine quality and brightens up any room.. 5+ **********====\n",
      "\n",
      "very nice Divine Mercy Pendant of Jesus now on chain around my neck.  Love It!  Divine Mercy represents Jesuswho offers us an ocean of divine mercy.  Pray to God for our country. You need HIM in your lives!====\n",
      "\n",
      "We bought the pins as my 6 year old Autistic son was able to open or break open normal safety pins we needed to use for his night time clothes.  These new pins are significantly more sturdy and he hasn't learned how to open them and only once has he broken one open.  I seem to recall that their shipping price was more than a bit on the high side of reasonable though given the size of the package...====\n",
      "\n",
      "It has been many years since we needed diaper pins, but I do like to pin my socks together through the wash and have never lost one yet. I was using brass dressmaker pins but they tended to open up during the wash cycle. My wife suggested diaper pins and we tried them. Thery're working perfectly and staying together through the washing. Matter of fact they can get a little tricky to open, but of course that was the idea. Recommended to keep your socks &#34;friended up&#34;.====\n",
      "\n",
      "We found this book at a rummage sale and found it to be so useful, especially when several people are helping with the baby (ex: visiting family, etc.)  We loved it so much that I've bought another one and have almost filled that one too.  I like having the room to write things about our baby's day and development, plus use the \"Notes\" section to write some story, etc.  It also helps \"Dad\" see what has happened that day and feels more connected.  I will be buying another one soon!====\n",
      "\n",
      "I'm a new mom and I was looking for something to record my baby's daily activities and patterns and it is perfect! It has a lot of space to write down anything extra beyond the diaper changes, feedings and sleeping. I like that it has an area to write down medications. It is a great reminder for dr appointments and to track your baby's patterns. I am extremely happy with this book and will be ordering another one for when I run out of pages in 3 months.====\n",
      "\n",
      "I loved how this book was set up to keep track of everything important about baby.  I used it for the first year.  I always took it to doctor appointments to share how often she was eating and everything.====\n",
      "\n",
      "I received this at my baby shower and it has been a wonderful gift. I had no idea when I received it what fun it would be to record all this information. I have done this for 2 children now and only wish I would have had it for my first 2 kids.====\n",
      "\n",
      "My daughter started playing with her Music Blocks set when she was just a few months old.  She spent hours entertaining herself.  She is now 18 months old and still loves this toy.  Now she understands how to arrange the blocks and has great fun making new musical patterns.  I highly recommend the Jumpin' Jive Jazz cartridge -- it's her favorite -- and the Bach cartridge when you want calmer music.====\n",
      "\n",
      "It takes a youthful spirit of inquiry and fascination to play with blocks and pre-programmed music. Anyone too old to play with blocks (or to young to play with them again) may back off. But they're missing a revolution in interactive toys. Each colored block represents part of a musical score, and each side on the block represents one way of delivering that piece, such as horn, violin, or voice. Turning and swapping blocks thus generates changes in the music played, with incredible variety. You (and, oh yes, the child too) will run out of steam long before you run out of interest. And the use of additional block sets expands the use and interest even more. Bravo!!====\n",
      "\n",
      "This is an interesting and educational toy.  I got it for my 2 year old, and while she loved mixing up the blocks, she also loved pulling out the cartridge and couldn't put it back in.  That means I had to go put the cartridge back every 5 minutes.  If the cartridge were placed on the side or back, I don't think the littler ones would be so inclined to pull it...out of sight out of mind.====\n",
      "\n",
      "Recently I have purchased the musical mozart blocks set for my two and a half year old daughter at a toys r us department store near me as a Christmas gift for her this year and they had one of the toys out on display. She loved the toy and it is very educational. I had a hard time leaving the store because she wanted to continue to play with it although she is young enough that even though she was with me while I purchased her toys for Christmas this year that she had completely forgotten about it and that I haought this toy for her. My only complaint is that I had to pay [$$$] for this toy and they had told me that the sale on the toy had ended yesterday but this toy I knew was still available online here for [$$$] which is a really good price and I do not think it is right for them to sell it for the other price when it can be bought cheaper. Anyways I liked the toy alot and my daughter did too and that is why I purchased the toy even at the price I  had to pay for it. I think it will get a lot of use out of it and so will my 8 month old daughter when she is old enough as well.====\n",
      "\n",
      "We first bought this toy for our oldest child when she was just beginning to sit up and play with toys.  She would sit in her crib and play for a hour or more just putting the sea creatures in and out.  It gave Mommy shower and make-up time!  We believe she loved the clear plastic on the bowl and the shape and feel of the pieces.  We had the same experience with daughter #2.  We have bought this several times for other new parents.  Our girls have also received similar toys (not Lamaze) ex: a cookie jar and have not enjoyed it anywhere near as much.  A little toy with big entertainment value!====\n",
      "\n",
      "We bought this tractor for our 2 and a half-year-old son, and he is able to pedal and manuever this vehicle very well, despite the recommended age of 3-6 years. This tractor is very sturdy, and nearly impossible to tip over. My son has deserted all other riding toys in favor of this tractor. I highly recommend purchasing the yellow trailer that is specifically made for this tractor, but is sold separately .... My son loads all kinds of treasures into the trailer and farms the yard for long periods of time....====\n",
      "\n",
      "This is a great toy.  The wheels really work and each car has a special feature.  They store easily for packing on trips and putting away.  Both of my kids (boy and girl) have played with them.  They are brightly colored.  And best of all, these do not use batteries!====\n",
      "\n",
      "After being inundated with toys that require batteries and make so much noise this was a breath of fresh air. My son loves these vehicles! We got this when he was 6 months old. We stack them on top and he loves to knock it over. We nest them and he loves to find the surprise vehicle underneath. Now that he is 8 months old he is figuring out that the wheels move as well as some of the other moving features on each vehicle. I highly recommend this toy.====\n",
      "\n",
      "We bought these trucks for our 15 mo. old daughter and 4 mo. old son- We love them!  They are nesting which is fun for our daughter to look underneath the trucks to find the next one or they can stack one on top of the other to make a tower.  Perfect first trucks!  And they aren't too big- a perfect size!====\n",
      "\n",
      "For well over a year my son has enjoyed stacking and playing with these cars. They have held up brilliantly to his abuse - they still look like new. Fun to stack, fun to roll. Clever toy that has been a winner with my son since he was one.====\n",
      "\n",
      "We just bought this for my 9 month old daughter,she loves these cars, loves to turn the wheels and lookat the faces. She especially loves the little green car,it's the perfect size to fit in her tiny hand and it rattles.This toy is a hit! I highly recommend it.====\n",
      "\n",
      "This is a wonderful toy that is fun, educational, and affordable! The cars are different colors, and each has a different number, 1 - 4, to help a child learn counting and colors. They also stack on top of each other and nest inside of each other.(The nesting feature is great for storage too). Each car has a neat fun feature for little ones to explore (e.g., the small car is also a rattle, the large fire truck's ladder moves, etc.) The cars are also very sturdy (as has been proven by my son repeatedly banging them together,) and they are easy for little hands to grab onto. At 6 months of age, my son really enjoys looking at the toys, passing them from one hand to the other, banging them together, and, of course, putting them in his mouth. I imagine this toy will remain one of my son's favorites as he learns to stack them and roll them on the floor. I would highly recommend this item.====\n",
      "\n",
      "I bought this for a new granddaughter.  I will not get to see her often as she lives in another state.  This book is great for out pictures and she can carry it around and look at the pictures as she would a book.  This way she can recognize us when we show up.  It is easy to carry and cleaning it is simple.  It is a great little photo book.====\n",
      "\n",
      "We received an Earl E. Bird as a gift when we had our first baby eleven years ago. Since then, Earl has seen us through teething for three kids, and is still in good condition for our fourth baby!  He's a little faded around the edges, but just as loveable and soft, with difference textures for a chewy, drooly baby to gnaw on.I like that he's fully washable, and a nice quiet toy (at least in ours, the squeaker was very quiet to begin with and has since kind of stopped squeaking--but the squeaker was never the big attraction with Earl).  Perfect for taking on planes, or in church, or in the car. A great baby shower gift, since Earl is perfect for a boy or a girl.====\n",
      "\n",
      "This little toy is safe for infants, and offers great color, texture and even sound.  Very Sweet, though a little pricey.====\n",
      "\n",
      "This is exactly like the one I had when I was a kid. My son really enjoys it and it keeps him entertained.====\n",
      "\n",
      "I had a book similar to this as a child and it brings back wonderful memories! My 20 month old struggles with several of the items, such as the shoe laces and snaps. But he loves the zipper and the Velcro shapes and the other pages give him a great way to learn and practice. Overall it's an item that he can grow into and it's super cute!====\n",
      "\n",
      "My 8 month toddler enjoys this book. Very good idea with mind-stimulating activities on each page. Well worth it for the price.====\n",
      "\n",
      "Well made and quite a few different textures.Toddler loved this book and Mom approved, too.Everyone was happy with this selection.====\n",
      "\n",
      "My 2 yr+ old grand daughter liked this book a lot.  She did have a hard time with some the buttons or snaps.  They were sewn pretty tight to the backing and was kind of hard to get her fingers under to be able to button or snap.  Overall, she did enjoy each activity.====\n",
      "\n",
      "I ordered this book for the up-coming birthday of a grandson. It really is cute and an excellent quality. It comes with a small stuffed bear that you can remove from the book. Each page of the book has a different night-time activity for the bear to do such as have a glass of milk, brush his teeth etc. I'm not exactly sure what I was expecting because even though it is a quality toy I'm not sure that Liam will use it enough to make it worth the price I paid.  The Pockets of Learning toys all seem to be very high quality if somewhat pricy.====\n",
      "\n",
      "This is an iteresting ball that my baby has loved from about 6 months to 18+ months.  The chime is pleasant, not annoying and this ball is easy for a baby to pick up and manipulate.  It is my understanding that the Sassy line is BPA and Phalate free, so you dont have to worry about your child putting this toy in her mouth.====\n",
      "\n",
      "Perfect for young children and overall good quality for the price.====\n",
      "\n",
      "This is a must have for any toddler!  I bought one for my brothers triplets who were 1 1/2 years old at the time.  They loved it!  One would push & the other 2 would chase after it.  They love watching the duck waddle & its feet go round & round.  Best of all, no batteries!  Yaayyyy!!Fifteen years ago, I bought my daughter a little push clown from the same company.  It was her favorite toy & was passed onto her brother.  With heavy playing by 2 children it never lost any of its paint or parts.  It's something we are saving for grandchildren one day.====\n",
      "\n",
      "We found this at a garage sale and I read about it and it seemed really interesting so I bought it. This is for the first few months of a baby's life and should not move much, contrary to what the first poster said, because you want stimulation but you don't want to over-stimulate a baby. However, we did notice that sometiems our baby does like the mobile to move and it is summer here but the air conditioner blowing air around the room should be enough movement. When it's not moving, we can just put a small fan on its lowest setting about 6 feet from the crib and the small wiggling was enough movement to keep her stimulated but not so much movement that she can't keep track of the object (babies this young are not good at tracking so you don't want a lot of motion), but still we only do this once in a while, not at all times.One of the best things about this mobile is that our baby only wakes us up at night to feed. If she wakes herself up she will sit and stare at it for a long time and be happy since we have a small nightlight in the room. Any time we put her in the crib we can see her staring at the simple shapes. Shown in the picture on the product page is the detailed shapes, you flip the cardboard from the simple to the detailed shapes when they are about 2 months old, then remove this mobile for a more 'traditional' one with movement and objects the baby can grab at about 4 months. This is a somewhat delicate mobile since it uses air currents to move, so you need to keep it safe from a grabbing/eating baby.Also, one nice feature is that ours came with a travel pack, or at least that's how I'm using it. Besides the crib mount, there is an 8 inch circular plastic ring with fishing wire for hanging the mobile. You can hang it anywhere with a string, either taping string to the ceiling or tying it to any overhang. It also came with a cardboard carrying case thing which is very thin and easy to take with you on a trip.For those with a math/science background, it's really interesting to note that first side of the cards have objects with very low spatial frequency. The 'detailed' sides are actually the same patterns, but with a moderately higher spatial frequency. After 4 months, you use standard mobiles, which have very high spatial frequencies, as well as colors and things the baby can grab to improve hand-eye coordination. Basically, you start showing the child very low frequency objects that are easy to observe and track, then gradually move up until they can use the high frequency information.Now, I want to explain why I did not give this item 5 stars even though it's an amazing product. Before my baby was a month old, I noticed that she was already able to detect some colors and this stim-mobile is only black and white. This is from 1990, so I guess over the last 20 years they have refined the product so that the simple side has some red (first color a baby sees) and other simple colors, while the reverse side has more vivid colors, but uses the same idea of going from low spatial frequencies to higher spatial frequencies. I ordered the newest version but still kept this around for changing table and pack n play entertainment since she loves it. If I had not known about the improved version, I would have given it 5 stars, but there is something better available so I highly recommend getting the updated version for every newborn.====\n",
      "\n",
      "This product was very innovative when introduced in 1997-8.  It sold at FAO Schwarts for about $100 and we got it for our 18 month old daughter.  She used it until she was at least 3 (we then moved to Reader Rabbit).  The way it worked then -  you plugged the key board into the printer port and the sw was on two CDs. The keyboard did not require mouse skills, just visual selection of very large buttons.  Very interactive, very educational for the toddler/preschool set.  The developer was Israeli and they did not have good US distribution.  It now seems that they finally found someone to distribute it.====\n",
      "\n",
      "all three of my kids have had one of these teethers, and it's been the favorite for all of them. i buy one for any expectant friend or family member. in our experience, the batteries last about a year & 1/2.====\n",
      "\n",
      "Great teether as it has a good texture, is easy to handle and massages the gums while baby is chewing on it.====\n",
      "\n",
      "My 10 month old grandson thought the movement of this toy was funny! He laughs when it moves! Saying this, he does put it in his mouth but pulls it out to laugh So, I love this Teether because it makes him so happy NOT because it massages his teeth!====\n",
      "\n",
      "It is a great toy for them to chew and play with, but it is a bit harder for smaller babies to chew on. The vibration was a bit stronger than I was expecting, but it does not seem to bother my son a bit.====\n",
      "\n",
      "My son is 4 months old and can not quite get a hang of other teethers. Some of them you have to bend in a specific direction to make the vibration happen. This teether is great. They just bite down (naturally) and the vibration helps with the comfort. I love it!====\n",
      "\n",
      "This arrived the next day after I bought it and I was very grateful!  We had one other one that my son managed to lose and he was miserable without it!  It really helped soothe his mouth while he was teething!====\n",
      "\n",
      "I know it's a safety feature, but it is unfortunate that the batteries are not replaceable in this, because I will probably have to buy another one of these soon, because my little one LOVES this.  He seemed to hate all other teething options out there...even Sophie he had to learn to love (he's does like it now), but this he gnaws away on vigorously.The star shaped chewing part is a little big and that worried me a bit when I first got it, but it actually hasn't seemed to bother him that much.  So far (he got this at 5 months) he can't always make the vibration happen himself but, 1)It's not that difficult for me to just push down on it as I'm holding it for him since I like how it calms him down and 2) even when it doesn't vibrate, he still loves to chew away at it.  He has learned over time a bit better about how hard to bite down to make it go too and that it will go by chewing on any of the three available &#34;tips&#34; to the star.He also really likes the little spinning rattle on the end and it has little nibs that he likes to chomp on too (even though it is hard plastic and the star is rubber like).  It is a &#34;substantial&#34;  toy though, so if your little one is in the phase of swinging toys around really hard, they may bonk themselves now and again, but our son seemed relatively un-phased by that.====\n",
      "\n",
      "I got this for my son when he was about 8 months. he loved bitting it and he carry it all over the house. He is now 18 months and it still works plus he still bits on it too. I found it very easy to clean too.====\n",
      "\n",
      "I am the the mother of a 14 week old who has reflux and is uncomfortable sleeping in a crib or anywhere flat. She wants to be held *all* the time, and it was getting pretty exhausting in our arms (and my chronic tendonitis was flaring up) until we ordered the sling after reading about it in Dr. Sears's The Baby Book.  I had my doubts, but boy has it been a lifesaver!The sling has been invaluable for me, my husband, and our regular sitter. With it, we are able to walk, bounce, give the calming pinky finger treatment, and see what's going on with the baby. She started using the sling at 2 weeks, when she was about 7 pounds. It took a few times, but she is now completely comfortable in it and it is a favorite napping spot.As I am large-breasted, I did find it awkward to breastfeed in it, although I've been able to do it successfully a couple of times in public sitting down.  The fabric is soft and easily washable (important for those baby mishaps).  The padding helps me feel comfortable as a bit of protection in case of bumping.  The size is very adjustable for different height people, although you may need to pull through a lot of fabric to bring small babies in tightly, especially if you have a smaller chest size.The NoJo sling would benefit from having some loose fabric at the end to cover the baby's head in the sun and provide more coverage during breastfeeding. The stopper piece of plastic at the end of the fabric adds safety (it won't pull through), however it can whack the baby if you aren't careful when getting it on or off.  It could also use a zippered storage area, a feature of some other slings.  Also, the blue with plaid seems to be the only fabric sold these days, although I have seen other patterns and colors on eBay.  This is fine with jeans, but not great when you have to go to a wedding, as I did with the sling earlier this summer. I think it also makes people think that she's a boy, for some reason.  Maybe it's the blue and the fact that they can't see her cute dresses!The sling is also helpful in keeping interested strangers at a slight distance away from the baby -- they are less able to grab at her, which I think is good from a germ perspective, especially for newborns. When it is very hot or humid out, this sling can be a bit heavy for the baby (especially up against a hot mama!), but on cooler days the fabric adds just the right amount of warmth, like a light blanket.When I was pregnant, I assumed the Baby Bjorn would be all we would need. Instead it hangs on a hook most of the time unless we're going for a long walk or shopping -- activities where having two hands is important and you'll be doing them for a while. That thing is so hard to get on and off! Plus, you aren't supposed to use it until they are 8 lbs. The baby seems to really like the flexibility of positioning with the sling -- especially curling up happily in a womb-like ball -- and sometimes gets irritated by being all dangled out in the Bjorn.Carrying the baby in the sling makes you so much more mobile than using a stroller or lugging her around in her heavy carseat, so I use it whenever I anticipate being in public where they are stairs, space issues, or other impediments.  It's good for short shopping trips as well, especially if you're with a friend who can carry things or push a cart, both of which are harder to do with the sling on.She's also a million times more comfortable in the sling than in her car seat, where she often cries.  Our NoJo Babysling has been in constant use since it arrived, and ties the bouncy seat (where she mostly sleeps by day) as the best return on investment of any of the baby gizmos we bought.  Our sitter will often wear the baby for her entire nap. The sitter just sits (often in a rocking chair or porch swing to provide some more movement) and reads while the baby sleeps.One last thing that's great is that when the baby falls asleep, she can be laid down on the bed or bouncy chair and the sling just slips off the wearer without waking the baby.I did not watch the video, but did read the sling chapter in the Baby Book, which was helpful. We have recently started using the kangaroo (facing out) position as the baby loves looking at the outside world now. It's nice to have this sort of flexibility.  If you are getting tired carrying around your baby, and would like an extra hand free, a sling is a great investment and while not the most elegant, the NoJo is a good workhorse one to use on a daily basis.====\n",
      "\n",
      "Excellent diaper disposal unit.  I used it in conjunction with Glad 3ply kitchen trash bags with odor control (scented).  I am soooo pleased with this product!!! A wise investment for the pocketbook & for the nose!!!====\n",
      "\n",
      "I originally put this item on my baby registry because friends of mine highly recommended the use of a diaper pail.  I decided to go with the Diaper Champ rather than the more popular Diaper Genie, because I didn't like the idea of having to buy special bags.  Too costly and not efficient if you ask me!THIS PRODUCT IS A LIFESAVER!! I HAVE NEVER HAD AN ODOR PROBLEM!No one has ever come to my house and noticed 'diaper odor.'  In fact, people who have been present while I changed my almost 3 month old son's diaper have been amazed at how the very 'potent' smell of the dirty diaper seems to disappear once I dispose of the diaper in the Diaper Champ.For those who are experiencing odor problems, here are some suggestions which should solve the problem:1. CHANGE BAGS FREQUENTLY!!  I change mine about 1 or 2 times a week.  For those who complain that the pail gets stuck, that is probably a good indication that the BAG IS GETTING TOO FULL!! Also, making sure that the tape on the diapers is secure will prevent that from happening as well.2. YOU STILL HAVE TO CLEAN THE THING!!  Hello, it does house dirty diapers!! All I do is wipe it down with some antibacterial wipes (takes about 10 seconds!!) and then maybe spray some Lysol in it and let it air out for a minute or two.  SIMPLE AND IT WORKS!Also, for those that complain that the Diaper Champ isn't as effective as time passes, keep the following in mind:AS BABIES GET OLDER, THEIR DIETS CHANGES (aka SOLID FOODS!) AND SO DOES THE SMELL OF THEIR DIAPERS!In talking with other parents, I get the same feedback - as babies get older and become toddlers, ALL DIAPER PAILS become gradually less and less effective until they are just no longer useful.  Again, this is because as their diet changes, so does the consistency and odor of their stool, in other words, it gets stinkier!!!All in all, this product is definitely one I would recommend and certainly worth the very reasonable price.====\n",
      "\n",
      "I am so glad I got the Diaper Champ instead of the Diaper Genie!  You can use pretty much any plastic bag - even a grocery bag will do in a pinch.  My baby is 6 weeks and I have never smelled any odors at all from the Champ.  I especially like the way you close it - you just flip the handle and that's it.  The Champ is definitely the best.====\n",
      "\n",
      "Our daughter is 13 months old and we've been using the Diaper Champ ever since she was born. I highly recommend it because it's a great value.  However, there are a few things to be aware of which is why I only gave 4 stars.1. Make sure the grip part of the diaper is not loose when placed in the DC. My husband learned the hard way that the grips get stuck on the seal and the diaper won't drop into the bag.  Then you have to pull the diaper out and the grips slowly pull away the seal.  It didn't seem to affect the odor control, but it did make it difficult to move the handle/shoot back and forth.  The company does send free replacement seals and instructions if you call and ask.2. The unit is top heavy when it's empty. I learned this one the hard way.  When pulling out a full bag of diapers be sure to put your foot on the base to keep it from banging you in the shin as it falls backward.  Ouch!!3. No, the stink isn't completely trapped, but it's pretty darn close! The stinkiest part is emptying a full bag.  I found that putting a stick-up inside the lid has made it much more tolerable.====\n",
      "\n",
      "We originally had the diaper genie which we found to be a pain after the top broke off twice and all those replacement specialty bags we had to buy were getting expensive but not controlling the odors.  All that sausage shaped smelly garbage eeeewwww had to be put in another garbage bag just to get it out of the house!  My sis-in law had the diaper champ & I couldn't believe she even had any dirty diapers around...there was no smell!  We chucked the genie and bought the champ. It was so much easier to use...just roll the diaper into a little ball and drop into the hole on top, flip the handle and bye bye smelly diaper (my 16 month old can do it) And there were no special bags to buy, just the same regular garbage bags we used already in the kitchen. Experienced parents will understand and appreciate that it comes apart for easier cleaning for those times when it may become a mess.  We had a problem with odors after about a year of use so I called BabyTrend to see what they recommended.  They sent me these replacement sponge gaskets (free of charge) and we were once again odor free. Now on my 3rd child and almost 3 years later, I just called them again to get another set of replacement gaskets (again free of charge) they will be here in about a week.  THIS IS A GREAT ITEM and the company stands behind their product (even years later!)====\n",
      "\n",
      "I wasn't sure which to get between this and the Diaper Genie. I am so glad that I chose this one. I love that I can buy the scented bags of my choice. It really holds in the horrible diaper smell. I love it and wouldn't trade it in for anything.====\n",
      "\n",
      "I chose the Diaper Champ over the Diaper Genie because of its money-saving feature of being able to accomodate most plastic bags with handles.  (The Genie requires use of their own bags.)  The plastic bags that work best are the larger kinds like the ones you get from Toys R Us or Ikea.  The plastic supermarket bags are a little too small.In regards to odor control, the DC has been successful for 3/4 of the year.  There is a noticeable smell during the summertime, so I've had to change the bags more frequently on hot days or else face the consequence of suffering the aroma of baking poop.My only negative comment about this product is concerning the lid.  For those who take great pride in your manicured nails, ask someone else to open it for you.  Even though I have short, uncared for nails, I've had a few bent nails from trying to pull open the lid.  Then, the next problem is that the lid doesn't open all the way (like a cigarette lighter).  It opens up to about a 75 degree angle.  This makes it inconvenient when you are trying to remove a stuffed bag of diapers.  Also, the underside of the lid has several plastic sharp juttings against which my hands would occasionally get scratched.  And, during the removal of the full bag, this is when you get the full blast of your little one's excretions (quite possibly 3-5 days worth of them), so hold your breath!Although there is room for improvement on this design, I haven't seen or heard of any other model that can do this job nearly as well for as reasonable a price.====\n",
      "\n",
      "You really can not appreciate this device until you've used it.No smell unless you don't empty it for a week or more. An airtight vault it's not....but it does what it's designed to do very well.Who doesn't take out the trash more than once a week ? Same concept with this diaper pail.- From a Dad of a Newborn who's thankful he ignored the negative reviews.====\n",
      "\n",
      "This is my first baby so I have nothing to compare this product to. But I have heard horror stories of stinky diaper pails. My baby is now six months old and the only time I smell her diapers is when I change them and when I open the pail to replace the bag! I use the same garbage bags that I use in my 13-gallon kitchen trash can! It's so simple and user-friendly it's ridiculous! Put in a trash bag, old plastic grocery bag, yard waste bag, whatever; put down the top, you're ready to go. The top acts like a chute and whisks the dirty diaper away. When full pop the top (hold your breath), pull out the bag and put in a new one. No jamming or any other kind of technical difficulty whatsoever! And, again, no leaking smells. Don't waste your money on anything else!====\n",
      "\n",
      "We originally registered and received the safety 1st pail- what a disappointment.  the latch never worked- we purchased this pail and what a wonder!  my busy toddler can't get into the diaper pail and it really works well with controlling odor (hint- use the scented garbage bags and little blue diaper sacks for smelly poops).  I have recommended this pail to all my friends and they love it as well!====\n",
      "\n",
      "Let me just say, I LOVE THIS PRODUCT!!  I used the diaper genie from the time my daughter was born until the time she was 16 months.  That was all I could take.  Constantly buying expensive refills, emptying it every couple of days, juggling a wiggly baby while trying to open, lift, push, spin, and close the genie was just too much.  Then I was shopping at Babies R Us and in the STORE's changing room is the Diaper Champ.  It was easy, didn't smell, and used regular trash bags.  I was sold.After using the Diaper Champ for 2 months now, I am confident I made the right choice.  Yes, when it gets too full, you have to change the bag or the weight will get stuck (duh!).  Yes, if you don't wrap up the poopy wipies in the dirty diaper, you will have to clean poop from the chute (just wrap it up).  Yes, poop does smell (not like roses), but my daughter's room doesn't smell like poop because the Diaper Champ does a great job of containing odor.  You do need to disenfect it when you change the bag, but I would recommend that with any product that is a holding tank for feces (you have to disinfect your toilets, too).I have recommended the Diaper Champ over the genie to every one of my friends.  It is fantastic!!====\n",
      "\n",
      "I checked out all of the available diaper disposal systems.  This by far is the best, no refillable special bags, no stink, and very easy to use.  It is great! Those exploding diapers for newborns can't even crack this.====\n",
      "\n",
      "We've been using the Diaper Champ for about 4 months now, and have had NO problems whatsoever!  The design is absolutely ingenious and the fact that it takes regular trash bags is a definite plus!  We bought a box of Hefty Trash Bags with that odor patch to use in the Champ and we change the bag about 2-3 times a week, and we've have had no problems with smell.  I usually wipe the Champ off with a Clorox Wipe each time I change the bag, but my husband decided to take apart the Champ a few weeks ago to give it a thorough cleaning with some bleach water, and he mentioned that the gaskets were looking worn out.  So, I called Baby Trend (Diaper Champ manufacturer) and they sent me to two new gaskets and two new piston rings (which I didn't even ask for) for FREE!  The customer service rep. even told me to call and request more gaskets and rings when we notice that the new ones start to wear out, usually after about 6 months.  Overall, I am very pleased with our purchase.====\n",
      "\n",
      "I started off with the Genie but quickly realized that I had to keep buying the special, pricey Genie bags. The Champ is great, takes any appropriate sized plastic bag and contains stinky diaper smells well. A MUST have!====\n",
      "\n",
      "I chose the Diaper Champ because you are able to use standard trash bags.  I hate to buy replacement items such as bags ( i usually forget).  I works great.  The only thing is when it is full it is full.  It is very difficult to squeeze anything else into it.  I have not noticed any lingering oder in the baby's room and would recommend this item.====\n",
      "\n",
      "I've never even had a problem with it.  There is no odor and I find it very convenient to use garbage bags.  The only thing I do is spray the inside with lysol once in a while.  Even when I change the bag, the only smell is the diapers.  Once they are out, the diaper champ really doesn't have a smell.====\n",
      "\n",
      "This is the only diaper pail we've had and our son is now 2.  We use scented kitchen trash bags ($3-4 for a huge roll at Target) and that seems to improve it's olfactory-blunting performance even more.  For especially messy and stinky diapers, I'll pre-bag the whole bundle in a small scented bag ($1 for 100 at Dollar Tree) that I can rest in the opening of the Champ.This may seem like a lot of bother, but it's not!  I haven't even washed the Diaper Champ out or Lysol'd it in 2 years.  Did I really just admit that?!?  We empty it no more than 2x per week, on average 1x per week.  If there's ever a smell in the nursery, it's from the dipaer's presence pre-Diaper Champ entry.I do wish the Diaper Champ people could find a way to have some button the parent can push to flip the handle while keeping the 1 hand operation.  My son likes to put toys in the Champ and we've had several close calls when he was about to send a toy into the pail, never to be seen again (becasue who wants to retrieve it, let alone let their child play with it?!?).  Some simple child-proof mechanism would be a Godsend.Even with that said,  the Diaper Champ is a great product and I'd recommend it to anyone!====\n",
      "\n",
      "Like other reviewers, I put this diaper pail on my registry because I just didn't want the hassle of having to buy special bags--what happens when you run out in the middle of the night!  I liked the fact that you can use regular bags in this diaper pail... in fact I frequently recycle BabiesRUs bags by using them in the Diaper CHamp.  I have twins--so you can imagine how much poop goes into this pail and I've never had a problem with smell (I've been using it for two+ months now).  You just put the diaper in the hole... flip the lid and the counterweight pushes the diaper down into the bag underneath and its ready for the next diaper--then you flip it back.  The flip handle does get stuck sometimes... but only when it's TIME TO EMPTY THE PAIL!!!!  Some reviewers seem to think the pail should empty itself, but unfortunately nothing on the market will do that for you.  When you change the bag (which is incredibly easy to do) you can just spray the inside with a little lysol and then periodically wipe it out with a sponge and some bleach.  I'd do that much even with the more expensive diaper pails and I'd still have to buy expensive special bags.... You can't expect something that contains poop to smell like a rose or to be germ free without a little work on your part, but with the Diaper Champ you can have a smell-free nursery AND save money by using plain ordinary garbage bags (or recycled plastic bags!)====\n",
      "\n",
      "Simply put, the Diaper Champ is much easier to use, less expensive, and most importantly, MUCH better at keeping those odors locked away when compared to the Diaper Genie.  Even the smell of my niece's \"soy diapers\" don't seep through this.  I have been thoroughly impressed -- even the nurses at the hospital where I had my baby recommended it.====\n",
      "\n",
      "I love my Diaper Champ. My son is 3 months old and we have had a great experience with it. It's simple to use and is cost efficient. The biggest plus to this diaper pail is that you can use any plastic bag you want. As far as some people saying it smells, I haven't had a problem. Once a week I soak it with Lysol and water to keep germs away. I highly recommed this product if you want a clean, simple, and convenient diaper pail!====\n",
      "\n",
      "I agree it's better than the genie.  I own the genie and served us well.  But when I had the chance to use this product at Babies R Us store, I was so impressed.  It's very easy to use, and it seals out the odor as well.  I wanted to get this for our use, but my genie is still in good use.  Too bad, the champ came late, or we should have gotten this instead.====\n",
      "\n",
      "I have to say I really like the Diaper Champ, with one exception-it is definitely NOT always odor free.  I have had to put it in the bathroom now instead of the baby room, because smells from &quot;stinky&quot; diapers will seep out.  I think the best advice is to wrap the really smelly ones in a plastic bag before putting them in. Another word of advice-keep a can of Lysol next to it to spray when you throw a diaper away. It can also be hard to open-I've broken several nails on it.  I've only had it a few weeks (I've been using it for my toddler's diapers until my new baby comes), and I'm hoping that the latch on it loosens up a bit with opening and shutting. Otherwise, it's great that it holds more diapers, and it's SO much easier to put the diapers in it than the Diaper Genie I had.  I don't need two hands for it!====\n",
      "\n",
      "This is an excellent idea having the lid to dispose of diapers.There is no odor and extremely easy to use. Having one of these helps from needing to take out the trash daily for the guys!====\n",
      "\n",
      "This is a great diaper disposal system, but from reading many of the negative reviews I think there are many individuals who did not bother to read the instructions. the bag goes through the hole in the blue retaining ring,  then gets folded over the retaing ring and locked in place, at no point should any of the bag be out side the pale and if the bag is put in place like a regular trash can it will not seal properly and you will probaly get a smell. I can not comment on the few reviews who had a seal falure for I have not had mine long enough.====\n",
      "\n",
      "I read many reviews about diaper disposals and decided on the Diaper Champ and am VERY glad I did!  I had only heard about diaper genie but had never used it until I was visiting my brother who had one.  Now that I have used both, I am even more certain that I like the diaper champ!  With the diaper genie, you have to push the dirty diaper low enough so you can then twist the lid (the whole diaper sausage thing).  I didn't know that until I used it.  YUCK!  Plus what a pain when you have a baby in your hand.  The diaper champ is much easier...put the diaper in the lid and then flip the lid from one side to the other.  Being able to use regular trash bags is what hooked me in but now that I have used it, I'm sold!  There's no smell except for the brief moments when you change the bag.  Just keep a stick-up in the diaper champ, and you'll be fine!====\n",
      "\n",
      "Love it, love it, love it!  This lives up to the hype.  You cannot smell diapers-unless of course you don't change it or clean out.  You can also use any trash bags you already have around the house, which is why we purchased this particular diaper pail.  It can be hard to open if you have long nails, but I have found that if you just use the side of your finger instead of your fingertips then it's no problem.  I have recommended this to all new parents!====\n",
      "\n",
      "I've given this can as a gift a few times now.  Once to a couple who were on their second child, their response was 'how'd we survive through the first baby without that can'.It's easy, ordourless, and clean.  What more could new parents on.====\n",
      "\n",
      "I have 2 kids in diapers and the diaper champ has been great for us for 2 1/2 years. Easy to use and change. I love that it uses reg bags. :)====\n",
      "\n",
      "I love this pail.  You just drop the diaper in the hole, and flip the handle/lid.  Sooooo simple.  It does not smell, and it holds any garbage bags.  With the Diaper Genie, you have to open the lid, shove your arm in the pail, twist 3 times, then wipe off your arm if you know what I mean.  (It also needs special cartridges).  With the Diaper Champ, there is no mess and the diaper is gone in 1 second!  It holds more diapers too.  I definitely recommend it.====\n",
      "\n",
      "My son is now 18 months old and I have to say that the diaper champ is one of our favorite purchases! We got it when I was pregnant in hopes it would keep our house smelling ok. Well, it does pretty well at that, you still have to change it out everyday, it is poop however!!! But the thing I love most is that I can just use my kroger bags!! With buying diapers and toys, I didn't need something else on my list to buy! What a great invention!!!!====\n",
      "\n",
      "It's so much better then the diaper genie. No special bags necessary! Occasionally there are some bad odors but it's nothing that can't be fixed with some febreeze or lysol!====\n",
      "\n",
      "If you really want to save money, but still get a quality product, buy the Diaper Champ.I had a friend recommend it to me, and another friend recommend the Diaper Dekor.  When it came down to it, I couldn't make myself spend the extra money for something that needed expensive refills. Every time you have to buy refills, it is almost as expensive as buying a new diaper pail.  Let's face it, babies are expensive and whenever you can save $ you should!!!I buy a box of bags at Target that I use for the kitchen and the Diaper Champ and they cost less than ten dollars for over 100 bags.My only complaint is that it is hard to get the pail open at first to change the bags, but it gets easier over time as it loosens up and you get the hang of it!If I had it to do over again, I would still buy the Diaper Champ!  I think it is great!====\n",
      "\n",
      "Hands down....get this diaper pail... The only reason I ever even need to empty it is when it cant hold anymore! NEVER smells..ever! I change mine about every 2 weeks, like I said, only because thats when it seems to fill. Dont bother w/ the cheapies, this one is IT! Seriously....trust me! The reason why it never smells is because the diaper goes into like a seperate chamber before it gets to the bag, so the air never transfers.Theres nothing else I can say. This is perfection.====\n",
      "\n",
      "We've been using the Diaper Champ for almost 5 months now and love it. It works like advertised and keeps the odors at bay. I would recommend hosing the inside with Lysol after each bag change.====\n",
      "\n",
      "I have a friend that had the Diaper Genie and complained of it smelling on occasion.  My husband and I were a little leary of purchasing a diaper pail, but decided to give the Diaper Champ a try!  I am so glad that we did!  We have been using it for almost a month and it is great!  It is so easy to use, never smells (so far) and I love that you can use your own garbage bags and do not have to purchase special bags to use with this diaper pail!  I would definetely recommend!====\n",
      "\n",
      "I think this should be a staple in every household with a child!  It is so much easier to use than the diaper genie and the other brands.  The fact that you can use regular trash bags is a BIG plus because you don't have to stock up on refill's or run to the store when you realize you don't have anymore.  There is no oder (until you open it up to empty) and it is easy to use..great item!====\n",
      "\n",
      "Got this for my baby shower, after reading all the reviews.  I have never had a problem with mine.  I uses odor controlling garbage bags, and you never smell any dirty diapers.This product is great!====\n",
      "\n",
      "This is a great for dirty Diapers. I have had no problem with smells. And it is easy to empty out. I love It!!!====\n",
      "\n",
      "I was a diaper genie user until my son was about 1 month old.  I thought that it was hard to use.  We had a friend tell us about the Diaper CHAMP and told us to try it out.  The name say's it all.  Our son is now almost 2 years old.  We just quit using the diaper champ about 3 months ago just because it was just as easy to carry them out to the trash.  We have had no problems at with the diaper champ at all.  It does a great job on keeping the odor in the pail.  Sure, it smells when you change the bag, but you just seal off the bag, and smell is gone.  NO refills to buy or anything.  ITs great.  ITs a breeze to clean and empty the bag.  This is way better than the diaper genie!!====\n",
      "\n",
      "We like our diaper champ because you don't have to buy special bags and it let's you know when it's full.  We don't have any smell in our babies room, and she poops a lot.====\n",
      "\n",
      "Daiper Champ is a true champion. Earlier i was planning to buy Diaper Genie as i had liked its innovative style. However, all my friends were sick and tired of its refill system. Not only that, it also gives out a stinky smell when the baby grows and starts eating solid food. It also need some assembly while as CHAMP is so easy to use and can take any size diaper, any trash bag and even a kid can handle it with ease.====\n",
      "\n",
      "We like this diaper pail.  I've had two others with our older kids--one a diaper genie (which I personally found to be a pain) and another by fisher price that I don't know if they still  make.We used this for all diapers for the first six months, until our baby started having solid food.  As an exclusively breast fed baby, there were no odors escaping at all.  (Formula fed babies have stinkier diapers, so I don't personally know if it would be as efficient for them.)  My older two actually enjoyed putting the diaper in.  It's easy to change out.  I always opened it up outside (if you try to open it inside there will be some odors escape), pulled out the full bag, sprayed the can with lysol, and kept a dryer sheet in the bottom which I changed every month or so.Now that little one is having solids, I personally don't expect any diaper pail to contain the smell, so I put dirty ones directly outside.  We still use it for the wet ones.  It has worked out fine because at this point he only has one messy diaper a day.I had a little trouble with the adhesive on the gasket thingee coming loose, but I emailed them and they very promptly sent me a new one for free, along with a few extras in case it happened again (which it hasn't), so I think the customer service is good.The only thing I don't like about it is that you have to empty it fairly often, but I also recognize that honestly that's ridiculous on my part.  The more it holds, the more room it takes up, the heavier it gets, etc.  And the fact that you can't go more than two or three days (as a newborn, anyway) is probably one of the reasons it contains the smell.  The longer they sit, the more rank they get.  Now that he's older and doesn't go through 15 diapers a day, I only change it about once a week.====\n",
      "\n",
      "The Diaper Champ was recommended to us in the Babies R Us asile by a nanny who was picking up one for one of the households that she was working with.  She loved her previous experience with the product, and we are glad that she spoke up to recommend it to us.Pluses: It is a LOT easier to use than the Diaper Genie (for example you can throw a diaper away with just one hand!  Woo-hoo!)  Also, you can use regular kitchen trash bags inside it, so you don't have to buy special bags at an inflated price.  Further, due to it's extra large containment area you don't have to take out the trash as often as you would have to with the smaller Diaper Genie and the smell seems to stay inside just fine. :)The one minus that I experienced: According to the directions that came in the box, you can take apart the drum/piston assembly if you should wish to thoroughly clean the inside of it.  When we first bought the Diaper Genie I tried to take it apart.  I *could not* get it to come apart, nor could my husband.  It would not BUDGE-so much so that if the directions didn't specifically mention that it could be separated I would have assumed that it was not built to come apart.  After trying to get it apart for a ridiculous amount of time, (using practically everything from my nails to a crowbar,) I finally broke down and called the customer service number to see if I was missing some key- a button or lever to push- anything!  The customer service person told me to \"try harder\", then call again if I couldn't get it open!(Insert long pause with upraised eyebrows here.)Needless to say, I thought that was a bit less than helpful.  So... maybe my Diaper Genie was warped, or maybe they are all impossible to get open- it's your gamble.  I didn't take it back to the store because I assume that they are all that way.  On the bright side, I really haven't felt that it's gotten dirtier than a lysol wipe could handle- so despite that lack of helpfulness that the customer service folks could offer me, I would still recommend the product itself to a friend.====\n",
      "\n",
      "I am glad I bought this! It uses regular garbage bags and there is no odor at all. It is so easy to use. Thumbs up on this one. I am glad I didnt get the diaper genie..it wouldve been a waste of money!I recommend this diaper champ to everyone!====\n",
      "\n",
      "This truly is the champ of diapers. This product, unlike the genie and others, is standalone of \"refills\" (well, you do need garbage bags, but you should already have those). It also does a very good job of keeping the stink away. Not once has the smell came out in such a way that we notice.It also kind of reminds me of the ghost jail thing in Ghostbusters, you know, where they put the trap in and release the ghosts?It's a great product. It's kind of big, it's well made, and it will not need to be changed out for about a week. I'd advise anyone to buy it.====\n",
      "\n",
      "Love this. We keep several layers on the crib mattress: mattress pad/protector, sheet, then ultimate crib sheet. In case of nighttime accidents or illness of any sort, I can just pull the ultimate crib sheet off, have another sheet ready to go, and mattress is always protected. Deducted one star b/c both of our ultimate crib sheets balled up immediately with first wash. Not as bad with second sheet since actually followed washing directions, but still had some pilling of soft layers.====\n",
      "\n",
      "I don't know how I would have managed without these! My  twin boys wet through diapers like crazy, and these sheets are a huge time saver... just snap them out, wash & dry and snap them back on. They are really soft too.====\n",
      "\n",
      "I purchased the Ultimate Crib Sheet for a baby gift. I'm that crazy about this product. Like all of my favorite baby items (my babies are now almost 10 and almost seven), the crib sheet was a gift from a friend who too, loved it. You put your regular crib sheet down on the bed (the fitted one). This one snaps in over the fitted sheet, around the rungs of the crib. If your child poops/pees/vomits in the middle of the night, all you have to do is unsnap the top sheet (it's got a leak proof backing on it) and then you've already got your regular sheet underneath, ready to go. No fighting with the mattress in the middle of the night. Getting a fitted sheet on the mattress is hard enough during the day; doing it when your child has other issues going on is a nightmare. This really is the \"Ultimate\".====\n",
      "\n",
      "I really wish that I had this when my son was a newborn and all those midnight crib cya gongs could have been avoided. This is a really great and easy to use product. It is definitely one of the first things that I recommend to parents and I'm glad that we will have it around for our second child. Make sure tha you buy a backup one or teo for those late night changings. This came in very handy when our 18 month old went through potty training and just for any other leakages or accidents that kids sometimes have.My only complaint was that when we washed these in the wash, some of the snaps would break off. also, on a side note, as cheap as these are from Amazon, I have also been able to find the same brand at TJMaxx and Marshalls for half the price.====\n",
      "\n",
      "When my son was a newborn, I was able to fold it in two and placed a blanket on top to make it a little more comfortable because it is kind of scratchy.  Now at four months it is at is full length and I still put a blanket on top of it.  Whenever he gets it wet I just take the blanket and the cover and wash it easily.  I don't have to mess with the fitted sheet and trying to get it off of the mattress which is so hard since they are so tightly fitted against the crib.  This makes life simple and cleaner.  You can use it anywhere.====\n",
      "\n",
      "I have loved having these crib sheets!  I only have to use one regular sheet, and then this goes over the top.  When it needs to be changed, a few snaps does the trick and off it comes.  Otherwise I'd have to have a mattress pad, a waterproof pad, and a regular sheet, and all three would have to come off for each change.  With the thick mattress on the crib, changing them would be a real chore.  The Ultimate Crib Sheet saves time and money.====\n",
      "\n"
     ]
    },
    {
     "data": {
      "text/plain": [
       "dtype: float\n",
       "Rows: 53072\n",
       "[None, None, None, None, None, None, None, None, None, None, None, None, None, None, None, None, None, None, None, None, None, None, None, None, None, None, None, None, None, None, None, None, None, None, None, None, None, None, None, None, None, None, None, None, None, None, None, None, None, None, None, None, None, None, None, None, None, None, None, None, None, None, None, None, None, None, None, None, None, None, None, None, None, None, None, None, None, None, None, None, None, None, None, None, None, None, None, None, None, None, None, None, None, None, None, None, None, None, None, None, ... ]"
      ]
     },
     "execution_count": 36,
     "metadata": {},
     "output_type": "execute_result"
    }
   ],
   "source": [
    "def printf(x):\n",
    "    print x\n",
    "    \n",
    "products['review'].apply(lambda s: printf(s + \"====\\n\") if s.find('cute') else \"\")"
   ]
  },
  {
   "cell_type": "markdown",
   "metadata": {},
   "source": [
    "## Train-Validation split\n",
    "\n",
    "We split the data into a train-validation split with 80% of the data in the training set and 20% of the data in the validation set. We use `seed=2` so that everyone gets the same result.\n",
    "\n",
    "**Note:** In previous assignments, we have called this a **train-test split**. However, the portion of data that we don't train on will be used to help **select model parameters**. Thus, this portion of data should be called a **validation set**. Recall that examining performance of various potential models (i.e. models with different parameters) should be on a validation set, while evaluation of selected model should always be on a test set."
   ]
  },
  {
   "cell_type": "code",
   "execution_count": 37,
   "metadata": {
    "collapsed": false
   },
   "outputs": [
    {
     "name": "stdout",
     "output_type": "stream",
     "text": [
      "Training set   : 42361 data points\n",
      "Validation set : 10711 data points\n"
     ]
    }
   ],
   "source": [
    "train_data, validation_data = products.random_split(.8, seed=2)\n",
    "\n",
    "print 'Training set   : %d data points' % len(train_data)\n",
    "print 'Validation set : %d data points' % len(validation_data)"
   ]
  },
  {
   "cell_type": "markdown",
   "metadata": {},
   "source": [
    "## Convert SFrame to NumPy array"
   ]
  },
  {
   "cell_type": "markdown",
   "metadata": {
    "collapsed": true
   },
   "source": [
    "Just like in the second assignment of the previous module, we provide you with a function that extracts columns from an SFrame and converts them into a NumPy array. Two arrays are returned: one representing features and another representing class labels. \n",
    "\n",
    "**Note:** The feature matrix includes an additional column 'intercept' filled with 1's to take account of the intercept term."
   ]
  },
  {
   "cell_type": "code",
   "execution_count": 38,
   "metadata": {
    "collapsed": true
   },
   "outputs": [],
   "source": [
    "import numpy as np\n",
    "\n",
    "def get_numpy_data(data_sframe, features, label):\n",
    "    data_sframe['intercept'] = 1\n",
    "    features = ['intercept'] + features\n",
    "    features_sframe = data_sframe[features]\n",
    "    feature_matrix = features_sframe.to_numpy()\n",
    "    label_sarray = data_sframe[label]\n",
    "    label_array = label_sarray.to_numpy()\n",
    "    return(feature_matrix, label_array)"
   ]
  },
  {
   "cell_type": "markdown",
   "metadata": {},
   "source": [
    "We convert both the training and validation sets into NumPy arrays.\n",
    "\n",
    "**Warning**: This may take a few minutes."
   ]
  },
  {
   "cell_type": "code",
   "execution_count": 39,
   "metadata": {
    "collapsed": false
   },
   "outputs": [],
   "source": [
    "feature_matrix_train, sentiment_train = get_numpy_data(train_data, important_words, 'sentiment')\n",
    "feature_matrix_valid, sentiment_valid = get_numpy_data(validation_data, important_words, 'sentiment') "
   ]
  },
  {
   "cell_type": "markdown",
   "metadata": {},
   "source": [
    "**Are you running this notebook on an Amazon EC2 t2.micro instance?** (If you are using your own machine, please skip this section)\n",
    "\n",
    "It has been reported that t2.micro instances do not provide sufficient power to complete the conversion in acceptable amount of time. For interest of time, please refrain from running `get_numpy_data` function. Instead, download the [binary file](https://s3.amazonaws.com/static.dato.com/files/coursera/course-3/numpy-arrays/module-4-assignment-numpy-arrays.npz) containing the four NumPy arrays you'll need for the assignment. To load the arrays, run the following commands:\n",
    "```\n",
    "arrays = np.load('module-4-assignment-numpy-arrays.npz')\n",
    "feature_matrix_train, sentiment_train = arrays['feature_matrix_train'], arrays['sentiment_train']\n",
    "feature_matrix_valid, sentiment_valid = arrays['feature_matrix_valid'], arrays['sentiment_valid']\n",
    "```"
   ]
  },
  {
   "cell_type": "markdown",
   "metadata": {},
   "source": [
    "## Building on logistic regression with no L2 penalty assignment\n",
    "\n",
    "Let us now build on Module 3 assignment. Recall from lecture that the link function for logistic regression can be defined as:\n",
    "\n",
    "$$\n",
    "P(y_i = +1 | \\mathbf{x}_i,\\mathbf{w}) = \\frac{1}{1 + \\exp(-\\mathbf{w}^T h(\\mathbf{x}_i))},\n",
    "$$\n",
    "\n",
    "where the feature vector $h(\\mathbf{x}_i)$ is given by the word counts of **important_words** in the review $\\mathbf{x}_i$. \n",
    "\n",
    "We will use the **same code** as in this past assignment to make probability predictions since this part is not affected by the L2 penalty.  (Only the way in which the coefficients are learned is affected by the addition of a regularization term.)"
   ]
  },
  {
   "cell_type": "code",
   "execution_count": 40,
   "metadata": {
    "collapsed": false
   },
   "outputs": [],
   "source": [
    "'''\n",
    "produces probablistic estimate for P(y_i = +1 | x_i, w).\n",
    "estimate ranges between 0 and 1.\n",
    "'''\n",
    "def predict_probability(feature_matrix, coefficients):\n",
    "    # Take dot product of feature_matrix and coefficients  \n",
    "    # YOUR CODE HERE\n",
    "    prob = np.dot(feature_matrix,coefficients)\n",
    "    prob.shape\n",
    "    \n",
    "    # Compute P(y_i = +1 | x_i, w) using the link function\n",
    "    # YOUR CODE HERE\n",
    "    predictions = 1.0/(1.0 + np.exp(-prob))\n",
    "    \n",
    "    # return predictions\n",
    "    return predictions"
   ]
  },
  {
   "cell_type": "markdown",
   "metadata": {},
   "source": [
    "# Adding  L2 penalty"
   ]
  },
  {
   "cell_type": "markdown",
   "metadata": {},
   "source": [
    "Let us now work on extending logistic regression with L2 regularization. As discussed in the lectures, the L2 regularization is particularly useful in preventing overfitting. In this assignment, we will explore L2 regularization in detail.\n",
    "\n",
    "Recall from lecture and the previous assignment that for logistic regression without an L2 penalty, the derivative of the log likelihood function is:\n",
    "$$\n",
    "\\frac{\\partial\\ell}{\\partial w_j} = \\sum_{i=1}^N h_j(\\mathbf{x}_i)\\left(\\mathbf{1}[y_i = +1] - P(y_i = +1 | \\mathbf{x}_i, \\mathbf{w})\\right)\n",
    "$$\n",
    "\n",
    "** Adding L2 penalty to the derivative** \n",
    "\n",
    "It takes only a small modification to add a L2 penalty. All terms indicated in **red** refer to terms that were added due to an **L2 penalty**.\n",
    "\n",
    "* Recall from the lecture that the link function is still the sigmoid:\n",
    "$$\n",
    "P(y_i = +1 | \\mathbf{x}_i,\\mathbf{w}) = \\frac{1}{1 + \\exp(-\\mathbf{w}^T h(\\mathbf{x}_i))},\n",
    "$$\n",
    "* We add the L2 penalty term to the per-coefficient derivative of log likelihood:\n",
    "$$\n",
    "\\frac{\\partial\\ell}{\\partial w_j} = \\sum_{i=1}^N h_j(\\mathbf{x}_i)\\left(\\mathbf{1}[y_i = +1] - P(y_i = +1 | \\mathbf{x}_i, \\mathbf{w})\\right) \\color{red}{-2\\lambda w_j }\n",
    "$$\n",
    "\n",
    "The **per-coefficient derivative for logistic regression with an L2 penalty** is as follows:\n",
    "$$\n",
    "\\frac{\\partial\\ell}{\\partial w_j} = \\sum_{i=1}^N h_j(\\mathbf{x}_i)\\left(\\mathbf{1}[y_i = +1] - P(y_i = +1 | \\mathbf{x}_i, \\mathbf{w})\\right) \\color{red}{-2\\lambda w_j }\n",
    "$$\n",
    "and for the intercept term, we have\n",
    "$$\n",
    "\\frac{\\partial\\ell}{\\partial w_0} = \\sum_{i=1}^N h_0(\\mathbf{x}_i)\\left(\\mathbf{1}[y_i = +1] - P(y_i = +1 | \\mathbf{x}_i, \\mathbf{w})\\right)\n",
    "$$"
   ]
  },
  {
   "cell_type": "markdown",
   "metadata": {},
   "source": [
    "**Note**: As we did in the Regression course, we do not apply the L2 penalty on the intercept. A large intercept does not necessarily indicate overfitting because the intercept is not associated with any particular feature."
   ]
  },
  {
   "cell_type": "markdown",
   "metadata": {},
   "source": [
    "Write a function that computes the derivative of log likelihood with respect to a single coefficient $w_j$. Unlike its counterpart in the last assignment, the function accepts five arguments:\n",
    " * `errors` vector containing $(\\mathbf{1}[y_i = +1] - P(y_i = +1 | \\mathbf{x}_i, \\mathbf{w}))$ for all $i$\n",
    " * `feature` vector containing $h_j(\\mathbf{x}_i)$  for all $i$\n",
    " * `coefficient` containing the current value of coefficient $w_j$.\n",
    " * `l2_penalty` representing the L2 penalty constant $\\lambda$\n",
    " * `feature_is_constant` telling whether the $j$-th feature is constant or not."
   ]
  },
  {
   "cell_type": "code",
   "execution_count": 41,
   "metadata": {
    "collapsed": true
   },
   "outputs": [],
   "source": [
    "def feature_derivative_with_L2(errors, feature, coefficient, l2_penalty, feature_is_constant): \n",
    "    \n",
    "    # Compute the dot product of errors and feature\n",
    "    ## YOUR CODE HERE\n",
    "    derivative = np.dot(errors, feature)\n",
    "\n",
    "    # add L2 penalty term for any feature that isn't the intercept.\n",
    "    if not feature_is_constant: \n",
    "        derivative = derivative - 2.0*l2_penalty*coefficient\n",
    "        \n",
    "    return derivative"
   ]
  },
  {
   "cell_type": "markdown",
   "metadata": {},
   "source": [
    "** Quiz question:** In the code above, was the intercept term regularized?**No**"
   ]
  },
  {
   "cell_type": "markdown",
   "metadata": {},
   "source": [
    "To verify the correctness of the gradient ascent algorithm, we provide a function for computing log likelihood (which we recall from the last assignment was a topic detailed in an advanced optional video, and used here for its numerical stability)."
   ]
  },
  {
   "cell_type": "markdown",
   "metadata": {},
   "source": [
    "$$\\ell\\ell(\\mathbf{w}) = \\sum_{i=1}^N \\Big( (\\mathbf{1}[y_i = +1] - 1)\\mathbf{w}^T h(\\mathbf{x}_i) - \\ln\\left(1 + \\exp(-\\mathbf{w}^T h(\\mathbf{x}_i))\\right) \\Big) \\color{red}{-\\lambda\\|\\mathbf{w}\\|_2^2} $$"
   ]
  },
  {
   "cell_type": "code",
   "execution_count": 42,
   "metadata": {
    "collapsed": false
   },
   "outputs": [],
   "source": [
    "def compute_log_likelihood_with_L2(feature_matrix, sentiment, coefficients, l2_penalty):\n",
    "    indicator = (sentiment==+1)\n",
    "    scores = np.dot(feature_matrix, coefficients)\n",
    "    \n",
    "    lp = np.sum((indicator-1)*scores - np.log(1. + np.exp(-scores))) - l2_penalty*np.sum(coefficients[1:]**2)\n",
    "    \n",
    "    return lp"
   ]
  },
  {
   "cell_type": "markdown",
   "metadata": {},
   "source": [
    "** Quiz question:** Does the term with L2 regularization increase or decrease $\\ell\\ell(\\mathbf{w})$? **Decrease**"
   ]
  },
  {
   "cell_type": "markdown",
   "metadata": {},
   "source": [
    "The logistic regression function looks almost like the one in the last assignment, with a minor modification to account for the L2 penalty.  Fill in the code below to complete this modification."
   ]
  },
  {
   "cell_type": "code",
   "execution_count": 43,
   "metadata": {
    "collapsed": false
   },
   "outputs": [],
   "source": [
    "def logistic_regression_with_L2(feature_matrix, sentiment, initial_coefficients, step_size, l2_penalty, max_iter):\n",
    "    coefficients = np.array(initial_coefficients) # make sure it's a numpy array\n",
    "    for itr in xrange(max_iter):\n",
    "        # Predict P(y_i = +1|x_i,w) using your predict_probability() function\n",
    "        ## YOUR CODE HERE\n",
    "        predictions = predict_probability(feature_matrix,coefficients)\n",
    "        \n",
    "        # Compute indicator value for (y_i = +1)\n",
    "        indicator = (sentiment==+1)\n",
    "        \n",
    "        # Compute the errors as indicator - predictions\n",
    "        errors = indicator - predictions\n",
    "        for j in xrange(len(coefficients)): # loop over each coefficient\n",
    "            is_intercept = (j == 0)\n",
    "            # Recall that feature_matrix[:,j] is the feature column associated with coefficients[j].\n",
    "            # Compute the derivative for coefficients[j]. Save it in a variable called derivative\n",
    "            ## YOUR CODE HERE\n",
    "            derivative = feature_derivative_with_L2(errors, feature_matrix[:,j], coefficients[j],l2_penalty,is_intercept)\n",
    "            \n",
    "            # add the step size times the derivative to the current coefficient\n",
    "            ## YOUR CODE HERE\n",
    "            coefficients[j] = step_size*derivative + coefficients[j]\n",
    "        \n",
    "        # Checking whether log likelihood is increasing\n",
    "        if itr <= 15 or (itr <= 100 and itr % 10 == 0) or (itr <= 1000 and itr % 100 == 0) \\\n",
    "        or (itr <= 10000 and itr % 1000 == 0) or itr % 10000 == 0:\n",
    "            lp = compute_log_likelihood_with_L2(feature_matrix, sentiment, coefficients, l2_penalty)\n",
    "            print 'iteration %*d: log likelihood of observed labels = %.8f' % \\\n",
    "                (int(np.ceil(np.log10(max_iter))), itr, lp)\n",
    "    return coefficients"
   ]
  },
  {
   "cell_type": "markdown",
   "metadata": {},
   "source": [
    "# Explore effects of L2 regularization\n",
    "\n",
    "Now that we have written up all the pieces needed for regularized logistic regression, let's explore the benefits of using **L2 regularization** in analyzing sentiment for product reviews. **As iterations pass, the log likelihood should increase**.\n",
    "\n",
    "Below, we train models with increasing amounts of regularization, starting with no L2 penalty, which is equivalent to our previous logistic regression implementation."
   ]
  },
  {
   "cell_type": "code",
   "execution_count": 44,
   "metadata": {
    "collapsed": false,
    "scrolled": false
   },
   "outputs": [
    {
     "name": "stdout",
     "output_type": "stream",
     "text": [
      "iteration   0: log likelihood of observed labels = -29179.39138303\n",
      "iteration   1: log likelihood of observed labels = -29003.71259047\n",
      "iteration   2: log likelihood of observed labels = -28834.66187288\n",
      "iteration   3: log likelihood of observed labels = -28671.70781507\n",
      "iteration   4: log likelihood of observed labels = -28514.43078198\n",
      "iteration   5: log likelihood of observed labels = -28362.48344665\n",
      "iteration   6: log likelihood of observed labels = -28215.56713122\n",
      "iteration   7: log likelihood of observed labels = -28073.41743783\n",
      "iteration   8: log likelihood of observed labels = -27935.79536396\n",
      "iteration   9: log likelihood of observed labels = -27802.48168669\n",
      "iteration  10: log likelihood of observed labels = -27673.27331484\n",
      "iteration  11: log likelihood of observed labels = -27547.98083656\n",
      "iteration  12: log likelihood of observed labels = -27426.42679977\n",
      "iteration  13: log likelihood of observed labels = -27308.44444728\n",
      "iteration  14: log likelihood of observed labels = -27193.87673876\n",
      "iteration  15: log likelihood of observed labels = -27082.57555831\n",
      "iteration  20: log likelihood of observed labels = -26570.43059938\n",
      "iteration  30: log likelihood of observed labels = -25725.48742389\n",
      "iteration  40: log likelihood of observed labels = -25055.53326910\n",
      "iteration  50: log likelihood of observed labels = -24509.63590026\n",
      "iteration  60: log likelihood of observed labels = -24054.97906083\n",
      "iteration  70: log likelihood of observed labels = -23669.51640848\n",
      "iteration  80: log likelihood of observed labels = -23337.89167628\n",
      "iteration  90: log likelihood of observed labels = -23049.07066021\n",
      "iteration 100: log likelihood of observed labels = -22794.90974921\n",
      "iteration 200: log likelihood of observed labels = -21283.29527353\n",
      "iteration 300: log likelihood of observed labels = -20570.97485473\n",
      "iteration 400: log likelihood of observed labels = -20152.21466944\n",
      "iteration 500: log likelihood of observed labels = -19876.62333410\n"
     ]
    }
   ],
   "source": [
    "# run with L2 = 0\n",
    "coefficients_0_penalty = logistic_regression_with_L2(feature_matrix_train, sentiment_train,\n",
    "                                                     initial_coefficients=np.zeros(194),\n",
    "                                                     step_size=5e-6, l2_penalty=0, max_iter=501)"
   ]
  },
  {
   "cell_type": "code",
   "execution_count": 45,
   "metadata": {
    "collapsed": false
   },
   "outputs": [
    {
     "name": "stdout",
     "output_type": "stream",
     "text": [
      "iteration   0: log likelihood of observed labels = -29179.39508175\n",
      "iteration   1: log likelihood of observed labels = -29003.73417180\n",
      "iteration   2: log likelihood of observed labels = -28834.71441858\n",
      "iteration   3: log likelihood of observed labels = -28671.80345068\n",
      "iteration   4: log likelihood of observed labels = -28514.58077957\n",
      "iteration   5: log likelihood of observed labels = -28362.69830317\n",
      "iteration   6: log likelihood of observed labels = -28215.85663259\n",
      "iteration   7: log likelihood of observed labels = -28073.79071393\n",
      "iteration   8: log likelihood of observed labels = -27936.26093762\n",
      "iteration   9: log likelihood of observed labels = -27803.04751805\n",
      "iteration  10: log likelihood of observed labels = -27673.94684207\n",
      "iteration  11: log likelihood of observed labels = -27548.76901327\n",
      "iteration  12: log likelihood of observed labels = -27427.33612958\n",
      "iteration  13: log likelihood of observed labels = -27309.48101569\n",
      "iteration  14: log likelihood of observed labels = -27195.04624253\n",
      "iteration  15: log likelihood of observed labels = -27083.88333261\n",
      "iteration  20: log likelihood of observed labels = -26572.49874392\n",
      "iteration  30: log likelihood of observed labels = -25729.32604153\n",
      "iteration  40: log likelihood of observed labels = -25061.34245801\n",
      "iteration  50: log likelihood of observed labels = -24517.52091982\n",
      "iteration  60: log likelihood of observed labels = -24064.99093939\n",
      "iteration  70: log likelihood of observed labels = -23681.67373669\n",
      "iteration  80: log likelihood of observed labels = -23352.19298741\n",
      "iteration  90: log likelihood of observed labels = -23065.50180166\n",
      "iteration 100: log likelihood of observed labels = -22813.44844580\n",
      "iteration 200: log likelihood of observed labels = -21321.14164794\n",
      "iteration 300: log likelihood of observed labels = -20624.98634439\n",
      "iteration 400: log likelihood of observed labels = -20219.92048845\n",
      "iteration 500: log likelihood of observed labels = -19956.11341777\n"
     ]
    }
   ],
   "source": [
    "# run with L2 = 4\n",
    "coefficients_4_penalty = logistic_regression_with_L2(feature_matrix_train, sentiment_train,\n",
    "                                                      initial_coefficients=np.zeros(194),\n",
    "                                                      step_size=5e-6, l2_penalty=4, max_iter=501)"
   ]
  },
  {
   "cell_type": "code",
   "execution_count": 46,
   "metadata": {
    "collapsed": false
   },
   "outputs": [
    {
     "name": "stdout",
     "output_type": "stream",
     "text": [
      "iteration   0: log likelihood of observed labels = -29179.40062984\n",
      "iteration   1: log likelihood of observed labels = -29003.76654163\n",
      "iteration   2: log likelihood of observed labels = -28834.79322654\n",
      "iteration   3: log likelihood of observed labels = -28671.94687528\n",
      "iteration   4: log likelihood of observed labels = -28514.80571589\n",
      "iteration   5: log likelihood of observed labels = -28363.02048079\n",
      "iteration   6: log likelihood of observed labels = -28216.29071186\n",
      "iteration   7: log likelihood of observed labels = -28074.35036891\n",
      "iteration   8: log likelihood of observed labels = -27936.95892966\n",
      "iteration   9: log likelihood of observed labels = -27803.89576265\n",
      "iteration  10: log likelihood of observed labels = -27674.95647005\n",
      "iteration  11: log likelihood of observed labels = -27549.95042714\n",
      "iteration  12: log likelihood of observed labels = -27428.69905549\n",
      "iteration  13: log likelihood of observed labels = -27311.03455140\n",
      "iteration  14: log likelihood of observed labels = -27196.79890162\n",
      "iteration  15: log likelihood of observed labels = -27085.84308528\n",
      "iteration  20: log likelihood of observed labels = -26575.59697506\n",
      "iteration  30: log likelihood of observed labels = -25735.07304608\n",
      "iteration  40: log likelihood of observed labels = -25070.03447306\n",
      "iteration  50: log likelihood of observed labels = -24529.31188025\n",
      "iteration  60: log likelihood of observed labels = -24079.95349572\n",
      "iteration  70: log likelihood of observed labels = -23699.83199186\n",
      "iteration  80: log likelihood of observed labels = -23373.54108747\n",
      "iteration  90: log likelihood of observed labels = -23090.01500055\n",
      "iteration 100: log likelihood of observed labels = -22841.08995135\n",
      "iteration 200: log likelihood of observed labels = -21377.25595328\n",
      "iteration 300: log likelihood of observed labels = -20704.63995428\n",
      "iteration 400: log likelihood of observed labels = -20319.25685307\n",
      "iteration 500: log likelihood of observed labels = -20072.16321721\n"
     ]
    }
   ],
   "source": [
    "# run with L2 = 10\n",
    "coefficients_10_penalty = logistic_regression_with_L2(feature_matrix_train, sentiment_train,\n",
    "                                                      initial_coefficients=np.zeros(194),\n",
    "                                                      step_size=5e-6, l2_penalty=10, max_iter=501)"
   ]
  },
  {
   "cell_type": "code",
   "execution_count": 47,
   "metadata": {
    "collapsed": false
   },
   "outputs": [
    {
     "name": "stdout",
     "output_type": "stream",
     "text": [
      "iteration   0: log likelihood of observed labels = -29179.48385120\n",
      "iteration   1: log likelihood of observed labels = -29004.25177457\n",
      "iteration   2: log likelihood of observed labels = -28835.97382190\n",
      "iteration   3: log likelihood of observed labels = -28674.09410083\n",
      "iteration   4: log likelihood of observed labels = -28518.17112932\n",
      "iteration   5: log likelihood of observed labels = -28367.83774654\n",
      "iteration   6: log likelihood of observed labels = -28222.77708939\n",
      "iteration   7: log likelihood of observed labels = -28082.70799392\n",
      "iteration   8: log likelihood of observed labels = -27947.37595368\n",
      "iteration   9: log likelihood of observed labels = -27816.54738615\n",
      "iteration  10: log likelihood of observed labels = -27690.00588850\n",
      "iteration  11: log likelihood of observed labels = -27567.54970126\n",
      "iteration  12: log likelihood of observed labels = -27448.98991327\n",
      "iteration  13: log likelihood of observed labels = -27334.14912742\n",
      "iteration  14: log likelihood of observed labels = -27222.86041863\n",
      "iteration  15: log likelihood of observed labels = -27114.96648229\n",
      "iteration  20: log likelihood of observed labels = -26621.50201299\n",
      "iteration  30: log likelihood of observed labels = -25819.72803950\n",
      "iteration  40: log likelihood of observed labels = -25197.34035501\n",
      "iteration  50: log likelihood of observed labels = -24701.03698195\n",
      "iteration  60: log likelihood of observed labels = -24296.66378580\n",
      "iteration  70: log likelihood of observed labels = -23961.38842316\n",
      "iteration  80: log likelihood of observed labels = -23679.38088853\n",
      "iteration  90: log likelihood of observed labels = -23439.31824267\n",
      "iteration 100: log likelihood of observed labels = -23232.88192018\n",
      "iteration 200: log likelihood of observed labels = -22133.50726528\n",
      "iteration 300: log likelihood of observed labels = -21730.03957488\n",
      "iteration 400: log likelihood of observed labels = -21545.87572145\n",
      "iteration 500: log likelihood of observed labels = -21451.95551390\n"
     ]
    }
   ],
   "source": [
    "# run with L2 = 1e2\n",
    "coefficients_1e2_penalty = logistic_regression_with_L2(feature_matrix_train, sentiment_train,\n",
    "                                                       initial_coefficients=np.zeros(194),\n",
    "                                                       step_size=5e-6, l2_penalty=1e2, max_iter=501)"
   ]
  },
  {
   "cell_type": "code",
   "execution_count": 48,
   "metadata": {
    "collapsed": false
   },
   "outputs": [
    {
     "name": "stdout",
     "output_type": "stream",
     "text": [
      "iteration   0: log likelihood of observed labels = -29180.31606471\n",
      "iteration   1: log likelihood of observed labels = -29009.07176112\n",
      "iteration   2: log likelihood of observed labels = -28847.62378912\n",
      "iteration   3: log likelihood of observed labels = -28695.14439397\n",
      "iteration   4: log likelihood of observed labels = -28550.95060743\n",
      "iteration   5: log likelihood of observed labels = -28414.45771129\n",
      "iteration   6: log likelihood of observed labels = -28285.15124375\n",
      "iteration   7: log likelihood of observed labels = -28162.56976044\n",
      "iteration   8: log likelihood of observed labels = -28046.29387744\n",
      "iteration   9: log likelihood of observed labels = -27935.93902900\n",
      "iteration  10: log likelihood of observed labels = -27831.15045502\n",
      "iteration  11: log likelihood of observed labels = -27731.59955260\n",
      "iteration  12: log likelihood of observed labels = -27636.98108219\n",
      "iteration  13: log likelihood of observed labels = -27547.01092670\n",
      "iteration  14: log likelihood of observed labels = -27461.42422295\n",
      "iteration  15: log likelihood of observed labels = -27379.97375625\n",
      "iteration  20: log likelihood of observed labels = -27027.18208317\n",
      "iteration  30: log likelihood of observed labels = -26527.22737267\n",
      "iteration  40: log likelihood of observed labels = -26206.59048765\n",
      "iteration  50: log likelihood of observed labels = -25995.96903148\n",
      "iteration  60: log likelihood of observed labels = -25854.95710284\n",
      "iteration  70: log likelihood of observed labels = -25759.08109950\n",
      "iteration  80: log likelihood of observed labels = -25693.05688014\n",
      "iteration  90: log likelihood of observed labels = -25647.09929349\n",
      "iteration 100: log likelihood of observed labels = -25614.81468705\n",
      "iteration 200: log likelihood of observed labels = -25536.20998919\n",
      "iteration 300: log likelihood of observed labels = -25532.57691220\n",
      "iteration 400: log likelihood of observed labels = -25532.35543765\n",
      "iteration 500: log likelihood of observed labels = -25532.33970049\n"
     ]
    }
   ],
   "source": [
    "# run with L2 = 1e3\n",
    "coefficients_1e3_penalty = logistic_regression_with_L2(feature_matrix_train, sentiment_train,\n",
    "                                                       initial_coefficients=np.zeros(194),\n",
    "                                                       step_size=5e-6, l2_penalty=1e3, max_iter=501)"
   ]
  },
  {
   "cell_type": "code",
   "execution_count": 49,
   "metadata": {
    "collapsed": false
   },
   "outputs": [
    {
     "name": "stdout",
     "output_type": "stream",
     "text": [
      "iteration   0: log likelihood of observed labels = -29271.85955115\n",
      "iteration   1: log likelihood of observed labels = -29271.71006589\n",
      "iteration   2: log likelihood of observed labels = -29271.65738833\n",
      "iteration   3: log likelihood of observed labels = -29271.61189923\n",
      "iteration   4: log likelihood of observed labels = -29271.57079975\n",
      "iteration   5: log likelihood of observed labels = -29271.53358505\n",
      "iteration   6: log likelihood of observed labels = -29271.49988440\n",
      "iteration   7: log likelihood of observed labels = -29271.46936584\n",
      "iteration   8: log likelihood of observed labels = -29271.44172890\n",
      "iteration   9: log likelihood of observed labels = -29271.41670149\n",
      "iteration  10: log likelihood of observed labels = -29271.39403722\n",
      "iteration  11: log likelihood of observed labels = -29271.37351294\n",
      "iteration  12: log likelihood of observed labels = -29271.35492661\n",
      "iteration  13: log likelihood of observed labels = -29271.33809523\n",
      "iteration  14: log likelihood of observed labels = -29271.32285309\n",
      "iteration  15: log likelihood of observed labels = -29271.30905015\n",
      "iteration  20: log likelihood of observed labels = -29271.25729150\n",
      "iteration  30: log likelihood of observed labels = -29271.20657205\n",
      "iteration  40: log likelihood of observed labels = -29271.18775997\n",
      "iteration  50: log likelihood of observed labels = -29271.18078247\n",
      "iteration  60: log likelihood of observed labels = -29271.17819447\n",
      "iteration  70: log likelihood of observed labels = -29271.17723457\n",
      "iteration  80: log likelihood of observed labels = -29271.17687853\n",
      "iteration  90: log likelihood of observed labels = -29271.17674648\n",
      "iteration 100: log likelihood of observed labels = -29271.17669750\n",
      "iteration 200: log likelihood of observed labels = -29271.17666862\n",
      "iteration 300: log likelihood of observed labels = -29271.17666862\n",
      "iteration 400: log likelihood of observed labels = -29271.17666862\n",
      "iteration 500: log likelihood of observed labels = -29271.17666862\n"
     ]
    }
   ],
   "source": [
    "# run with L2 = 1e5\n",
    "coefficients_1e5_penalty = logistic_regression_with_L2(feature_matrix_train, sentiment_train,\n",
    "                                                       initial_coefficients=np.zeros(194),\n",
    "                                                       step_size=5e-6, l2_penalty=1e5, max_iter=501)"
   ]
  },
  {
   "cell_type": "markdown",
   "metadata": {},
   "source": [
    "## Compare coefficients\n",
    "\n",
    "We now compare the **coefficients** for each of the models that were trained above. We will create a table of features and learned coefficients associated with each of the different L2 penalty values.\n",
    "\n",
    "Below is a simple helper function that will help us create this table."
   ]
  },
  {
   "cell_type": "code",
   "execution_count": 109,
   "metadata": {
    "collapsed": false
   },
   "outputs": [
    {
     "data": {
      "text/html": [
       "<div style=\"max-height:1000px;max-width:1500px;overflow:auto;\"><table frame=\"box\" rules=\"cols\">\n",
       "    <tr>\n",
       "        <th style=\"padding-left: 1em; padding-right: 1em; text-align: center\">word</th>\n",
       "    </tr>\n",
       "    <tr>\n",
       "        <td style=\"padding-left: 1em; padding-right: 1em; text-align: center; vertical-align: top\">(intercept)</td>\n",
       "    </tr>\n",
       "    <tr>\n",
       "        <td style=\"padding-left: 1em; padding-right: 1em; text-align: center; vertical-align: top\">baby</td>\n",
       "    </tr>\n",
       "    <tr>\n",
       "        <td style=\"padding-left: 1em; padding-right: 1em; text-align: center; vertical-align: top\">one</td>\n",
       "    </tr>\n",
       "    <tr>\n",
       "        <td style=\"padding-left: 1em; padding-right: 1em; text-align: center; vertical-align: top\">great</td>\n",
       "    </tr>\n",
       "    <tr>\n",
       "        <td style=\"padding-left: 1em; padding-right: 1em; text-align: center; vertical-align: top\">love</td>\n",
       "    </tr>\n",
       "    <tr>\n",
       "        <td style=\"padding-left: 1em; padding-right: 1em; text-align: center; vertical-align: top\">use</td>\n",
       "    </tr>\n",
       "    <tr>\n",
       "        <td style=\"padding-left: 1em; padding-right: 1em; text-align: center; vertical-align: top\">would</td>\n",
       "    </tr>\n",
       "    <tr>\n",
       "        <td style=\"padding-left: 1em; padding-right: 1em; text-align: center; vertical-align: top\">like</td>\n",
       "    </tr>\n",
       "    <tr>\n",
       "        <td style=\"padding-left: 1em; padding-right: 1em; text-align: center; vertical-align: top\">easy</td>\n",
       "    </tr>\n",
       "    <tr>\n",
       "        <td style=\"padding-left: 1em; padding-right: 1em; text-align: center; vertical-align: top\">little</td>\n",
       "    </tr>\n",
       "</table>\n",
       "[194 rows x 1 columns]<br/>Note: Only the head of the SFrame is printed.<br/>You can use print_rows(num_rows=m, num_columns=n) to print more rows and columns.\n",
       "</div>"
      ],
      "text/plain": [
       "Columns:\n",
       "\tword\tstr\n",
       "\n",
       "Rows: 194\n",
       "\n",
       "Data:\n",
       "+-------------+\n",
       "|     word    |\n",
       "+-------------+\n",
       "| (intercept) |\n",
       "|     baby    |\n",
       "|     one     |\n",
       "|    great    |\n",
       "|     love    |\n",
       "|     use     |\n",
       "|    would    |\n",
       "|     like    |\n",
       "|     easy    |\n",
       "|    little   |\n",
       "+-------------+\n",
       "[194 rows x 1 columns]\n",
       "Note: Only the head of the SFrame is printed.\n",
       "You can use print_rows(num_rows=m, num_columns=n) to print more rows and columns."
      ]
     },
     "execution_count": 109,
     "metadata": {},
     "output_type": "execute_result"
    }
   ],
   "source": [
    "table = sframe.SFrame({'word': ['(intercept)'] + important_words})\n",
    "def add_coefficients_to_table(coefficients, column_name):\n",
    "    table[column_name] = coefficients\n",
    "    return table\n",
    "table"
   ]
  },
  {
   "cell_type": "markdown",
   "metadata": {
    "collapsed": true
   },
   "source": [
    "Now, let's run the function `add_coefficients_to_table` for each of the L2 penalty strengths."
   ]
  },
  {
   "cell_type": "code",
   "execution_count": 110,
   "metadata": {
    "collapsed": false
   },
   "outputs": [
    {
     "name": "stdout",
     "output_type": "stream",
     "text": [
      "+-------------+---------------------+---------------------+----------------------+\n",
      "|     word    | coefficients [L2=0] | coefficients [L2=4] | coefficients [L2=10] |\n",
      "+-------------+---------------------+---------------------+----------------------+\n",
      "| (intercept) |   -0.0637421352275  |   -0.0631430877074  |    -0.06225594377    |\n",
      "|     baby    |   0.0740730059216   |   0.0739938541405   |   0.0738773534804    |\n",
      "|     one     |   0.0127525057784   |   0.0124949704481   |   0.0121152529534    |\n",
      "|    great    |    0.801624989778   |    0.796896933003   |    0.789935147221    |\n",
      "|     love    |    1.05855398207    |    1.05085568099    |    1.03952851585     |\n",
      "|     use     |  -0.000104152191248 |  0.000162857656177  |  0.000555710975756   |\n",
      "|    would    |   -0.287021443534   |   -0.286027202975   |   -0.284564035562    |\n",
      "|     like    |  -0.00338447399293  |  -0.00344208577045  |  -0.00352729444966   |\n",
      "|     easy    |    0.984558819873   |    0.977600149782   |    0.967361836631    |\n",
      "|    little   |    0.524419456364   |    0.521384726107   |    0.516917392491    |\n",
      "+-------------+---------------------+---------------------+----------------------+\n",
      "+-----------------------+-----------------------+-----------------------+\n",
      "| coefficients [L2=1e2] | coefficients [L2=1e3] | coefficients [L2=1e5] |\n",
      "+-----------------------+-----------------------+-----------------------+\n",
      "|    -0.0504383651953   |   5.38675326959e-05   |    0.0113617511844    |\n",
      "|    0.0723603602218    |    0.0597516888364    |    0.0017841492163    |\n",
      "|    0.0072472833187    |   -0.00876091762004   |   -0.00182685568023   |\n",
      "|     0.701425073675    |     0.376011714222    |    0.00894956049736   |\n",
      "|     0.896644133101    |     0.418353644134    |    0.0090417372977    |\n",
      "|    0.00548103267946   |    0.0173264874461    |   0.000417863934616   |\n",
      "|    -0.265992746226    |    -0.188662422049    |    -0.008127027099    |\n",
      "|   -0.00463499283253   |   -0.00704307584353   |   -0.000826650270031  |\n",
      "|     0.838244832955    |     0.401903971363    |    0.0088076812121    |\n",
      "|     0.460234577902    |     0.251220653959    |    0.00594051364038   |\n",
      "+-----------------------+-----------------------+-----------------------+\n",
      "[194 rows x 7 columns]\n",
      "Note: Only the head of the SFrame is printed.\n",
      "You can use print_rows(num_rows=m, num_columns=n) to print more rows and columns.\n"
     ]
    }
   ],
   "source": [
    "add_coefficients_to_table(coefficients_0_penalty, 'coefficients [L2=0]')\n",
    "add_coefficients_to_table(coefficients_4_penalty, 'coefficients [L2=4]')\n",
    "add_coefficients_to_table(coefficients_10_penalty, 'coefficients [L2=10]')\n",
    "add_coefficients_to_table(coefficients_1e2_penalty, 'coefficients [L2=1e2]')\n",
    "add_coefficients_to_table(coefficients_1e3_penalty, 'coefficients [L2=1e3]')\n",
    "add_coefficients_to_table(coefficients_1e5_penalty, 'coefficients [L2=1e5]')\n",
    "print table"
   ]
  },
  {
   "cell_type": "markdown",
   "metadata": {},
   "source": [
    "Using **the coefficients trained with L2 penalty 0**, find the 5 most positive words (with largest positive coefficients). Save them to **positive_words**. Similarly, find the 5 most negative words (with largest negative coefficients) and save them to **negative_words**.\n",
    "\n",
    "**Quiz Question**. Which of the following is **not** listed in either **positive_words** or **negative_words**?"
   ]
  },
  {
   "cell_type": "code",
   "execution_count": 114,
   "metadata": {
    "collapsed": false
   },
   "outputs": [
    {
     "name": "stdout",
     "output_type": "stream",
     "text": [
      "+---------+---------------------+---------------------+----------------------+\n",
      "|   word  | coefficients [L2=0] | coefficients [L2=4] | coefficients [L2=10] |\n",
      "+---------+---------------------+---------------------+----------------------+\n",
      "|   love  |    1.05855398207    |    1.05085568099    |    1.03952851585     |\n",
      "|  loves  |     1.0524840478    |     1.0439029129    |    1.03126534689     |\n",
      "|   easy  |    0.984558819873   |    0.977600149782   |    0.967361836631    |\n",
      "| perfect |    0.835693207638   |    0.828554674791   |    0.818037837543    |\n",
      "|  great  |    0.801624989778   |    0.796896933003   |    0.789935147221    |\n",
      "+---------+---------------------+---------------------+----------------------+\n",
      "+-----------------------+-----------------------+-----------------------+\n",
      "| coefficients [L2=1e2] | coefficients [L2=1e3] | coefficients [L2=1e5] |\n",
      "+-----------------------+-----------------------+-----------------------+\n",
      "|     0.896644133101    |     0.418353644134    |    0.0090417372977    |\n",
      "|     0.870793974823    |     0.345870256629    |    0.00614988255574   |\n",
      "|     0.838244832955    |     0.401903971363    |    0.0088076812121    |\n",
      "|     0.684142944984    |     0.250613842662    |    0.00398880259473   |\n",
      "|     0.701425073675    |     0.376011714222    |    0.00894956049736   |\n",
      "+-----------------------+-----------------------+-----------------------+\n",
      "[5 rows x 7 columns]\n",
      "\n",
      "+----------+---------------------+---------------------+----------------------+\n",
      "|   word   | coefficients [L2=0] | coefficients [L2=4] | coefficients [L2=10] |\n",
      "+----------+---------------------+---------------------+----------------------+\n",
      "|  broke   |   -0.555195064314   |   -0.550209246668   |   -0.542860583496    |\n",
      "| returned |   -0.572707045158   |   -0.567518485488   |   -0.559869849159    |\n",
      "|  waste   |   -0.617809177981   |   -0.612474509202   |   -0.604620251885    |\n",
      "|  return  |   -0.742084954635   |   -0.735502400721   |   -0.725806566686    |\n",
      "|  money   |   -0.768793134612   |    -0.7627339764    |   -0.753818293984    |\n",
      "+----------+---------------------+---------------------+----------------------+\n",
      "+-----------------------+-----------------------+-----------------------+\n",
      "| coefficients [L2=1e2] | coefficients [L2=1e3] | coefficients [L2=1e5] |\n",
      "+-----------------------+-----------------------+-----------------------+\n",
      "|    -0.448988883918    |    -0.148726160284    |    -0.002182334445    |\n",
      "|    -0.462055679434    |    -0.150020947192    |   -0.00222463654763   |\n",
      "|    -0.505188757944    |    -0.190630653022    |    -0.0033449007795   |\n",
      "|    -0.602646356287    |    -0.215198523786    |   -0.00372969092473   |\n",
      "|    -0.641405752481    |    -0.275883373915    |   -0.00548721045509   |\n",
      "+-----------------------+-----------------------+-----------------------+\n",
      "[5 rows x 7 columns]\n",
      "\n"
     ]
    }
   ],
   "source": [
    "#products.column_names()\n",
    "#word_coefficent_tuples = [(word, coefficient) for word, coefficient in zip(important_words,coefficients_0_penalty) ]\n",
    "#word_coefficent_tuples = sorted(word_coefficent_tuples, key=lambda x:x[1], reverse=True)\n",
    "#print word_coefficent_tuples\n",
    "#positive_words =  list(zip(*word_coefficent_tuples[0:5])[0])\n",
    "#negative_words =  list(zip(*word_coefficent_tuples[188:193])[0])\n",
    "#print \"Positive words=====\\n\", positive_words\n",
    "#print \"Negatives====\\n\", negative_words\n",
    "\n",
    "sorted = table.sort('coefficients [L2=0]', ascending=False)\n",
    "print sorted[0:5]\n",
    "print sorted[188:193]"
   ]
  },
  {
   "cell_type": "markdown",
   "metadata": {},
   "source": [
    "Let us observe the effect of increasing L2 penalty on the 10 words just selected. We provide you with a utility function to  plot the coefficient path."
   ]
  },
  {
   "cell_type": "code",
   "execution_count": 89,
   "metadata": {
    "collapsed": false
   },
   "outputs": [],
   "source": [
    "import matplotlib.pyplot as plt\n",
    "%matplotlib inline\n",
    "plt.rcParams['figure.figsize'] = 10, 6\n",
    "\n",
    "def make_coefficient_plot(table, positive_words, negative_words, l2_penalty_list):\n",
    "    cmap_positive = plt.get_cmap('Reds')\n",
    "    cmap_negative = plt.get_cmap('Blues')\n",
    "    \n",
    "    xx = l2_penalty_list\n",
    "    plt.plot(xx, [0.]*len(xx), '--', lw=1, color='k')\n",
    "    \n",
    "    table_positive_words = table.filter_by(column_name='word', values=positive_words)\n",
    "    table_negative_words = table.filter_by(column_name='word', values=negative_words)\n",
    "    del table_positive_words['word']\n",
    "    del table_negative_words['word']\n",
    "    \n",
    "    for i in xrange(len(positive_words)):\n",
    "        color = cmap_positive(0.8*((i+1)/(len(positive_words)*1.2)+0.15))\n",
    "        plt.plot(xx, table_positive_words[i:i+1].to_numpy().flatten(),\n",
    "                 '-', label=positive_words[i], linewidth=4.0, color=color)\n",
    "        \n",
    "    for i in xrange(len(negative_words)):\n",
    "        color = cmap_negative(0.8*((i+1)/(len(negative_words)*1.2)+0.15))\n",
    "        plt.plot(xx, table_negative_words[i:i+1].to_numpy().flatten(),\n",
    "                 '-', label=negative_words[i], linewidth=4.0, color=color)\n",
    "        \n",
    "    plt.legend(loc='best', ncol=3, prop={'size':16}, columnspacing=0.5)\n",
    "    plt.axis([1, 1e5, -1, 2])\n",
    "    plt.title('Coefficient path')\n",
    "    plt.xlabel('L2 penalty ($\\lambda$)')\n",
    "    plt.ylabel('Coefficient value')\n",
    "    plt.xscale('log')\n",
    "    plt.rcParams.update({'font.size': 18})\n",
    "    plt.tight_layout()"
   ]
  },
  {
   "cell_type": "markdown",
   "metadata": {},
   "source": [
    "Run the following cell to generate the plot. Use the plot to answer the following quiz question."
   ]
  },
  {
   "cell_type": "code",
   "execution_count": 90,
   "metadata": {
    "collapsed": false
   },
   "outputs": [
    {
     "data": {
      "image/png": "[encoded data removed]",
      "text/plain": [
       "<matplotlib.figure.Figure at 0x110f00e50>"
      ]
     },
     "metadata": {},
     "output_type": "display_data"
    }
   ],
   "source": [
    "make_coefficient_plot(table, positive_words, negative_words, l2_penalty_list=[0, 4, 10, 1e2, 1e3, 1e5])"
   ]
  },
  {
   "cell_type": "markdown",
   "metadata": {},
   "source": [
    "**Quiz Question**: (True/False) All coefficients consistently get smaller in size as the L2 penalty is increased.**True**\n",
    "\n",
    "**Quiz Question**: (True/False) The relative order of coefficients is preserved as the L2 penalty is increased. (For example, if the coefficient for 'cat' was more positive than that for 'dog', this remains true as the L2 penalty increases.)**True??**"
   ]
  },
  {
   "cell_type": "markdown",
   "metadata": {},
   "source": [
    "## Measuring accuracy\n",
    "\n",
    "Now, let us compute the accuracy of the classifier model. Recall that the accuracy is given by\n",
    "\n",
    "$$\n",
    "\\mbox{accuracy} = \\frac{\\mbox{# correctly classified data points}}{\\mbox{# total data points}}\n",
    "$$\n",
    "\n",
    "\n",
    "Recall from lecture that that the class prediction is calculated using\n",
    "$$\n",
    "\\hat{y}_i = \n",
    "\\left\\{\n",
    "\\begin{array}{ll}\n",
    "      +1 & h(\\mathbf{x}_i)^T\\mathbf{w} > 0 \\\\\n",
    "      -1 & h(\\mathbf{x}_i)^T\\mathbf{w} \\leq 0 \\\\\n",
    "\\end{array} \n",
    "\\right.\n",
    "$$\n",
    "\n",
    "**Note**: It is important to know that the model prediction code doesn't change even with the addition of an L2 penalty. The only thing that changes is the estimated coefficients used in this prediction.\n",
    "\n",
    "Based on the above, we will use the same code that was used in Module 3 assignment."
   ]
  },
  {
   "cell_type": "code",
   "execution_count": 91,
   "metadata": {
    "collapsed": true
   },
   "outputs": [],
   "source": [
    "def get_classification_accuracy(feature_matrix, sentiment, coefficients):\n",
    "    scores = np.dot(feature_matrix, coefficients)\n",
    "    apply_threshold = np.vectorize(lambda x: 1. if x > 0  else -1.)\n",
    "    predictions = apply_threshold(scores)\n",
    "    \n",
    "    num_correct = (predictions == sentiment).sum()\n",
    "    accuracy = num_correct / len(feature_matrix)    \n",
    "    return accuracy"
   ]
  },
  {
   "cell_type": "markdown",
   "metadata": {},
   "source": [
    "Below, we compare the accuracy on the **training data** and **validation data** for all the models that were trained in this assignment.  We first calculate the accuracy values and then build a simple report summarizing the performance for the various models."
   ]
  },
  {
   "cell_type": "code",
   "execution_count": 92,
   "metadata": {
    "collapsed": false
   },
   "outputs": [],
   "source": [
    "train_accuracy = {}\n",
    "train_accuracy[0]   = get_classification_accuracy(feature_matrix_train, sentiment_train, coefficients_0_penalty)\n",
    "train_accuracy[4]   = get_classification_accuracy(feature_matrix_train, sentiment_train, coefficients_4_penalty)\n",
    "train_accuracy[10]  = get_classification_accuracy(feature_matrix_train, sentiment_train, coefficients_10_penalty)\n",
    "train_accuracy[1e2] = get_classification_accuracy(feature_matrix_train, sentiment_train, coefficients_1e2_penalty)\n",
    "train_accuracy[1e3] = get_classification_accuracy(feature_matrix_train, sentiment_train, coefficients_1e3_penalty)\n",
    "train_accuracy[1e5] = get_classification_accuracy(feature_matrix_train, sentiment_train, coefficients_1e5_penalty)\n",
    "\n",
    "validation_accuracy = {}\n",
    "validation_accuracy[0]   = get_classification_accuracy(feature_matrix_valid, sentiment_valid, coefficients_0_penalty)\n",
    "validation_accuracy[4]   = get_classification_accuracy(feature_matrix_valid, sentiment_valid, coefficients_4_penalty)\n",
    "validation_accuracy[10]  = get_classification_accuracy(feature_matrix_valid, sentiment_valid, coefficients_10_penalty)\n",
    "validation_accuracy[1e2] = get_classification_accuracy(feature_matrix_valid, sentiment_valid, coefficients_1e2_penalty)\n",
    "validation_accuracy[1e3] = get_classification_accuracy(feature_matrix_valid, sentiment_valid, coefficients_1e3_penalty)\n",
    "validation_accuracy[1e5] = get_classification_accuracy(feature_matrix_valid, sentiment_valid, coefficients_1e5_penalty)"
   ]
  },
  {
   "cell_type": "code",
   "execution_count": 93,
   "metadata": {
    "collapsed": false
   },
   "outputs": [
    {
     "name": "stdout",
     "output_type": "stream",
     "text": [
      "L2 penalty = 0\n",
      "train accuracy = 0.785156157787, validation_accuracy = 0.78143964149\n",
      "--------------------------------------------------------------------------------\n",
      "L2 penalty = 4\n",
      "train accuracy = 0.785108944548, validation_accuracy = 0.781533003454\n",
      "--------------------------------------------------------------------------------\n",
      "L2 penalty = 10\n",
      "train accuracy = 0.784990911452, validation_accuracy = 0.781719727383\n",
      "--------------------------------------------------------------------------------\n",
      "L2 penalty = 100\n",
      "train accuracy = 0.783975826822, validation_accuracy = 0.781066193633\n",
      "--------------------------------------------------------------------------------\n",
      "L2 penalty = 1000\n",
      "train accuracy = 0.775855149784, validation_accuracy = 0.771356549342\n",
      "--------------------------------------------------------------------------------\n",
      "L2 penalty = 100000\n",
      "train accuracy = 0.680366374731, validation_accuracy = 0.667818130893\n",
      "--------------------------------------------------------------------------------\n"
     ]
    }
   ],
   "source": [
    "# Build a simple report\n",
    "for key in sorted(validation_accuracy.keys()):\n",
    "    print \"L2 penalty = %g\" % key\n",
    "    print \"train accuracy = %s, validation_accuracy = %s\" % (train_accuracy[key], validation_accuracy[key])\n",
    "    print \"--------------------------------------------------------------------------------\""
   ]
  },
  {
   "cell_type": "markdown",
   "metadata": {},
   "source": [
    "* **Quiz question**: Which model (L2 = 0, 4, 10, 100, 1e3, 1e5) has the **highest** accuracy on the **training** data?**L2=0**\n",
    "* **Quiz question**: Which model (L2 = 0, 4, 10, 100, 1e3, 1e5) has the **highest** accuracy on the **validation** data?**L2=10**\n",
    "* **Quiz question**: Does the **highest** accuracy on the **training** data imply that the model is the best one?**NO**"
   ]
  },
  {
   "cell_type": "code",
   "execution_count": null,
   "metadata": {
    "collapsed": true
   },
   "outputs": [],
   "source": []
  }
 ],
 "metadata": {
  "kernelspec": {
   "display_name": "Python 2",
   "language": "python",
   "name": "python2"
  },
  "language_info": {
   "codemirror_mode": {
    "name": "ipython",
    "version": 2
   },
   "file_extension": ".py",
   "mimetype": "text/x-python",
   "name": "python",
   "nbconvert_exporter": "python",
   "pygments_lexer": "ipython2",
   "version": "2.7.12"
  }
 },
 "nbformat": 4,
 "nbformat_minor": 0
}
