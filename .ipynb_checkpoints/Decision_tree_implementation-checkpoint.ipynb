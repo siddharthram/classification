{
 "cells": [
  {
   "cell_type": "code",
   "execution_count": 576,
   "metadata": {
    "collapsed": true
   },
   "outputs": [],
   "source": [
    "import pandas as pd\n",
    "import sklearn, sklearn.tree, numpy\n",
    "import graphviz"
   ]
  },
  {
   "cell_type": "code",
   "execution_count": 577,
   "metadata": {
    "collapsed": false
   },
   "outputs": [],
   "source": [
    "loandata = pd.read_csv('data/lending-club-data.csv', dtype={'url':'string', 'next_pymnt_d':'string'})"
   ]
  },
  {
   "cell_type": "code",
   "execution_count": 578,
   "metadata": {
    "collapsed": false
   },
   "outputs": [],
   "source": [
    "loandata['safe_loan'] = loandata['bad_loans'].apply(lambda x: +1 if x==0 else -1)"
   ]
  },
  {
   "cell_type": "code",
   "execution_count": 579,
   "metadata": {
    "collapsed": false,
    "scrolled": true
   },
   "outputs": [
    {
     "data": {
      "text/plain": [
       "array(['id', 'member_id', 'loan_amnt', 'funded_amnt', 'funded_amnt_inv',\n",
       "       'term', 'int_rate', 'installment', 'grade', 'sub_grade',\n",
       "       'emp_title', 'emp_length', 'home_ownership', 'annual_inc',\n",
       "       'is_inc_v', 'issue_d', 'loan_status', 'pymnt_plan', 'url', 'desc',\n",
       "       'purpose', 'title', 'zip_code', 'addr_state', 'dti', 'delinq_2yrs',\n",
       "       'earliest_cr_line', 'inq_last_6mths', 'mths_since_last_delinq',\n",
       "       'mths_since_last_record', 'open_acc', 'pub_rec', 'revol_bal',\n",
       "       'revol_util', 'total_acc', 'initial_list_status', 'out_prncp',\n",
       "       'out_prncp_inv', 'total_pymnt', 'total_pymnt_inv',\n",
       "       'total_rec_prncp', 'total_rec_int', 'total_rec_late_fee',\n",
       "       'recoveries', 'collection_recovery_fee', 'last_pymnt_d',\n",
       "       'last_pymnt_amnt', 'next_pymnt_d', 'last_credit_pull_d',\n",
       "       'collections_12_mths_ex_med', 'mths_since_last_major_derog',\n",
       "       'policy_code', 'not_compliant', 'status', 'inactive_loans',\n",
       "       'emp_length_num', 'grade_num', 'sub_grade_num', 'delinq_2yrs_zero',\n",
       "       'pub_rec_zero', 'collections_12_mths_zero', 'short_emp',\n",
       "       'payment_inc_ratio', 'final_d', 'last_delinq_none',\n",
       "       'last_record_none', 'last_major_derog_none', 'safe_loan'], dtype=object)"
      ]
     },
     "execution_count": 579,
     "metadata": {},
     "output_type": "execute_result"
    }
   ],
   "source": [
    "loandata = loandata.drop('bad_loans',1)\n",
    "loandata.columns.values"
   ]
  },
  {
   "cell_type": "code",
   "execution_count": 580,
   "metadata": {
    "collapsed": true
   },
   "outputs": [],
   "source": [
    "features = ['grade',              # grade of the loan\n",
    "            'term',               # the term of the loan\n",
    "            'home_ownership',     # home_ownership status: own, mortgage or rent\n",
    "            'emp_length',         # number of years of employment\n",
    "           ]\n",
    "target = 'safe_loan'"
   ]
  },
  {
   "cell_type": "code",
   "execution_count": 581,
   "metadata": {
    "collapsed": false
   },
   "outputs": [
    {
     "name": "stdout",
     "output_type": "stream",
     "text": [
      "  grade        term home_ownership emp_length  safe_loan\n",
      "0     B   36 months           RENT  10+ years          1\n",
      "1     C   60 months           RENT   < 1 year         -1\n",
      "2     C   36 months           RENT  10+ years          1\n",
      "3     C   36 months           RENT  10+ years          1\n",
      "4     A   36 months           RENT    3 years          1\n",
      "['grade' 'term' 'home_ownership' 'emp_length' 'safe_loan']\n"
     ]
    }
   ],
   "source": [
    "loandata = loandata[features + [target]]\n",
    "#loandata = loandata[features]\n",
    "print loandata.head()\n",
    "print loandata.columns.values"
   ]
  },
  {
   "cell_type": "code",
   "execution_count": 582,
   "metadata": {
    "collapsed": false
   },
   "outputs": [
    {
     "name": "stdout",
     "output_type": "stream",
     "text": [
      "['safe_loan' 'grade_A' 'grade_B' 'grade_C' 'grade_D' 'grade_E' 'grade_F'\n",
      " 'grade_G' 'term_ 36 months' 'term_ 60 months' 'home_ownership_MORTGAGE'\n",
      " 'home_ownership_OTHER' 'home_ownership_OWN' 'home_ownership_RENT'\n",
      " 'emp_length_1 year' 'emp_length_10+ years' 'emp_length_2 years'\n",
      " 'emp_length_3 years' 'emp_length_4 years' 'emp_length_5 years'\n",
      " 'emp_length_6 years' 'emp_length_7 years' 'emp_length_8 years'\n",
      " 'emp_length_9 years' 'emp_length_< 1 year' 'emp_length_n/a']\n"
     ]
    }
   ],
   "source": [
    "# one hot encoding converts the data aset into machine splittable version so we are not deailing\n",
    "# with strings\n",
    "loans_ohe = pd.get_dummies(loandata)\n",
    "loans_ohe.head()\n",
    "ohe_features= loans_ohe.columns.values\n",
    "type(ohe_features)\n",
    "print ohe_features"
   ]
  },
  {
   "cell_type": "code",
   "execution_count": 583,
   "metadata": {
    "collapsed": false
   },
   "outputs": [],
   "source": [
    "#load the train and validation idx files downloaded\n",
    "import json\n",
    "\n",
    "with open('data/module-5-assignment-2-train-idx.json', 'r') as f: # Reads the list of most frequent words\n",
    "    train_idx = json.load(f)\n",
    "f.close()\n",
    "\n",
    "with open('data/module-5-assignment-2-test-idx.json','r') as f:\n",
    "    test_idx = json.load(f)\n",
    "f.close()"
   ]
  },
  {
   "cell_type": "code",
   "execution_count": 584,
   "metadata": {
    "collapsed": true
   },
   "outputs": [],
   "source": [
    "# select the specific samples from the training and validation set in the loans one hot encoded data\n",
    "train_data = loans_ohe.iloc[train_idx]\n",
    "test_data= loans_ohe.iloc[test_idx]"
   ]
  },
  {
   "cell_type": "code",
   "execution_count": 585,
   "metadata": {
    "collapsed": false
   },
   "outputs": [],
   "source": [
    "def intermediate_node_num_mistakes(labels_in_node):\n",
    "    #corner caseL if labes_in_node is empty, return 0\n",
    "    #print type(labels_in_node)\n",
    "    #print len(labels_in_node)\n",
    "    #print labels_in_node[0]\n",
    "    if len(labels_in_node) == 0:\n",
    "        return 0\n",
    "    # count the number of 1's (safe loans)\n",
    "    safe_loans = [x for x in labels_in_node if x == 1]\n",
    "\n",
    "    # count unsafe loans\n",
    "    unsafe_loans = filter(lambda x: x == -1, labels_in_node)\n",
    "    #print \"safe loans = %d unsafe loans = %d\" % (len(safe_loans), len(unsafe_loans))\n",
    "    return len(safe_loans) if  len(safe_loans) < (len(unsafe_loans)) else len(unsafe_loans)\n",
    "    "
   ]
  },
  {
   "cell_type": "code",
   "execution_count": 586,
   "metadata": {
    "collapsed": false
   },
   "outputs": [
    {
     "name": "stdout",
     "output_type": "stream",
     "text": [
      "[-1 -1  1  1  1]\n",
      "Test passed!\n",
      "Test passed!\n",
      "Test passed!\n"
     ]
    }
   ],
   "source": [
    "# Test case 1\n",
    "example_labels = pd.DataFrame([-1, -1, 1, 1, 1]).values.flatten()\n",
    "print example_labels\n",
    "if intermediate_node_num_mistakes(example_labels) == 2:\n",
    "    print 'Test passed!'\n",
    "else:\n",
    "    print 'Test 1 failed... try again!'\n",
    "# Test case 2\n",
    "example_labels = pd.DataFrame([-1, -1, 1, 1, 1, 1, 1]).values.flatten()\n",
    "if intermediate_node_num_mistakes(example_labels) == 2:\n",
    "    print 'Test passed!'\n",
    "else:\n",
    "    print 'Test 3 failed... try again!'\n",
    "    \n",
    "# Test case 3\n",
    "example_labels = pd.DataFrame([-1, -1, -1, -1, -1, 1, 1]).values.flatten()\n",
    "if intermediate_node_num_mistakes(example_labels) == 2:\n",
    "    print 'Test passed!'\n",
    "else:\n",
    "    print 'Test 3 failed... try again!'"
   ]
  },
  {
   "cell_type": "code",
   "execution_count": 587,
   "metadata": {
    "collapsed": true
   },
   "outputs": [],
   "source": [
    "def best_splitting_feature(data,features,target):\n",
    "    target_values = data[target]\n",
    "    best_feature = None\n",
    "    best_error = 10\n",
    "    \n",
    "    #convert to float\n",
    "    num_data_points = float(len(data))\n",
    "    mfeatures = numpy.delete(features,0)\n",
    "    #consider each feature to decide what to split on\n",
    "    for feature in mfeatures:\n",
    "        \n",
    "        left_split = data[data[feature] == 0]\n",
    "        #print left_split[target]\n",
    "        \n",
    "        right_split = data[data[feature] == 1]\n",
    "        \n",
    "        #left side misclassicifed\n",
    "        \n",
    "        left_mistakes = intermediate_node_num_mistakes(left_split[target])\n",
    "        \n",
    "        right_mistakes = intermediate_node_num_mistakes(right_split[target])\n",
    "        \n",
    "        error = (left_mistakes + right_mistakes)/num_data_points\n",
    "        #print \"error %f feature %s\" % (error, feature)\n",
    "        if error < best_error:\n",
    "            print \"setting best feature to %s for error %f\" %(feature, error)\n",
    "            best_error = error\n",
    "            best_feature = feature\n",
    "        \n",
    "    print \"Best Feature is %s\" % best_feature        \n",
    "    return best_feature\n",
    "        \n",
    "        "
   ]
  },
  {
   "cell_type": "code",
   "execution_count": 588,
   "metadata": {
    "collapsed": true
   },
   "outputs": [],
   "source": [
    "def create_leaf(target_values):\n",
    "    #a leaf node\n",
    "    leaf = {'splitting_feature': None,\n",
    "            'left': None,\n",
    "            'right': None,\n",
    "            'is_leaf': True\n",
    "           }\n",
    "    # count the number of data points that are +1 and -1 in this node\n",
    "    \n",
    "    num_ones = len(target_values[target_values == +1])\n",
    "    num_minus_ones = len(target_values[target_values == -1])\n",
    "    \n",
    "    # for the leaf node, set the prediction to be the majority class\n",
    "    # store the prediced class (1 or -1) in leaf['prediction']\n",
    "    \n",
    "    if num_ones > num_minus_ones:\n",
    "        leaf['prediction'] = +1\n",
    "    else:\n",
    "        leaf['prediction'] = -1\n",
    "        \n",
    "    return leaf\n",
    "    "
   ]
  },
  {
   "cell_type": "code",
   "execution_count": 589,
   "metadata": {
    "collapsed": false
   },
   "outputs": [],
   "source": [
    "def decision_tree_create(data, features, target, current_depth = 0, max_depth = 10):\n",
    "    \n",
    "    target_values = data[target]\n",
    "    #data.drop(target,axis=1)\n",
    "    remaining_features = features[:] # Make a copy of the features.\n",
    "\n",
    "    print \"--------------------------------------------------------------------\"\n",
    "    print \"Subtree, depth = %s (%s data points).\" % (current_depth, len(target_values))\n",
    "    \n",
    "\n",
    "    # Stopping condition 1\n",
    "    # (Check if there are mistakes at current node.\n",
    "    # Recall you wrote a function intermediate_node_num_mistakes to compute this.)\n",
    "    if  len(target_values)== 0:  ## YOUR CODE HERE\n",
    "        print \"Stopping condition 1 reached.\"     \n",
    "        # If not mistakes at current node, make current node a leaf node\n",
    "        return create_leaf(target_values)\n",
    "    \n",
    "    # Stopping condition 2 (check if there are remaining features to consider splitting on)\n",
    "    if len(remaining_features) == 0 :   ## YOUR CODE HERE\n",
    "        print \"Stopping condition 2 reached.\"    \n",
    "        # If there are no remaining features to consider, make current node a leaf node\n",
    "        return create_leaf(target_values)    \n",
    "    \n",
    "    # Additional stopping condition (limit tree depth)\n",
    "    if current_depth >= max_depth :  ## YOUR CODE HERE\n",
    "        print \"Reached maximum depth. Stopping for now.\"\n",
    "        # If the max tree depth has been reached, make current node a leaf node\n",
    "        return create_leaf(target_values)\n",
    "\n",
    "    # Find the best splitting feature (recall the function best_splitting_feature implemented above)\n",
    "    ## YOUR CODE HERE\n",
    "    splitting_feature = best_splitting_feature(data,features,target)\n",
    "    print \"**** Splitting on %s\" % splitting_feature\n",
    "    # Split on the best feature that we found. \n",
    "    left_split  = data[data[splitting_feature] == 0]\n",
    "    right_split = data[data[splitting_feature] ==1]\n",
    "    #print splitting_feature\n",
    "    #print remaining_features\n",
    "    itemindex = numpy.where(remaining_features==splitting_feature)[0]\n",
    "    remaining_features = numpy.delete(remaining_features,itemindex[0])\n",
    "    print \"***\"\n",
    "    print \"splitting feature %s at index %d should be removed\" % (splitting_feature, itemindex[0])\n",
    "    print remaining_features\n",
    "    print \"***\"\n",
    "\n",
    "    #remaining_features.drop(splitting_feature)\n",
    "    print \"Split on feature %s. (%s, %s)\" % (\\\n",
    "                      splitting_feature, len(left_split), len(right_split))\n",
    "    \n",
    "    # Create a leaf node if the split is \"perfect\"\n",
    "    if len(left_split) == len(data):\n",
    "        print \"Creating leaf node.\"\n",
    "        return create_leaf(left_split[target])\n",
    "    if len(right_split) == len(data):\n",
    "        print \"Creating leaf node.\"\n",
    "        return create_leaf(right_split[target])\n",
    "        ## YOUR CODE HERE\n",
    "\n",
    "        \n",
    "    # Repeat (recurse) on left and right subtrees\n",
    "    left_tree = decision_tree_create(left_split, remaining_features, target, current_depth + 1, max_depth)        \n",
    "    ## YOUR CODE HERE\n",
    "    right_tree = decision_tree_create(right_split, remaining_features,target, current_depth+1, max_depth)\n",
    "\n",
    "    return {'is_leaf'          : False, \n",
    "            'prediction'       : None,\n",
    "            'splitting_feature': splitting_feature,\n",
    "            'left'             : left_tree, \n",
    "            'right'            : right_tree}"
   ]
  },
  {
   "cell_type": "code",
   "execution_count": 590,
   "metadata": {
    "collapsed": false
   },
   "outputs": [
    {
     "name": "stdout",
     "output_type": "stream",
     "text": [
      "--------------------------------------------------------------------\n",
      "Subtree, depth = 0 (37224 data points).\n",
      "setting best feature to grade_A for error 0.433430\n",
      "setting best feature to term_ 36 months for error 0.421637\n",
      "Best Feature is term_ 36 months\n",
      "**** Splitting on term_ 36 months\n",
      "***\n",
      "splitting feature term_ 36 months at index 8 should be removed\n",
      "['safe_loan' 'grade_A' 'grade_B' 'grade_C' 'grade_D' 'grade_E' 'grade_F'\n",
      " 'grade_G' 'term_ 60 months' 'home_ownership_MORTGAGE'\n",
      " 'home_ownership_OTHER' 'home_ownership_OWN' 'home_ownership_RENT'\n",
      " 'emp_length_1 year' 'emp_length_10+ years' 'emp_length_2 years'\n",
      " 'emp_length_3 years' 'emp_length_4 years' 'emp_length_5 years'\n",
      " 'emp_length_6 years' 'emp_length_7 years' 'emp_length_8 years'\n",
      " 'emp_length_9 years' 'emp_length_< 1 year' 'emp_length_n/a']\n",
      "***\n",
      "Split on feature term_ 36 months. (9223, 28001)\n",
      "--------------------------------------------------------------------\n",
      "Subtree, depth = 1 (9223 data points).\n",
      "setting best feature to grade_A for error 0.346742\n",
      "Best Feature is grade_A\n",
      "**** Splitting on grade_A\n",
      "***\n",
      "splitting feature grade_A at index 1 should be removed\n",
      "['safe_loan' 'grade_B' 'grade_C' 'grade_D' 'grade_E' 'grade_F' 'grade_G'\n",
      " 'term_ 60 months' 'home_ownership_MORTGAGE' 'home_ownership_OTHER'\n",
      " 'home_ownership_OWN' 'home_ownership_RENT' 'emp_length_1 year'\n",
      " 'emp_length_10+ years' 'emp_length_2 years' 'emp_length_3 years'\n",
      " 'emp_length_4 years' 'emp_length_5 years' 'emp_length_6 years'\n",
      " 'emp_length_7 years' 'emp_length_8 years' 'emp_length_9 years'\n",
      " 'emp_length_< 1 year' 'emp_length_n/a']\n",
      "***\n",
      "Split on feature grade_A. (9122, 101)\n",
      "--------------------------------------------------------------------\n",
      "Subtree, depth = 2 (9122 data points).\n",
      "setting best feature to grade_B for error 0.346306\n",
      "Best Feature is grade_B\n",
      "**** Splitting on grade_B\n",
      "***\n",
      "splitting feature grade_B at index 1 should be removed\n",
      "['safe_loan' 'grade_C' 'grade_D' 'grade_E' 'grade_F' 'grade_G'\n",
      " 'term_ 60 months' 'home_ownership_MORTGAGE' 'home_ownership_OTHER'\n",
      " 'home_ownership_OWN' 'home_ownership_RENT' 'emp_length_1 year'\n",
      " 'emp_length_10+ years' 'emp_length_2 years' 'emp_length_3 years'\n",
      " 'emp_length_4 years' 'emp_length_5 years' 'emp_length_6 years'\n",
      " 'emp_length_7 years' 'emp_length_8 years' 'emp_length_9 years'\n",
      " 'emp_length_< 1 year' 'emp_length_n/a']\n",
      "***\n",
      "Split on feature grade_B. (8074, 1048)\n",
      "--------------------------------------------------------------------\n",
      "Subtree, depth = 3 (8074 data points).\n",
      "setting best feature to grade_C for error 0.334159\n",
      "Best Feature is grade_C\n",
      "**** Splitting on grade_C\n",
      "***\n",
      "splitting feature grade_C at index 1 should be removed\n",
      "['safe_loan' 'grade_D' 'grade_E' 'grade_F' 'grade_G' 'term_ 60 months'\n",
      " 'home_ownership_MORTGAGE' 'home_ownership_OTHER' 'home_ownership_OWN'\n",
      " 'home_ownership_RENT' 'emp_length_1 year' 'emp_length_10+ years'\n",
      " 'emp_length_2 years' 'emp_length_3 years' 'emp_length_4 years'\n",
      " 'emp_length_5 years' 'emp_length_6 years' 'emp_length_7 years'\n",
      " 'emp_length_8 years' 'emp_length_9 years' 'emp_length_< 1 year'\n",
      " 'emp_length_n/a']\n",
      "***\n",
      "Split on feature grade_C. (5884, 2190)\n",
      "--------------------------------------------------------------------\n",
      "Subtree, depth = 4 (5884 data points).\n",
      "setting best feature to grade_D for error 0.303195\n",
      "Best Feature is grade_D\n",
      "**** Splitting on grade_D\n",
      "***\n",
      "splitting feature grade_D at index 1 should be removed\n",
      "['safe_loan' 'grade_E' 'grade_F' 'grade_G' 'term_ 60 months'\n",
      " 'home_ownership_MORTGAGE' 'home_ownership_OTHER' 'home_ownership_OWN'\n",
      " 'home_ownership_RENT' 'emp_length_1 year' 'emp_length_10+ years'\n",
      " 'emp_length_2 years' 'emp_length_3 years' 'emp_length_4 years'\n",
      " 'emp_length_5 years' 'emp_length_6 years' 'emp_length_7 years'\n",
      " 'emp_length_8 years' 'emp_length_9 years' 'emp_length_< 1 year'\n",
      " 'emp_length_n/a']\n",
      "***\n",
      "Split on feature grade_D. (3826, 2058)\n",
      "--------------------------------------------------------------------\n",
      "Subtree, depth = 5 (3826 data points).\n",
      "setting best feature to grade_E for error 0.277313\n",
      "Best Feature is grade_E\n",
      "**** Splitting on grade_E\n",
      "***\n",
      "splitting feature grade_E at index 1 should be removed\n",
      "['safe_loan' 'grade_F' 'grade_G' 'term_ 60 months'\n",
      " 'home_ownership_MORTGAGE' 'home_ownership_OTHER' 'home_ownership_OWN'\n",
      " 'home_ownership_RENT' 'emp_length_1 year' 'emp_length_10+ years'\n",
      " 'emp_length_2 years' 'emp_length_3 years' 'emp_length_4 years'\n",
      " 'emp_length_5 years' 'emp_length_6 years' 'emp_length_7 years'\n",
      " 'emp_length_8 years' 'emp_length_9 years' 'emp_length_< 1 year'\n",
      " 'emp_length_n/a']\n",
      "***\n",
      "Split on feature grade_E. (1693, 2133)\n",
      "--------------------------------------------------------------------\n",
      "Subtree, depth = 6 (1693 data points).\n",
      "Reached maximum depth. Stopping for now.\n",
      "--------------------------------------------------------------------\n",
      "Subtree, depth = 6 (2133 data points).\n",
      "Reached maximum depth. Stopping for now.\n",
      "--------------------------------------------------------------------\n",
      "Subtree, depth = 5 (2058 data points).\n",
      "setting best feature to grade_E for error 0.351312\n",
      "Best Feature is grade_E\n",
      "**** Splitting on grade_E\n",
      "***\n",
      "splitting feature grade_E at index 1 should be removed\n",
      "['safe_loan' 'grade_F' 'grade_G' 'term_ 60 months'\n",
      " 'home_ownership_MORTGAGE' 'home_ownership_OTHER' 'home_ownership_OWN'\n",
      " 'home_ownership_RENT' 'emp_length_1 year' 'emp_length_10+ years'\n",
      " 'emp_length_2 years' 'emp_length_3 years' 'emp_length_4 years'\n",
      " 'emp_length_5 years' 'emp_length_6 years' 'emp_length_7 years'\n",
      " 'emp_length_8 years' 'emp_length_9 years' 'emp_length_< 1 year'\n",
      " 'emp_length_n/a']\n",
      "***\n",
      "Split on feature grade_E. (2058, 0)\n",
      "Creating leaf node.\n",
      "--------------------------------------------------------------------\n",
      "Subtree, depth = 4 (2190 data points).\n",
      "setting best feature to grade_D for error 0.417352\n",
      "Best Feature is grade_D\n",
      "**** Splitting on grade_D\n",
      "***\n",
      "splitting feature grade_D at index 1 should be removed\n",
      "['safe_loan' 'grade_E' 'grade_F' 'grade_G' 'term_ 60 months'\n",
      " 'home_ownership_MORTGAGE' 'home_ownership_OTHER' 'home_ownership_OWN'\n",
      " 'home_ownership_RENT' 'emp_length_1 year' 'emp_length_10+ years'\n",
      " 'emp_length_2 years' 'emp_length_3 years' 'emp_length_4 years'\n",
      " 'emp_length_5 years' 'emp_length_6 years' 'emp_length_7 years'\n",
      " 'emp_length_8 years' 'emp_length_9 years' 'emp_length_< 1 year'\n",
      " 'emp_length_n/a']\n",
      "***\n",
      "Split on feature grade_D. (2190, 0)\n",
      "Creating leaf node.\n",
      "--------------------------------------------------------------------\n",
      "Subtree, depth = 3 (1048 data points).\n",
      "setting best feature to grade_C for error 0.439885\n",
      "setting best feature to emp_length_5 years for error 0.437023\n",
      "Best Feature is emp_length_5 years\n",
      "**** Splitting on emp_length_5 years\n",
      "***\n",
      "splitting feature emp_length_5 years at index 16 should be removed\n",
      "['safe_loan' 'grade_C' 'grade_D' 'grade_E' 'grade_F' 'grade_G'\n",
      " 'term_ 60 months' 'home_ownership_MORTGAGE' 'home_ownership_OTHER'\n",
      " 'home_ownership_OWN' 'home_ownership_RENT' 'emp_length_1 year'\n",
      " 'emp_length_10+ years' 'emp_length_2 years' 'emp_length_3 years'\n",
      " 'emp_length_4 years' 'emp_length_6 years' 'emp_length_7 years'\n",
      " 'emp_length_8 years' 'emp_length_9 years' 'emp_length_< 1 year'\n",
      " 'emp_length_n/a']\n",
      "***\n",
      "Split on feature emp_length_5 years. (969, 79)\n",
      "--------------------------------------------------------------------\n",
      "Subtree, depth = 4 (969 data points).\n",
      "setting best feature to grade_C for error 0.433437\n",
      "Best Feature is grade_C\n",
      "**** Splitting on grade_C\n",
      "***\n",
      "splitting feature grade_C at index 1 should be removed\n",
      "['safe_loan' 'grade_D' 'grade_E' 'grade_F' 'grade_G' 'term_ 60 months'\n",
      " 'home_ownership_MORTGAGE' 'home_ownership_OTHER' 'home_ownership_OWN'\n",
      " 'home_ownership_RENT' 'emp_length_1 year' 'emp_length_10+ years'\n",
      " 'emp_length_2 years' 'emp_length_3 years' 'emp_length_4 years'\n",
      " 'emp_length_6 years' 'emp_length_7 years' 'emp_length_8 years'\n",
      " 'emp_length_9 years' 'emp_length_< 1 year' 'emp_length_n/a']\n",
      "***\n",
      "Split on feature grade_C. (969, 0)\n",
      "Creating leaf node.\n",
      "--------------------------------------------------------------------\n",
      "Subtree, depth = 4 (79 data points).\n",
      "setting best feature to grade_C for error 0.481013\n",
      "setting best feature to home_ownership_MORTGAGE for error 0.468354\n",
      "Best Feature is home_ownership_MORTGAGE\n",
      "**** Splitting on home_ownership_MORTGAGE\n",
      "***\n",
      "splitting feature home_ownership_MORTGAGE at index 7 should be removed\n",
      "['safe_loan' 'grade_C' 'grade_D' 'grade_E' 'grade_F' 'grade_G'\n",
      " 'term_ 60 months' 'home_ownership_OTHER' 'home_ownership_OWN'\n",
      " 'home_ownership_RENT' 'emp_length_1 year' 'emp_length_10+ years'\n",
      " 'emp_length_2 years' 'emp_length_3 years' 'emp_length_4 years'\n",
      " 'emp_length_6 years' 'emp_length_7 years' 'emp_length_8 years'\n",
      " 'emp_length_9 years' 'emp_length_< 1 year' 'emp_length_n/a']\n",
      "***\n",
      "Split on feature home_ownership_MORTGAGE. (34, 45)\n",
      "--------------------------------------------------------------------\n",
      "Subtree, depth = 5 (34 data points).\n",
      "setting best feature to grade_C for error 0.441176\n",
      "Best Feature is grade_C\n",
      "**** Splitting on grade_C\n",
      "***\n",
      "splitting feature grade_C at index 1 should be removed\n",
      "['safe_loan' 'grade_D' 'grade_E' 'grade_F' 'grade_G' 'term_ 60 months'\n",
      " 'home_ownership_OTHER' 'home_ownership_OWN' 'home_ownership_RENT'\n",
      " 'emp_length_1 year' 'emp_length_10+ years' 'emp_length_2 years'\n",
      " 'emp_length_3 years' 'emp_length_4 years' 'emp_length_6 years'\n",
      " 'emp_length_7 years' 'emp_length_8 years' 'emp_length_9 years'\n",
      " 'emp_length_< 1 year' 'emp_length_n/a']\n",
      "***\n",
      "Split on feature grade_C. (34, 0)\n",
      "Creating leaf node.\n",
      "--------------------------------------------------------------------\n",
      "Subtree, depth = 5 (45 data points).\n",
      "setting best feature to grade_C for error 0.488889\n",
      "Best Feature is grade_C\n",
      "**** Splitting on grade_C\n",
      "***\n",
      "splitting feature grade_C at index 1 should be removed\n",
      "['safe_loan' 'grade_D' 'grade_E' 'grade_F' 'grade_G' 'term_ 60 months'\n",
      " 'home_ownership_OTHER' 'home_ownership_OWN' 'home_ownership_RENT'\n",
      " 'emp_length_1 year' 'emp_length_10+ years' 'emp_length_2 years'\n",
      " 'emp_length_3 years' 'emp_length_4 years' 'emp_length_6 years'\n",
      " 'emp_length_7 years' 'emp_length_8 years' 'emp_length_9 years'\n",
      " 'emp_length_< 1 year' 'emp_length_n/a']\n",
      "***\n",
      "Split on feature grade_C. (45, 0)\n",
      "Creating leaf node.\n",
      "--------------------------------------------------------------------\n",
      "Subtree, depth = 2 (101 data points).\n",
      "setting best feature to grade_B for error 0.386139\n",
      "setting best feature to emp_length_< 1 year for error 0.376238\n",
      "setting best feature to emp_length_n/a for error 0.356436\n",
      "Best Feature is emp_length_n/a\n",
      "**** Splitting on emp_length_n/a\n",
      "***\n",
      "splitting feature emp_length_n/a at index 23 should be removed\n",
      "['safe_loan' 'grade_B' 'grade_C' 'grade_D' 'grade_E' 'grade_F' 'grade_G'\n",
      " 'term_ 60 months' 'home_ownership_MORTGAGE' 'home_ownership_OTHER'\n",
      " 'home_ownership_OWN' 'home_ownership_RENT' 'emp_length_1 year'\n",
      " 'emp_length_10+ years' 'emp_length_2 years' 'emp_length_3 years'\n",
      " 'emp_length_4 years' 'emp_length_5 years' 'emp_length_6 years'\n",
      " 'emp_length_7 years' 'emp_length_8 years' 'emp_length_9 years'\n",
      " 'emp_length_< 1 year']\n",
      "***\n",
      "Split on feature emp_length_n/a. (96, 5)\n",
      "--------------------------------------------------------------------\n",
      "Subtree, depth = 3 (96 data points).\n",
      "setting best feature to grade_B for error 0.364583\n",
      "setting best feature to emp_length_< 1 year for error 0.354167\n",
      "Best Feature is emp_length_< 1 year\n",
      "**** Splitting on emp_length_< 1 year\n",
      "***\n",
      "splitting feature emp_length_< 1 year at index 22 should be removed\n",
      "['safe_loan' 'grade_B' 'grade_C' 'grade_D' 'grade_E' 'grade_F' 'grade_G'\n",
      " 'term_ 60 months' 'home_ownership_MORTGAGE' 'home_ownership_OTHER'\n",
      " 'home_ownership_OWN' 'home_ownership_RENT' 'emp_length_1 year'\n",
      " 'emp_length_10+ years' 'emp_length_2 years' 'emp_length_3 years'\n",
      " 'emp_length_4 years' 'emp_length_5 years' 'emp_length_6 years'\n",
      " 'emp_length_7 years' 'emp_length_8 years' 'emp_length_9 years']\n",
      "***\n",
      "Split on feature emp_length_< 1 year. (85, 11)\n",
      "--------------------------------------------------------------------\n",
      "Subtree, depth = 4 (85 data points).\n",
      "setting best feature to grade_B for error 0.341176\n",
      "Best Feature is grade_B\n",
      "**** Splitting on grade_B\n",
      "***\n",
      "splitting feature grade_B at index 1 should be removed\n",
      "['safe_loan' 'grade_C' 'grade_D' 'grade_E' 'grade_F' 'grade_G'\n",
      " 'term_ 60 months' 'home_ownership_MORTGAGE' 'home_ownership_OTHER'\n",
      " 'home_ownership_OWN' 'home_ownership_RENT' 'emp_length_1 year'\n",
      " 'emp_length_10+ years' 'emp_length_2 years' 'emp_length_3 years'\n",
      " 'emp_length_4 years' 'emp_length_5 years' 'emp_length_6 years'\n",
      " 'emp_length_7 years' 'emp_length_8 years' 'emp_length_9 years']\n",
      "***\n",
      "Split on feature grade_B. (85, 0)\n",
      "Creating leaf node.\n",
      "--------------------------------------------------------------------\n",
      "Subtree, depth = 4 (11 data points).\n",
      "setting best feature to grade_B for error 0.454545\n",
      "Best Feature is grade_B\n",
      "**** Splitting on grade_B\n",
      "***\n",
      "splitting feature grade_B at index 1 should be removed\n",
      "['safe_loan' 'grade_C' 'grade_D' 'grade_E' 'grade_F' 'grade_G'\n",
      " 'term_ 60 months' 'home_ownership_MORTGAGE' 'home_ownership_OTHER'\n",
      " 'home_ownership_OWN' 'home_ownership_RENT' 'emp_length_1 year'\n",
      " 'emp_length_10+ years' 'emp_length_2 years' 'emp_length_3 years'\n",
      " 'emp_length_4 years' 'emp_length_5 years' 'emp_length_6 years'\n",
      " 'emp_length_7 years' 'emp_length_8 years' 'emp_length_9 years']\n",
      "***\n",
      "Split on feature grade_B. (11, 0)\n",
      "Creating leaf node.\n",
      "--------------------------------------------------------------------\n",
      "Subtree, depth = 3 (5 data points).\n",
      "setting best feature to grade_B for error 0.200000\n",
      "Best Feature is grade_B\n",
      "**** Splitting on grade_B\n",
      "***\n",
      "splitting feature grade_B at index 1 should be removed\n",
      "['safe_loan' 'grade_C' 'grade_D' 'grade_E' 'grade_F' 'grade_G'\n",
      " 'term_ 60 months' 'home_ownership_MORTGAGE' 'home_ownership_OTHER'\n",
      " 'home_ownership_OWN' 'home_ownership_RENT' 'emp_length_1 year'\n",
      " 'emp_length_10+ years' 'emp_length_2 years' 'emp_length_3 years'\n",
      " 'emp_length_4 years' 'emp_length_5 years' 'emp_length_6 years'\n",
      " 'emp_length_7 years' 'emp_length_8 years' 'emp_length_9 years'\n",
      " 'emp_length_< 1 year']\n",
      "***\n",
      "Split on feature grade_B. (5, 0)\n",
      "Creating leaf node.\n",
      "--------------------------------------------------------------------\n",
      "Subtree, depth = 1 (28001 data points).\n",
      "setting best feature to grade_A for error 0.445484\n",
      "setting best feature to grade_C for error 0.443556\n",
      "setting best feature to grade_D for error 0.417592\n",
      "Best Feature is grade_D\n",
      "**** Splitting on grade_D\n",
      "***\n",
      "splitting feature grade_D at index 4 should be removed\n",
      "['safe_loan' 'grade_A' 'grade_B' 'grade_C' 'grade_E' 'grade_F' 'grade_G'\n",
      " 'term_ 60 months' 'home_ownership_MORTGAGE' 'home_ownership_OTHER'\n",
      " 'home_ownership_OWN' 'home_ownership_RENT' 'emp_length_1 year'\n",
      " 'emp_length_10+ years' 'emp_length_2 years' 'emp_length_3 years'\n",
      " 'emp_length_4 years' 'emp_length_5 years' 'emp_length_6 years'\n",
      " 'emp_length_7 years' 'emp_length_8 years' 'emp_length_9 years'\n",
      " 'emp_length_< 1 year' 'emp_length_n/a']\n",
      "***\n",
      "Split on feature grade_D. (23300, 4701)\n",
      "--------------------------------------------------------------------\n",
      "Subtree, depth = 2 (23300 data points).\n",
      "setting best feature to grade_A for error 0.417725\n",
      "setting best feature to grade_C for error 0.415408\n",
      "setting best feature to grade_E for error 0.403906\n",
      "Best Feature is grade_E\n",
      "**** Splitting on grade_E\n",
      "***\n",
      "splitting feature grade_E at index 4 should be removed\n",
      "['safe_loan' 'grade_A' 'grade_B' 'grade_C' 'grade_F' 'grade_G'\n",
      " 'term_ 60 months' 'home_ownership_MORTGAGE' 'home_ownership_OTHER'\n",
      " 'home_ownership_OWN' 'home_ownership_RENT' 'emp_length_1 year'\n",
      " 'emp_length_10+ years' 'emp_length_2 years' 'emp_length_3 years'\n",
      " 'emp_length_4 years' 'emp_length_5 years' 'emp_length_6 years'\n",
      " 'emp_length_7 years' 'emp_length_8 years' 'emp_length_9 years'\n",
      " 'emp_length_< 1 year' 'emp_length_n/a']\n",
      "***\n",
      "Split on feature grade_E. (22024, 1276)\n",
      "--------------------------------------------------------------------\n",
      "Subtree, depth = 3 (22024 data points).\n",
      "setting best feature to grade_A for error 0.405648\n",
      "setting best feature to grade_C for error 0.403197\n",
      "setting best feature to grade_F for error 0.399201\n",
      "Best Feature is grade_F\n",
      "**** Splitting on grade_F\n",
      "***\n",
      "splitting feature grade_F at index 4 should be removed\n",
      "['safe_loan' 'grade_A' 'grade_B' 'grade_C' 'grade_G' 'term_ 60 months'\n",
      " 'home_ownership_MORTGAGE' 'home_ownership_OTHER' 'home_ownership_OWN'\n",
      " 'home_ownership_RENT' 'emp_length_1 year' 'emp_length_10+ years'\n",
      " 'emp_length_2 years' 'emp_length_3 years' 'emp_length_4 years'\n",
      " 'emp_length_5 years' 'emp_length_6 years' 'emp_length_7 years'\n",
      " 'emp_length_8 years' 'emp_length_9 years' 'emp_length_< 1 year'\n",
      " 'emp_length_n/a']\n",
      "***\n",
      "Split on feature grade_F. (21666, 358)\n",
      "--------------------------------------------------------------------\n",
      "Subtree, depth = 4 (21666 data points).\n",
      "setting best feature to grade_A for error 0.400812\n",
      "setting best feature to grade_C for error 0.398320\n",
      "setting best feature to emp_length_n/a for error 0.396197\n",
      "Best Feature is emp_length_n/a\n",
      "**** Splitting on emp_length_n/a\n",
      "***\n",
      "splitting feature emp_length_n/a at index 21 should be removed\n",
      "['safe_loan' 'grade_A' 'grade_B' 'grade_C' 'grade_G' 'term_ 60 months'\n",
      " 'home_ownership_MORTGAGE' 'home_ownership_OTHER' 'home_ownership_OWN'\n",
      " 'home_ownership_RENT' 'emp_length_1 year' 'emp_length_10+ years'\n",
      " 'emp_length_2 years' 'emp_length_3 years' 'emp_length_4 years'\n",
      " 'emp_length_5 years' 'emp_length_6 years' 'emp_length_7 years'\n",
      " 'emp_length_8 years' 'emp_length_9 years' 'emp_length_< 1 year']\n",
      "***\n",
      "Split on feature emp_length_n/a. (20734, 932)\n",
      "--------------------------------------------------------------------\n",
      "Subtree, depth = 5 (20734 data points).\n",
      "setting best feature to grade_A for error 0.393942\n",
      "setting best feature to grade_G for error 0.391820\n",
      "Best Feature is grade_G\n",
      "**** Splitting on grade_G\n",
      "***\n",
      "splitting feature grade_G at index 4 should be removed\n",
      "['safe_loan' 'grade_A' 'grade_B' 'grade_C' 'term_ 60 months'\n",
      " 'home_ownership_MORTGAGE' 'home_ownership_OTHER' 'home_ownership_OWN'\n",
      " 'home_ownership_RENT' 'emp_length_1 year' 'emp_length_10+ years'\n",
      " 'emp_length_2 years' 'emp_length_3 years' 'emp_length_4 years'\n",
      " 'emp_length_5 years' 'emp_length_6 years' 'emp_length_7 years'\n",
      " 'emp_length_8 years' 'emp_length_9 years' 'emp_length_< 1 year']\n",
      "***\n",
      "Split on feature grade_G. (20638, 96)\n",
      "--------------------------------------------------------------------\n",
      "Subtree, depth = 6 (20638 data points).\n",
      "Reached maximum depth. Stopping for now.\n",
      "--------------------------------------------------------------------\n",
      "Subtree, depth = 6 (96 data points).\n",
      "Reached maximum depth. Stopping for now.\n",
      "--------------------------------------------------------------------\n",
      "Subtree, depth = 5 (932 data points).\n",
      "setting best feature to grade_A for error 0.386266\n",
      "Best Feature is grade_A\n",
      "**** Splitting on grade_A\n",
      "***\n",
      "splitting feature grade_A at index 1 should be removed\n",
      "['safe_loan' 'grade_B' 'grade_C' 'grade_G' 'term_ 60 months'\n",
      " 'home_ownership_MORTGAGE' 'home_ownership_OTHER' 'home_ownership_OWN'\n",
      " 'home_ownership_RENT' 'emp_length_1 year' 'emp_length_10+ years'\n",
      " 'emp_length_2 years' 'emp_length_3 years' 'emp_length_4 years'\n",
      " 'emp_length_5 years' 'emp_length_6 years' 'emp_length_7 years'\n",
      " 'emp_length_8 years' 'emp_length_9 years' 'emp_length_< 1 year']\n",
      "***\n",
      "Split on feature grade_A. (702, 230)\n",
      "--------------------------------------------------------------------\n",
      "Subtree, depth = 6 (702 data points).\n",
      "Reached maximum depth. Stopping for now.\n",
      "--------------------------------------------------------------------\n",
      "Subtree, depth = 6 (230 data points).\n",
      "Reached maximum depth. Stopping for now.\n",
      "--------------------------------------------------------------------\n",
      "Subtree, depth = 4 (358 data points).\n",
      "setting best feature to grade_A for error 0.301676\n",
      "setting best feature to emp_length_8 years for error 0.293296\n",
      "Best Feature is emp_length_8 years\n",
      "**** Splitting on emp_length_8 years\n",
      "***\n",
      "splitting feature emp_length_8 years at index 18 should be removed\n",
      "['safe_loan' 'grade_A' 'grade_B' 'grade_C' 'grade_G' 'term_ 60 months'\n",
      " 'home_ownership_MORTGAGE' 'home_ownership_OTHER' 'home_ownership_OWN'\n",
      " 'home_ownership_RENT' 'emp_length_1 year' 'emp_length_10+ years'\n",
      " 'emp_length_2 years' 'emp_length_3 years' 'emp_length_4 years'\n",
      " 'emp_length_5 years' 'emp_length_6 years' 'emp_length_7 years'\n",
      " 'emp_length_9 years' 'emp_length_< 1 year' 'emp_length_n/a']\n",
      "***\n",
      "Split on feature emp_length_8 years. (347, 11)\n",
      "--------------------------------------------------------------------\n",
      "Subtree, depth = 5 (347 data points).\n",
      "setting best feature to grade_A for error 0.291066\n",
      "Best Feature is grade_A\n",
      "**** Splitting on grade_A\n",
      "***\n",
      "splitting feature grade_A at index 1 should be removed\n",
      "['safe_loan' 'grade_B' 'grade_C' 'grade_G' 'term_ 60 months'\n",
      " 'home_ownership_MORTGAGE' 'home_ownership_OTHER' 'home_ownership_OWN'\n",
      " 'home_ownership_RENT' 'emp_length_1 year' 'emp_length_10+ years'\n",
      " 'emp_length_2 years' 'emp_length_3 years' 'emp_length_4 years'\n",
      " 'emp_length_5 years' 'emp_length_6 years' 'emp_length_7 years'\n",
      " 'emp_length_9 years' 'emp_length_< 1 year' 'emp_length_n/a']\n",
      "***\n",
      "Split on feature grade_A. (347, 0)\n",
      "Creating leaf node.\n",
      "--------------------------------------------------------------------\n",
      "Subtree, depth = 5 (11 data points).\n",
      "setting best feature to grade_A for error 0.363636\n",
      "setting best feature to home_ownership_OWN for error 0.181818\n",
      "Best Feature is home_ownership_OWN\n",
      "**** Splitting on home_ownership_OWN\n",
      "***\n",
      "splitting feature home_ownership_OWN at index 8 should be removed\n",
      "['safe_loan' 'grade_A' 'grade_B' 'grade_C' 'grade_G' 'term_ 60 months'\n",
      " 'home_ownership_MORTGAGE' 'home_ownership_OTHER' 'home_ownership_RENT'\n",
      " 'emp_length_1 year' 'emp_length_10+ years' 'emp_length_2 years'\n",
      " 'emp_length_3 years' 'emp_length_4 years' 'emp_length_5 years'\n",
      " 'emp_length_6 years' 'emp_length_7 years' 'emp_length_9 years'\n",
      " 'emp_length_< 1 year' 'emp_length_n/a']\n",
      "***\n",
      "Split on feature home_ownership_OWN. (9, 2)\n",
      "--------------------------------------------------------------------\n",
      "Subtree, depth = 6 (9 data points).\n",
      "Reached maximum depth. Stopping for now.\n",
      "--------------------------------------------------------------------\n",
      "Subtree, depth = 6 (2 data points).\n",
      "Reached maximum depth. Stopping for now.\n",
      "--------------------------------------------------------------------\n",
      "Subtree, depth = 3 (1276 data points).\n",
      "setting best feature to grade_A for error 0.373824\n",
      "Best Feature is grade_A\n",
      "**** Splitting on grade_A\n",
      "***\n",
      "splitting feature grade_A at index 1 should be removed\n",
      "['safe_loan' 'grade_B' 'grade_C' 'grade_F' 'grade_G' 'term_ 60 months'\n",
      " 'home_ownership_MORTGAGE' 'home_ownership_OTHER' 'home_ownership_OWN'\n",
      " 'home_ownership_RENT' 'emp_length_1 year' 'emp_length_10+ years'\n",
      " 'emp_length_2 years' 'emp_length_3 years' 'emp_length_4 years'\n",
      " 'emp_length_5 years' 'emp_length_6 years' 'emp_length_7 years'\n",
      " 'emp_length_8 years' 'emp_length_9 years' 'emp_length_< 1 year'\n",
      " 'emp_length_n/a']\n",
      "***\n",
      "Split on feature grade_A. (1276, 0)\n",
      "Creating leaf node.\n",
      "--------------------------------------------------------------------\n",
      "Subtree, depth = 2 (4701 data points).\n",
      "setting best feature to grade_A for error 0.416933\n",
      "Best Feature is grade_A\n",
      "**** Splitting on grade_A\n",
      "***\n",
      "splitting feature grade_A at index 1 should be removed\n",
      "['safe_loan' 'grade_B' 'grade_C' 'grade_E' 'grade_F' 'grade_G'\n",
      " 'term_ 60 months' 'home_ownership_MORTGAGE' 'home_ownership_OTHER'\n",
      " 'home_ownership_OWN' 'home_ownership_RENT' 'emp_length_1 year'\n",
      " 'emp_length_10+ years' 'emp_length_2 years' 'emp_length_3 years'\n",
      " 'emp_length_4 years' 'emp_length_5 years' 'emp_length_6 years'\n",
      " 'emp_length_7 years' 'emp_length_8 years' 'emp_length_9 years'\n",
      " 'emp_length_< 1 year' 'emp_length_n/a']\n",
      "***\n",
      "Split on feature grade_A. (4701, 0)\n",
      "Creating leaf node.\n"
     ]
    }
   ],
   "source": [
    "#print ohe_features\n",
    "#print type(ohe_features)\n",
    "#mfeatures = numpy.delete(ohe_features,0)\n",
    "#print mfeatures\n",
    "tree_model = decision_tree_create(train_data,ohe_features,target,max_depth=6)\n",
    "#remaining_features = ohe_features[:]\n",
    "#print len(remaining_features)"
   ]
  },
  {
   "cell_type": "code",
   "execution_count": 591,
   "metadata": {
    "collapsed": false
   },
   "outputs": [],
   "source": [
    "#left_split = train_data[train_data[ohe_features[1]] == 0]\n",
    "#print left_split\n",
    "#itemindex = numpy.where(ohe_features=='emp_length_n/a')[0]\n",
    "#print itemindex[0]\n",
    "##foo = ohe_features\n",
    "#print foo\n",
    "#foo = numpy.delete(foo,itemindex[0])\n",
    "#print foo\n",
    "#print test_data[24]"
   ]
  },
  {
   "cell_type": "code",
   "execution_count": 592,
   "metadata": {
    "collapsed": false
   },
   "outputs": [
    {
     "data": {
      "text/plain": [
       "safe_loan                 -1\n",
       "grade_A                    0\n",
       "grade_B                    0\n",
       "grade_C                    0\n",
       "grade_D                    1\n",
       "grade_E                    0\n",
       "grade_F                    0\n",
       "grade_G                    0\n",
       "term_ 36 months            0\n",
       "term_ 60 months            1\n",
       "home_ownership_MORTGAGE    0\n",
       "home_ownership_OTHER       0\n",
       "home_ownership_OWN         0\n",
       "home_ownership_RENT        1\n",
       "emp_length_1 year          0\n",
       "emp_length_10+ years       0\n",
       "emp_length_2 years         1\n",
       "emp_length_3 years         0\n",
       "emp_length_4 years         0\n",
       "emp_length_5 years         0\n",
       "emp_length_6 years         0\n",
       "emp_length_7 years         0\n",
       "emp_length_8 years         0\n",
       "emp_length_9 years         0\n",
       "emp_length_< 1 year        0\n",
       "emp_length_n/a             0\n",
       "Name: 24, dtype: float64"
      ]
     },
     "execution_count": 592,
     "metadata": {},
     "output_type": "execute_result"
    }
   ],
   "source": [
    "test_data.iloc[0]"
   ]
  },
  {
   "cell_type": "code",
   "execution_count": 593,
   "metadata": {
    "collapsed": true
   },
   "outputs": [],
   "source": [
    "def classify(tree,x, annotate = False):\n",
    "    # if the node is a leaf node\n",
    "    if tree['is_leaf']:\n",
    "        if annotate:\n",
    "            print \"at leaf, predicting %s\" % tree['prediction']\n",
    "        return tree['prediction']\n",
    "    else:\n",
    "        # split on feature\n",
    "        split_feature_value =x[tree['splitting_feature']]\n",
    "        if annotate:\n",
    "            print \"Split on %s=%s\" %(tree['splitting_feature'], split_feature_value)\n",
    "        if split_feature_value == 0:\n",
    "            return classify(tree['left'],x,annotate)\n",
    "        else:\n",
    "            return classify(tree['right'], x, annotate)\n",
    "        "
   ]
  },
  {
   "cell_type": "code",
   "execution_count": 594,
   "metadata": {
    "collapsed": false
   },
   "outputs": [
    {
     "name": "stdout",
     "output_type": "stream",
     "text": [
      "{'is_leaf': False, 'splitting_feature': 'term_ 36 months', 'right': {'is_leaf': False, 'splitting_feature': 'grade_D', 'right': {'is_leaf': True, 'splitting_feature': None, 'right': None, 'prediction': -1, 'left': None}, 'prediction': None, 'left': {'is_leaf': False, 'splitting_feature': 'grade_E', 'right': {'is_leaf': True, 'splitting_feature': None, 'right': None, 'prediction': -1, 'left': None}, 'prediction': None, 'left': {'is_leaf': False, 'splitting_feature': 'grade_F', 'right': {'is_leaf': False, 'splitting_feature': 'emp_length_8 years', 'right': {'is_leaf': False, 'splitting_feature': 'home_ownership_OWN', 'right': {'is_leaf': True, 'splitting_feature': None, 'right': None, 'prediction': -1, 'left': None}, 'prediction': None, 'left': {'is_leaf': True, 'splitting_feature': None, 'right': None, 'prediction': 1, 'left': None}}, 'prediction': None, 'left': {'is_leaf': True, 'splitting_feature': None, 'right': None, 'prediction': -1, 'left': None}}, 'prediction': None, 'left': {'is_leaf': False, 'splitting_feature': 'emp_length_n/a', 'right': {'is_leaf': False, 'splitting_feature': 'grade_A', 'right': {'is_leaf': True, 'splitting_feature': None, 'right': None, 'prediction': 1, 'left': None}, 'prediction': None, 'left': {'is_leaf': True, 'splitting_feature': None, 'right': None, 'prediction': -1, 'left': None}}, 'prediction': None, 'left': {'is_leaf': False, 'splitting_feature': 'grade_G', 'right': {'is_leaf': True, 'splitting_feature': None, 'right': None, 'prediction': -1, 'left': None}, 'prediction': None, 'left': {'is_leaf': True, 'splitting_feature': None, 'right': None, 'prediction': 1, 'left': None}}}}}}, 'prediction': None, 'left': {'is_leaf': False, 'splitting_feature': 'grade_A', 'right': {'is_leaf': False, 'splitting_feature': 'emp_length_n/a', 'right': {'is_leaf': True, 'splitting_feature': None, 'right': None, 'prediction': -1, 'left': None}, 'prediction': None, 'left': {'is_leaf': False, 'splitting_feature': 'emp_length_< 1 year', 'right': {'is_leaf': True, 'splitting_feature': None, 'right': None, 'prediction': -1, 'left': None}, 'prediction': None, 'left': {'is_leaf': True, 'splitting_feature': None, 'right': None, 'prediction': 1, 'left': None}}}, 'prediction': None, 'left': {'is_leaf': False, 'splitting_feature': 'grade_B', 'right': {'is_leaf': False, 'splitting_feature': 'emp_length_5 years', 'right': {'is_leaf': False, 'splitting_feature': 'home_ownership_MORTGAGE', 'right': {'is_leaf': True, 'splitting_feature': None, 'right': None, 'prediction': -1, 'left': None}, 'prediction': None, 'left': {'is_leaf': True, 'splitting_feature': None, 'right': None, 'prediction': 1, 'left': None}}, 'prediction': None, 'left': {'is_leaf': True, 'splitting_feature': None, 'right': None, 'prediction': -1, 'left': None}}, 'prediction': None, 'left': {'is_leaf': False, 'splitting_feature': 'grade_C', 'right': {'is_leaf': True, 'splitting_feature': None, 'right': None, 'prediction': -1, 'left': None}, 'prediction': None, 'left': {'is_leaf': False, 'splitting_feature': 'grade_D', 'right': {'is_leaf': True, 'splitting_feature': None, 'right': None, 'prediction': -1, 'left': None}, 'prediction': None, 'left': {'is_leaf': False, 'splitting_feature': 'grade_E', 'right': {'is_leaf': True, 'splitting_feature': None, 'right': None, 'prediction': -1, 'left': None}, 'prediction': None, 'left': {'is_leaf': True, 'splitting_feature': None, 'right': None, 'prediction': -1, 'left': None}}}}}}}\n",
      "Split on term_ 36 months=0.0\n",
      "Split on grade_A=0.0\n",
      "Split on grade_B=0.0\n",
      "Split on grade_C=0.0\n",
      "Split on grade_D=1.0\n",
      "at leaf, predicting -1\n",
      "predicted class: -1\n"
     ]
    }
   ],
   "source": [
    "#print test_data['emp_length_n/a']\n",
    "print tree_model\n",
    "print 'predicted class: %s'  % classify(tree_model, test_data.iloc[0], annotate=True)"
   ]
  },
  {
   "cell_type": "code",
   "execution_count": 595,
   "metadata": {
    "collapsed": false
   },
   "outputs": [
    {
     "name": "stdout",
     "output_type": "stream",
     "text": [
      "['safe_loan' 'grade_A' 'grade_B' 'grade_C' 'grade_D' 'grade_E' 'grade_F'\n",
      " 'grade_G' 'term_ 36 months' 'term_ 60 months' 'home_ownership_MORTGAGE'\n",
      " 'home_ownership_OTHER' 'home_ownership_OWN' 'home_ownership_RENT'\n",
      " 'emp_length_1 year' 'emp_length_10+ years' 'emp_length_2 years'\n",
      " 'emp_length_3 years' 'emp_length_4 years' 'emp_length_5 years'\n",
      " 'emp_length_6 years' 'emp_length_7 years' 'emp_length_8 years'\n",
      " 'emp_length_9 years' 'emp_length_< 1 year' 'emp_length_n/a']\n"
     ]
    }
   ],
   "source": [
    "print test_data.columns.values"
   ]
  },
  {
   "cell_type": "code",
   "execution_count": 596,
   "metadata": {
    "collapsed": false
   },
   "outputs": [],
   "source": [
    "def report_diff(x):\n",
    "    return x[0] if x[0] == x[1] else '{} | {}'.format(*x)\n",
    "\n",
    "def evaluate_classification_error(tree, data):\n",
    "    # Apply the classify(tree, x) to each row in your data\n",
    "    prediction = data.apply(lambda x: classify(tree, x), axis=1)\n",
    "     #data.apply (lambda x: sys.stdout.write(x), axis=1)\n",
    "    \n",
    "    # Once you've made the predictions, calculate the classification error and return it\n",
    "    ## YOUR CODE HERE\n",
    "    #print len(prediction)\n",
    "    # errors = prediction[prediction.isin(data['safe_loan'])]\n",
    "    #errors = pd.Series(numpy.intersect1d(pd.Series(prediction), pd.Series(data['safe_loan'])))\n",
    "    #print prediction\n",
    "    #print data['safe_loan']\n",
    "    #errors = pd.Series(list(set(prediction).intersection(set(data['safe_loan']))))\n",
    "    #print errors\n",
    "    #error = (prediction != data['safe_loan'])\n",
    "    #print error\n",
    "    #my_panel = pd.Panel(dict(prediction=prediction,safe=data['safe_loan']))\n",
    "    #print my_panel.apply(report_diff, axis=1)\n",
    "    #for i in prediction:\n",
    "    #    print prediction[i]\n",
    "    difference = numpy.where(prediction != data['safe_loan'])\n",
    "    print len(difference[0])\n",
    "    #print difference\n",
    "    #print type(prediction)\n",
    "    #df = pd.concat(prediction, data['safe_loan'])\n",
    "    #print df\n",
    "    print float(len(difference[0]))/float(len(data['safe_loan']))"
   ]
  },
  {
   "cell_type": "code",
   "execution_count": 597,
   "metadata": {
    "collapsed": false
   },
   "outputs": [
    {
     "name": "stdout",
     "output_type": "stream",
     "text": [
      "3563\n",
      "0.383778543731\n"
     ]
    }
   ],
   "source": [
    "\n",
    "evaluate_classification_error(tree_model, test_data)\n"
   ]
  },
  {
   "cell_type": "markdown",
   "metadata": {},
   "source": [
    "**What is the classification error - ? **0.48**"
   ]
  },
  {
   "cell_type": "code",
   "execution_count": 598,
   "metadata": {
    "collapsed": true
   },
   "outputs": [],
   "source": [
    "def print_stump(tree, name = 'root'):\n",
    "    split_name = tree['splitting_feature'] # split_name is something like 'term. 36 months'\n",
    "    print split_name\n",
    "    if split_name is None:\n",
    "        print \"(leaf, label: %s)\" % tree['prediction']\n",
    "        return None\n",
    "    #split_feature, split_value = split_name.split('.')\n",
    "    print '                       %s' % name\n",
    "    print '         |---------------|----------------|'\n",
    "    print '         |                                |'\n",
    "    print '         |                                |'\n",
    "    print '         |                                |'\n",
    "    print '  [{0} == 0]               [{0} == 1]    '.format(split_name)\n",
    "    print '         |                                |'\n",
    "    print '         |                                |'\n",
    "    print '         |                                |'\n",
    "    print '    (%s)                         (%s)' \\\n",
    "        % (('leaf, label: ' + str(tree['left']['prediction']) if tree['left']['is_leaf'] else 'subtree'),\n",
    "           ('leaf, label: ' + str(tree['right']['prediction']) if tree['right']['is_leaf'] else 'subtree'))"
   ]
  },
  {
   "cell_type": "code",
   "execution_count": 599,
   "metadata": {
    "collapsed": false
   },
   "outputs": [
    {
     "name": "stdout",
     "output_type": "stream",
     "text": [
      "term_ 36 months\n",
      "                       root\n",
      "         |---------------|----------------|\n",
      "         |                                |\n",
      "         |                                |\n",
      "         |                                |\n",
      "  [term_ 36 months == 0]               [term_ 36 months == 1]    \n",
      "         |                                |\n",
      "         |                                |\n",
      "         |                                |\n",
      "    (subtree)                         (subtree)\n"
     ]
    }
   ],
   "source": [
    "print_stump(tree_model)\n",
    "#print tree_model"
   ]
  },
  {
   "cell_type": "code",
   "execution_count": 600,
   "metadata": {
    "collapsed": false
   },
   "outputs": [
    {
     "name": "stdout",
     "output_type": "stream",
     "text": [
      "grade_A\n",
      "                       term_ 36 months\n",
      "         |---------------|----------------|\n",
      "         |                                |\n",
      "         |                                |\n",
      "         |                                |\n",
      "  [grade_A == 0]               [grade_A == 1]    \n",
      "         |                                |\n",
      "         |                                |\n",
      "         |                                |\n",
      "    (subtree)                         (subtree)\n"
     ]
    }
   ],
   "source": [
    "print_stump(tree_model['left'], tree_model['splitting_feature'])"
   ]
  },
  {
   "cell_type": "code",
   "execution_count": 601,
   "metadata": {
    "collapsed": false
   },
   "outputs": [
    {
     "name": "stdout",
     "output_type": "stream",
     "text": [
      "grade_B\n",
      "                       grade_A\n",
      "         |---------------|----------------|\n",
      "         |                                |\n",
      "         |                                |\n",
      "         |                                |\n",
      "  [grade_B == 0]               [grade_B == 1]    \n",
      "         |                                |\n",
      "         |                                |\n",
      "         |                                |\n",
      "    (subtree)                         (subtree)\n"
     ]
    }
   ],
   "source": [
    "print_stump(tree_model['left']['left'],tree_model['left']['splitting_feature'])"
   ]
  },
  {
   "cell_type": "code",
   "execution_count": null,
   "metadata": {
    "collapsed": true
   },
   "outputs": [],
   "source": [
    "\n",
    "\n"
   ]
  },
  {
   "cell_type": "code",
   "execution_count": null,
   "metadata": {
    "collapsed": true
   },
   "outputs": [],
   "source": []
  },
  {
   "cell_type": "code",
   "execution_count": null,
   "metadata": {
    "collapsed": true
   },
   "outputs": [],
   "source": []
  },
  {
   "cell_type": "code",
   "execution_count": null,
   "metadata": {
    "collapsed": true
   },
   "outputs": [],
   "source": []
  }
 ],
 "metadata": {
  "kernelspec": {
   "display_name": "Python 2",
   "language": "python",
   "name": "python2"
  },
  "language_info": {
   "codemirror_mode": {
    "name": "ipython",
    "version": 2
   },
   "file_extension": ".py",
   "mimetype": "text/x-python",
   "name": "python",
   "nbconvert_exporter": "python",
   "pygments_lexer": "ipython2",
   "version": "2.7.12"
  }
 },
 "nbformat": 4,
 "nbformat_minor": 0
}
